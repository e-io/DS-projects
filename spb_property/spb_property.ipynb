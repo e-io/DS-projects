{
 "cells": [
  {
   "cell_type": "markdown",
   "metadata": {
    "jp-MarkdownHeadingCollapsed": true,
    "tags": [],
    "toc": true
   },
   "source": [
    "<h1>Содержание<span class=\"tocSkip\"></span></h1>\n",
    "<div class=\"toc\"><ul class=\"toc-item\"><li><span><a href=\"#Введение\" data-toc-modified-id=\"Введение-1\"><span class=\"toc-item-num\">1&nbsp;&nbsp;</span>Введение</a></span></li><li><span><a href=\"#Изучение-данных-из-файла\" data-toc-modified-id=\"Изучение-данных-из-файла-2\"><span class=\"toc-item-num\">2&nbsp;&nbsp;</span>Изучение данных из файла</a></span><ul class=\"toc-item\"><li><span><a href=\"#Общий-обзор\" data-toc-modified-id=\"Общий-обзор-2.1\"><span class=\"toc-item-num\">2.1&nbsp;&nbsp;</span>Общий обзор</a></span></li><li><span><a href=\"#Изучение-данных-про-саму-квартиру\" data-toc-modified-id=\"Изучение-данных-про-саму-квартиру-2.2\"><span class=\"toc-item-num\">2.2&nbsp;&nbsp;</span>Изучение данных про саму квартиру</a></span></li><li><span><a href=\"#Изучение-данных-про-локацию\" data-toc-modified-id=\"Изучение-данных-про-локацию-2.3\"><span class=\"toc-item-num\">2.3&nbsp;&nbsp;</span>Изучение данных про локацию</a></span></li><li><span><a href=\"#Изучение-данных-про-само-объявление\" data-toc-modified-id=\"Изучение-данных-про-само-объявление-2.4\"><span class=\"toc-item-num\">2.4&nbsp;&nbsp;</span>Изучение данных про само объявление</a></span></li><li><span><a href=\"#Вывод\" data-toc-modified-id=\"Вывод-2.5\"><span class=\"toc-item-num\">2.5&nbsp;&nbsp;</span>Вывод</a></span></li></ul></li><li><span><a href=\"#Предобработка-данных\" data-toc-modified-id=\"Предобработка-данных-3\"><span class=\"toc-item-num\">3&nbsp;&nbsp;</span>Предобработка данных</a></span><ul class=\"toc-item\"><li><span><a href=\"#Заполнение-и-удаление-пропусков\" data-toc-modified-id=\"Заполнение-и-удаление-пропусков-3.1\"><span class=\"toc-item-num\">3.1&nbsp;&nbsp;</span>Заполнение и удаление пропусков</a></span></li><li><span><a href=\"#Исправление-аномалий\" data-toc-modified-id=\"Исправление-аномалий-3.2\"><span class=\"toc-item-num\">3.2&nbsp;&nbsp;</span>Исправление аномалий</a></span></li><li><span><a href=\"#Изменение-типов-данных\" data-toc-modified-id=\"Изменение-типов-данных-3.3\"><span class=\"toc-item-num\">3.3&nbsp;&nbsp;</span>Изменение типов данных</a></span></li><li><span><a href=\"#Удаление-дубликатов\" data-toc-modified-id=\"Удаление-дубликатов-3.4\"><span class=\"toc-item-num\">3.4&nbsp;&nbsp;</span>Удаление дубликатов</a></span></li><li><span><a href=\"#Вывод\" data-toc-modified-id=\"Вывод-3.5\"><span class=\"toc-item-num\">3.5&nbsp;&nbsp;</span>Вывод</a></span></li></ul></li><li><span><a href=\"#Добавление-новых-параметров-в-таблицу\" data-toc-modified-id=\"Добавление-новых-параметров-в-таблицу-4\"><span class=\"toc-item-num\">4&nbsp;&nbsp;</span>Добавление новых параметров в таблицу</a></span><ul class=\"toc-item\"><li><span><a href=\"#Цена-квадратного-метра\" data-toc-modified-id=\"Цена-квадратного-метра-4.1\"><span class=\"toc-item-num\">4.1&nbsp;&nbsp;</span>Цена квадратного метра</a></span></li><li><span><a href=\"#Тип-этажа\" data-toc-modified-id=\"Тип-этажа-4.2\"><span class=\"toc-item-num\">4.2&nbsp;&nbsp;</span>Тип этажа</a></span></li><li><span><a href=\"#Соотношение-площади\" data-toc-modified-id=\"Соотношение-площади-4.3\"><span class=\"toc-item-num\">4.3&nbsp;&nbsp;</span>Соотношение площади</a></span></li><li><span><a href=\"#Время\" data-toc-modified-id=\"Время-4.4\"><span class=\"toc-item-num\">4.4&nbsp;&nbsp;</span>Время</a></span></li><li><span><a href=\"#Вывод\" data-toc-modified-id=\"Вывод-4.5\"><span class=\"toc-item-num\">4.5&nbsp;&nbsp;</span>Вывод</a></span></li></ul></li><li><span><a href=\"#Исследовательский-анализ-данных\" data-toc-modified-id=\"Исследовательский-анализ-данных-5\"><span class=\"toc-item-num\">5&nbsp;&nbsp;</span>Исследовательский анализ данных</a></span><ul class=\"toc-item\"><li><span><a href=\"#Базовые-параметры-квартиры:-геометрия-и-цена\" data-toc-modified-id=\"Базовые-параметры-квартиры:-геометрия-и-цена-5.1\"><span class=\"toc-item-num\">5.1&nbsp;&nbsp;</span>Базовые параметры квартиры: геометрия и цена</a></span></li><li><span><a href=\"#Длительность-продажи-квартиры\" data-toc-modified-id=\"Длительность-продажи-квартиры-5.2\"><span class=\"toc-item-num\">5.2&nbsp;&nbsp;</span>Длительность продажи квартиры</a></span></li><li><span><a href=\"#Убираем-редкие-и-выбывающиеся-значения\" data-toc-modified-id=\"Убираем-редкие-и-выбывающиеся-значения-5.3\"><span class=\"toc-item-num\">5.3&nbsp;&nbsp;</span>Убираем редкие и выбывающиеся значения</a></span></li><li><span><a href=\"#Изучение-факторов,-влияющих-на-цену\" data-toc-modified-id=\"Изучение-факторов,-влияющих-на-цену-5.4\"><span class=\"toc-item-num\">5.4&nbsp;&nbsp;</span>Изучение факторов, влияющих на цену</a></span><ul class=\"toc-item\"><li><span><a href=\"#Площадь\" data-toc-modified-id=\"Площадь-5.4.1\"><span class=\"toc-item-num\">5.4.1&nbsp;&nbsp;</span>Площадь</a></span></li><li><span><a href=\"#Число-комнат\" data-toc-modified-id=\"Число-комнат-5.4.2\"><span class=\"toc-item-num\">5.4.2&nbsp;&nbsp;</span>Число комнат</a></span></li><li><span><a href=\"#Удаленность-от-центра\" data-toc-modified-id=\"Удаленность-от-центра-5.4.3\"><span class=\"toc-item-num\">5.4.3&nbsp;&nbsp;</span>Удаленность от центра</a></span></li><li><span><a href=\"#Тип-этажа\" data-toc-modified-id=\"Тип-этажа-5.4.4\"><span class=\"toc-item-num\">5.4.4&nbsp;&nbsp;</span>Тип этажа</a></span></li><li><span><a href=\"#Год\" data-toc-modified-id=\"Год-5.4.5\"><span class=\"toc-item-num\">5.4.5&nbsp;&nbsp;</span>Год</a></span></li><li><span><a href=\"#Месяц\" data-toc-modified-id=\"Месяц-5.4.6\"><span class=\"toc-item-num\">5.4.6&nbsp;&nbsp;</span>Месяц</a></span></li><li><span><a href=\"#День-недели\" data-toc-modified-id=\"День-недели-5.4.7\"><span class=\"toc-item-num\">5.4.7&nbsp;&nbsp;</span>День недели</a></span></li></ul></li><li><span><a href=\"#Распределение-по-населенным-пунктам\" data-toc-modified-id=\"Распределение-по-населенным-пунктам-5.5\"><span class=\"toc-item-num\">5.5&nbsp;&nbsp;</span>Распределение по населенным пунктам</a></span></li><li><span><a href=\"#Анализ-жилья-в-центре\" data-toc-modified-id=\"Анализ-жилья-в-центре-5.6\"><span class=\"toc-item-num\">5.6&nbsp;&nbsp;</span>Анализ жилья в центре</a></span><ul class=\"toc-item\"><li><span><a href=\"#Обособление-данных\" data-toc-modified-id=\"Обособление-данных-5.6.1\"><span class=\"toc-item-num\">5.6.1&nbsp;&nbsp;</span>Обособление данных</a></span></li><li><span><a href=\"#Изучение-и-анализ-факторов\" data-toc-modified-id=\"Изучение-и-анализ-факторов-5.6.2\"><span class=\"toc-item-num\">5.6.2&nbsp;&nbsp;</span>Изучение и анализ факторов</a></span></li><li><span><a href=\"#Итог-по-центру\" data-toc-modified-id=\"Итог-по-центру-5.6.3\"><span class=\"toc-item-num\">5.6.3&nbsp;&nbsp;</span>Итог по центру</a></span></li></ul></li><li><span><a href=\"#Расстояние-до-аэропорта\" data-toc-modified-id=\"Расстояние-до-аэропорта-5.7\"><span class=\"toc-item-num\">5.7&nbsp;&nbsp;</span>Расстояние до аэропорта</a></span></li><li><span><a href=\"#Вывод\" data-toc-modified-id=\"Вывод-5.8\"><span class=\"toc-item-num\">5.8&nbsp;&nbsp;</span>Вывод</a></span></li></ul></li><li><span><a href=\"#Общий-вывод\" data-toc-modified-id=\"Общий-вывод-6\"><span class=\"toc-item-num\">6&nbsp;&nbsp;</span>Общий вывод</a></span></li><li><span><a href=\"#Чек-лист-готовности-проекта\" data-toc-modified-id=\"Чек-лист-готовности-проекта-7\"><span class=\"toc-item-num\">7&nbsp;&nbsp;</span>Чек-лист готовности проекта</a></span></li></ul></div>"
   ]
  },
  {
   "cell_type": "markdown",
   "metadata": {},
   "source": [
    "# Исследование объявлений о продаже квартир"
   ]
  },
  {
   "cell_type": "markdown",
   "metadata": {
    "tags": []
   },
   "source": [
    "## Введение"
   ]
  },
  {
   "cell_type": "markdown",
   "metadata": {},
   "source": [
    "Каков самый надежный путь инвестирования средств? В недвижимость. Инвестировать в какой тип населенного пункта надежней? В крупные города, которые обещают только расти. Какой город лучше? Конечно, наиболее красивый. Так мы и приходим к тому, что лучший вариант для долговременного сохранения денег - это вложения в недвижимость в Петербурге. Можно доверять чужим анализам, а лучше сделать свой. Чужая голова хорошо, а своя лучше. В этой тетради мы произведем анализ архива объявлений о продаже квартир Петербурга и городов Ленобласти.\n",
    "\n",
    "-------\n",
    "\n",
    "Наша основная задача - определить факторы цены. Как относящиеся к самой квартире - площадь, число комнат и пр., так и к локации квартиры - населенный пункт, расстояние до центра и даже число парков и прудов в округе. Часть данных указана пользователем, другая часть сгенерирована автоматически. Полученные результаты могут быть полезны для прогнозирования цены на квартиру, построения программы определения аномалий, подозрительных объявлений, предотвращения каких-то мошеннических схем.\n",
    "\n",
    "----------\n",
    "Вначале мы рассмотрим данные вдоль и поперек. Затем займемся предобработкой, \"чисткой\" данных. После начальных шагов мы добавим дополнительные данные, рассчитанные на основе имеющихся - например, цена за квадратный метр. Далее будет основной этап - исследовательских анализ данных. В его ходе мы будем выявлять взаимосвязи между имеющимися данными, в первую очередь определяя влияние факторов на цену квартиры. Для этого мы будем использовать коэффициент корреляции Пирсона, матрицу корреляции, гистограммы, график рассеяния, матрицу рассеяния и пр. В конце мы сделаем вывод текущего исследования.\n",
    "\n",
    "----------\n",
    "Для исследования у нас есть данные сервиса Яндекс.Недвижимость - архив объявлений по Петербургу и области за несколько лет. Одни данные получены на основе заполненной пользователем формы, другие получены автоматически на основе геолокации через картографические сервисы.\n"
   ]
  },
  {
   "cell_type": "markdown",
   "metadata": {},
   "source": [
    "## Изучение данных из файла"
   ]
  },
  {
   "cell_type": "markdown",
   "metadata": {},
   "source": [
    "### Общий обзор"
   ]
  },
  {
   "cell_type": "markdown",
   "metadata": {},
   "source": [
    "Посмотрим данные."
   ]
  },
  {
   "cell_type": "code",
   "execution_count": 1,
   "metadata": {},
   "outputs": [
    {
     "data": {
      "text/html": [
       "<div>\n",
       "<style scoped>\n",
       "    .dataframe tbody tr th:only-of-type {\n",
       "        vertical-align: middle;\n",
       "    }\n",
       "\n",
       "    .dataframe tbody tr th {\n",
       "        vertical-align: top;\n",
       "    }\n",
       "\n",
       "    .dataframe thead th {\n",
       "        text-align: right;\n",
       "    }\n",
       "</style>\n",
       "<table border=\"1\" class=\"dataframe\">\n",
       "  <thead>\n",
       "    <tr style=\"text-align: right;\">\n",
       "      <th></th>\n",
       "      <th>total_images</th>\n",
       "      <th>last_price</th>\n",
       "      <th>total_area</th>\n",
       "      <th>first_day_exposition</th>\n",
       "      <th>rooms</th>\n",
       "      <th>ceiling_height</th>\n",
       "      <th>floors_total</th>\n",
       "      <th>living_area</th>\n",
       "      <th>floor</th>\n",
       "      <th>is_apartment</th>\n",
       "      <th>studio</th>\n",
       "      <th>open_plan</th>\n",
       "      <th>kitchen_area</th>\n",
       "      <th>balcony</th>\n",
       "      <th>locality_name</th>\n",
       "      <th>airports_nearest</th>\n",
       "      <th>cityCenters_nearest</th>\n",
       "      <th>parks_around3000</th>\n",
       "      <th>parks_nearest</th>\n",
       "      <th>ponds_around3000</th>\n",
       "      <th>ponds_nearest</th>\n",
       "      <th>days_exposition</th>\n",
       "    </tr>\n",
       "  </thead>\n",
       "  <tbody>\n",
       "    <tr>\n",
       "      <th>0</th>\n",
       "      <td>20</td>\n",
       "      <td>13000000.0</td>\n",
       "      <td>108.00</td>\n",
       "      <td>2019-03-07T00:00:00</td>\n",
       "      <td>3</td>\n",
       "      <td>2.70</td>\n",
       "      <td>16.0</td>\n",
       "      <td>51.0</td>\n",
       "      <td>8</td>\n",
       "      <td>NaN</td>\n",
       "      <td>False</td>\n",
       "      <td>False</td>\n",
       "      <td>25.00</td>\n",
       "      <td>NaN</td>\n",
       "      <td>Санкт-Петербург</td>\n",
       "      <td>18863.0</td>\n",
       "      <td>16028.0</td>\n",
       "      <td>1.0</td>\n",
       "      <td>482.0</td>\n",
       "      <td>2.0</td>\n",
       "      <td>755.0</td>\n",
       "      <td>NaN</td>\n",
       "    </tr>\n",
       "    <tr>\n",
       "      <th>1</th>\n",
       "      <td>7</td>\n",
       "      <td>3350000.0</td>\n",
       "      <td>40.40</td>\n",
       "      <td>2018-12-04T00:00:00</td>\n",
       "      <td>1</td>\n",
       "      <td>NaN</td>\n",
       "      <td>11.0</td>\n",
       "      <td>18.6</td>\n",
       "      <td>1</td>\n",
       "      <td>NaN</td>\n",
       "      <td>False</td>\n",
       "      <td>False</td>\n",
       "      <td>11.00</td>\n",
       "      <td>2.0</td>\n",
       "      <td>посёлок Шушары</td>\n",
       "      <td>12817.0</td>\n",
       "      <td>18603.0</td>\n",
       "      <td>0.0</td>\n",
       "      <td>NaN</td>\n",
       "      <td>0.0</td>\n",
       "      <td>NaN</td>\n",
       "      <td>81.0</td>\n",
       "    </tr>\n",
       "    <tr>\n",
       "      <th>2</th>\n",
       "      <td>10</td>\n",
       "      <td>5196000.0</td>\n",
       "      <td>56.00</td>\n",
       "      <td>2015-08-20T00:00:00</td>\n",
       "      <td>2</td>\n",
       "      <td>NaN</td>\n",
       "      <td>5.0</td>\n",
       "      <td>34.3</td>\n",
       "      <td>4</td>\n",
       "      <td>NaN</td>\n",
       "      <td>False</td>\n",
       "      <td>False</td>\n",
       "      <td>8.30</td>\n",
       "      <td>0.0</td>\n",
       "      <td>Санкт-Петербург</td>\n",
       "      <td>21741.0</td>\n",
       "      <td>13933.0</td>\n",
       "      <td>1.0</td>\n",
       "      <td>90.0</td>\n",
       "      <td>2.0</td>\n",
       "      <td>574.0</td>\n",
       "      <td>558.0</td>\n",
       "    </tr>\n",
       "    <tr>\n",
       "      <th>3</th>\n",
       "      <td>0</td>\n",
       "      <td>64900000.0</td>\n",
       "      <td>159.00</td>\n",
       "      <td>2015-07-24T00:00:00</td>\n",
       "      <td>3</td>\n",
       "      <td>NaN</td>\n",
       "      <td>14.0</td>\n",
       "      <td>NaN</td>\n",
       "      <td>9</td>\n",
       "      <td>NaN</td>\n",
       "      <td>False</td>\n",
       "      <td>False</td>\n",
       "      <td>NaN</td>\n",
       "      <td>0.0</td>\n",
       "      <td>Санкт-Петербург</td>\n",
       "      <td>28098.0</td>\n",
       "      <td>6800.0</td>\n",
       "      <td>2.0</td>\n",
       "      <td>84.0</td>\n",
       "      <td>3.0</td>\n",
       "      <td>234.0</td>\n",
       "      <td>424.0</td>\n",
       "    </tr>\n",
       "    <tr>\n",
       "      <th>4</th>\n",
       "      <td>2</td>\n",
       "      <td>10000000.0</td>\n",
       "      <td>100.00</td>\n",
       "      <td>2018-06-19T00:00:00</td>\n",
       "      <td>2</td>\n",
       "      <td>3.03</td>\n",
       "      <td>14.0</td>\n",
       "      <td>32.0</td>\n",
       "      <td>13</td>\n",
       "      <td>NaN</td>\n",
       "      <td>False</td>\n",
       "      <td>False</td>\n",
       "      <td>41.00</td>\n",
       "      <td>NaN</td>\n",
       "      <td>Санкт-Петербург</td>\n",
       "      <td>31856.0</td>\n",
       "      <td>8098.0</td>\n",
       "      <td>2.0</td>\n",
       "      <td>112.0</td>\n",
       "      <td>1.0</td>\n",
       "      <td>48.0</td>\n",
       "      <td>121.0</td>\n",
       "    </tr>\n",
       "    <tr>\n",
       "      <th>...</th>\n",
       "      <td>...</td>\n",
       "      <td>...</td>\n",
       "      <td>...</td>\n",
       "      <td>...</td>\n",
       "      <td>...</td>\n",
       "      <td>...</td>\n",
       "      <td>...</td>\n",
       "      <td>...</td>\n",
       "      <td>...</td>\n",
       "      <td>...</td>\n",
       "      <td>...</td>\n",
       "      <td>...</td>\n",
       "      <td>...</td>\n",
       "      <td>...</td>\n",
       "      <td>...</td>\n",
       "      <td>...</td>\n",
       "      <td>...</td>\n",
       "      <td>...</td>\n",
       "      <td>...</td>\n",
       "      <td>...</td>\n",
       "      <td>...</td>\n",
       "      <td>...</td>\n",
       "    </tr>\n",
       "    <tr>\n",
       "      <th>23694</th>\n",
       "      <td>9</td>\n",
       "      <td>9700000.0</td>\n",
       "      <td>133.81</td>\n",
       "      <td>2017-03-21T00:00:00</td>\n",
       "      <td>3</td>\n",
       "      <td>3.70</td>\n",
       "      <td>5.0</td>\n",
       "      <td>73.3</td>\n",
       "      <td>3</td>\n",
       "      <td>NaN</td>\n",
       "      <td>False</td>\n",
       "      <td>False</td>\n",
       "      <td>13.83</td>\n",
       "      <td>NaN</td>\n",
       "      <td>Санкт-Петербург</td>\n",
       "      <td>24665.0</td>\n",
       "      <td>4232.0</td>\n",
       "      <td>1.0</td>\n",
       "      <td>796.0</td>\n",
       "      <td>3.0</td>\n",
       "      <td>381.0</td>\n",
       "      <td>NaN</td>\n",
       "    </tr>\n",
       "    <tr>\n",
       "      <th>23695</th>\n",
       "      <td>14</td>\n",
       "      <td>3100000.0</td>\n",
       "      <td>59.00</td>\n",
       "      <td>2018-01-15T00:00:00</td>\n",
       "      <td>3</td>\n",
       "      <td>NaN</td>\n",
       "      <td>5.0</td>\n",
       "      <td>38.0</td>\n",
       "      <td>4</td>\n",
       "      <td>NaN</td>\n",
       "      <td>False</td>\n",
       "      <td>False</td>\n",
       "      <td>8.50</td>\n",
       "      <td>NaN</td>\n",
       "      <td>Тосно</td>\n",
       "      <td>NaN</td>\n",
       "      <td>NaN</td>\n",
       "      <td>NaN</td>\n",
       "      <td>NaN</td>\n",
       "      <td>NaN</td>\n",
       "      <td>NaN</td>\n",
       "      <td>45.0</td>\n",
       "    </tr>\n",
       "    <tr>\n",
       "      <th>23696</th>\n",
       "      <td>18</td>\n",
       "      <td>2500000.0</td>\n",
       "      <td>56.70</td>\n",
       "      <td>2018-02-11T00:00:00</td>\n",
       "      <td>2</td>\n",
       "      <td>NaN</td>\n",
       "      <td>3.0</td>\n",
       "      <td>29.7</td>\n",
       "      <td>1</td>\n",
       "      <td>NaN</td>\n",
       "      <td>False</td>\n",
       "      <td>False</td>\n",
       "      <td>NaN</td>\n",
       "      <td>NaN</td>\n",
       "      <td>село Рождествено</td>\n",
       "      <td>NaN</td>\n",
       "      <td>NaN</td>\n",
       "      <td>NaN</td>\n",
       "      <td>NaN</td>\n",
       "      <td>NaN</td>\n",
       "      <td>NaN</td>\n",
       "      <td>NaN</td>\n",
       "    </tr>\n",
       "    <tr>\n",
       "      <th>23697</th>\n",
       "      <td>13</td>\n",
       "      <td>11475000.0</td>\n",
       "      <td>76.75</td>\n",
       "      <td>2017-03-28T00:00:00</td>\n",
       "      <td>2</td>\n",
       "      <td>3.00</td>\n",
       "      <td>17.0</td>\n",
       "      <td>NaN</td>\n",
       "      <td>12</td>\n",
       "      <td>NaN</td>\n",
       "      <td>False</td>\n",
       "      <td>False</td>\n",
       "      <td>23.30</td>\n",
       "      <td>2.0</td>\n",
       "      <td>Санкт-Петербург</td>\n",
       "      <td>39140.0</td>\n",
       "      <td>10364.0</td>\n",
       "      <td>2.0</td>\n",
       "      <td>173.0</td>\n",
       "      <td>3.0</td>\n",
       "      <td>196.0</td>\n",
       "      <td>602.0</td>\n",
       "    </tr>\n",
       "    <tr>\n",
       "      <th>23698</th>\n",
       "      <td>4</td>\n",
       "      <td>1350000.0</td>\n",
       "      <td>32.30</td>\n",
       "      <td>2017-07-21T00:00:00</td>\n",
       "      <td>1</td>\n",
       "      <td>2.50</td>\n",
       "      <td>5.0</td>\n",
       "      <td>12.3</td>\n",
       "      <td>1</td>\n",
       "      <td>NaN</td>\n",
       "      <td>False</td>\n",
       "      <td>False</td>\n",
       "      <td>9.00</td>\n",
       "      <td>NaN</td>\n",
       "      <td>поселок Новый Учхоз</td>\n",
       "      <td>NaN</td>\n",
       "      <td>NaN</td>\n",
       "      <td>NaN</td>\n",
       "      <td>NaN</td>\n",
       "      <td>NaN</td>\n",
       "      <td>NaN</td>\n",
       "      <td>NaN</td>\n",
       "    </tr>\n",
       "  </tbody>\n",
       "</table>\n",
       "<p>23699 rows × 22 columns</p>\n",
       "</div>"
      ],
      "text/plain": [
       "       total_images  last_price  total_area first_day_exposition  rooms  \\\n",
       "0                20  13000000.0      108.00  2019-03-07T00:00:00      3   \n",
       "1                 7   3350000.0       40.40  2018-12-04T00:00:00      1   \n",
       "2                10   5196000.0       56.00  2015-08-20T00:00:00      2   \n",
       "3                 0  64900000.0      159.00  2015-07-24T00:00:00      3   \n",
       "4                 2  10000000.0      100.00  2018-06-19T00:00:00      2   \n",
       "...             ...         ...         ...                  ...    ...   \n",
       "23694             9   9700000.0      133.81  2017-03-21T00:00:00      3   \n",
       "23695            14   3100000.0       59.00  2018-01-15T00:00:00      3   \n",
       "23696            18   2500000.0       56.70  2018-02-11T00:00:00      2   \n",
       "23697            13  11475000.0       76.75  2017-03-28T00:00:00      2   \n",
       "23698             4   1350000.0       32.30  2017-07-21T00:00:00      1   \n",
       "\n",
       "       ceiling_height  floors_total  living_area  floor is_apartment  studio  \\\n",
       "0                2.70          16.0         51.0      8          NaN   False   \n",
       "1                 NaN          11.0         18.6      1          NaN   False   \n",
       "2                 NaN           5.0         34.3      4          NaN   False   \n",
       "3                 NaN          14.0          NaN      9          NaN   False   \n",
       "4                3.03          14.0         32.0     13          NaN   False   \n",
       "...               ...           ...          ...    ...          ...     ...   \n",
       "23694            3.70           5.0         73.3      3          NaN   False   \n",
       "23695             NaN           5.0         38.0      4          NaN   False   \n",
       "23696             NaN           3.0         29.7      1          NaN   False   \n",
       "23697            3.00          17.0          NaN     12          NaN   False   \n",
       "23698            2.50           5.0         12.3      1          NaN   False   \n",
       "\n",
       "       open_plan  kitchen_area  balcony        locality_name  \\\n",
       "0          False         25.00      NaN      Санкт-Петербург   \n",
       "1          False         11.00      2.0       посёлок Шушары   \n",
       "2          False          8.30      0.0      Санкт-Петербург   \n",
       "3          False           NaN      0.0      Санкт-Петербург   \n",
       "4          False         41.00      NaN      Санкт-Петербург   \n",
       "...          ...           ...      ...                  ...   \n",
       "23694      False         13.83      NaN      Санкт-Петербург   \n",
       "23695      False          8.50      NaN                Тосно   \n",
       "23696      False           NaN      NaN     село Рождествено   \n",
       "23697      False         23.30      2.0      Санкт-Петербург   \n",
       "23698      False          9.00      NaN  поселок Новый Учхоз   \n",
       "\n",
       "       airports_nearest  cityCenters_nearest  parks_around3000  parks_nearest  \\\n",
       "0               18863.0              16028.0               1.0          482.0   \n",
       "1               12817.0              18603.0               0.0            NaN   \n",
       "2               21741.0              13933.0               1.0           90.0   \n",
       "3               28098.0               6800.0               2.0           84.0   \n",
       "4               31856.0               8098.0               2.0          112.0   \n",
       "...                 ...                  ...               ...            ...   \n",
       "23694           24665.0               4232.0               1.0          796.0   \n",
       "23695               NaN                  NaN               NaN            NaN   \n",
       "23696               NaN                  NaN               NaN            NaN   \n",
       "23697           39140.0              10364.0               2.0          173.0   \n",
       "23698               NaN                  NaN               NaN            NaN   \n",
       "\n",
       "       ponds_around3000  ponds_nearest  days_exposition  \n",
       "0                   2.0          755.0              NaN  \n",
       "1                   0.0            NaN             81.0  \n",
       "2                   2.0          574.0            558.0  \n",
       "3                   3.0          234.0            424.0  \n",
       "4                   1.0           48.0            121.0  \n",
       "...                 ...            ...              ...  \n",
       "23694               3.0          381.0              NaN  \n",
       "23695               NaN            NaN             45.0  \n",
       "23696               NaN            NaN              NaN  \n",
       "23697               3.0          196.0            602.0  \n",
       "23698               NaN            NaN              NaN  \n",
       "\n",
       "[23699 rows x 22 columns]"
      ]
     },
     "metadata": {},
     "output_type": "display_data"
    }
   ],
   "source": [
    "import pandas as pd\n",
    "from IPython.display import display\n",
    "\n",
    "try:\n",
    "    df = pd.read_csv(\"/datasets/real_estate_data.csv\", sep='\\t')\n",
    "except:\n",
    "    df = pd.read_csv(\"/Users/martian/Downloads/datasets/real_estate_data.csv\", sep='\\t')\n",
    "    \n",
    "pd.set_option('display.max_columns', None)\n",
    "\n",
    "display(df)"
   ]
  },
  {
   "cell_type": "markdown",
   "metadata": {},
   "source": [
    "Данные о квартире можно выделить в несколько групп. Первая - константные данные самой квартиры. Их указывает (либо не указывает) сам пользователь.\n",
    "- `total_area`. Площадь квартиры.\n",
    "- `living_area`. Жилая площадь.\n",
    "- `kitchen_area`. Площадь кухни.\n",
    "- `ceiling_height`. Высота потолков в метрах.\n",
    "- `rooms`. Число комнат.\n",
    "- `studio`. Студия ли это. Предположительно, число комнат для студий всегда один.\n",
    "- `balcony`. Число балконов. Значение 0.0 если его нет.\n",
    "- `open_plan`. Свободная ли планировка. Актуальный параметр для современных домов.\n",
    "- `is_apartment`. Квартира это или \"апартаменты\". Апартаменты - это де-юре нежилая площадь, и в них нельзя прописаться, а де-факто - та же квартира.\n",
    "- `floor`. Этаж. \n",
    "- `floors_total`. Сколько всего этажей."
   ]
  },
  {
   "cell_type": "markdown",
   "metadata": {},
   "source": [
    "Следующая группа данных - данные локации. На основе локации, указанных пользователем, автоматически генерируются следующие полезные данные.\n",
    "- `locality_name`. Какой город. Основной вариант - \"Санкт-Петербург\". Кроме него - города и поселки Ленобласти.\n",
    "- `cityCenters_nearest`. Расстояние до центра. Предположительно, до центра области - до центра Санкт-Петербурга, а не центров любых городков.\n",
    "- `parks_around3000`. Число парков в радиусе 3км. Конечно, это неточное понятие, так как парки бывают огромные как Сосновка и махонькие скверы. Было бы лучше иметь суммарную площадь парковой зоны в круге 3-км радиуса.\n",
    "- `parks_nearest`. Расстояние до ближайшего парка в метрах.\n",
    "- `ponds_around3000` и `ponds_nearest`. Аналогичные данные про водоемы. \n",
    "- `airports_nearest`. Расстояние до ближайшего аэропорта. Во всех или почти всех объявлениях это будет расстояние до Пулково, одного из крупнейших аэропортов России, находящегося к югу от Петербурга сразу за кольцевой дорогой."
   ]
  },
  {
   "cell_type": "markdown",
   "metadata": {
    "tags": []
   },
   "source": [
    "И последняя группа данных - это данные самого объявления как электронной сущности.\n",
    "- `first_day_exposition`. Когда объявление вывешено.\n",
    "- `days_exposition`. Сколько дней объявление висело от открытия до закрытия. Часто это значение пропущено - NaN.\n",
    "- `total_images`. Сколько картинок в объявлении.\n",
    "- `last_price`. Последняя цена квартиры."
   ]
  },
  {
   "cell_type": "markdown",
   "metadata": {},
   "source": [
    "Изменим порядок столбцов на более логичный и удобный для нас - вместо случайного на тот, в котором мы описали переменные."
   ]
  },
  {
   "cell_type": "code",
   "execution_count": 2,
   "metadata": {},
   "outputs": [],
   "source": [
    "df = df.reindex(\n",
    "    columns=[\n",
    "        'total_area', 'living_area', 'kitchen_area', 'ceiling_height', 'rooms', \n",
    "        'studio', 'balcony', 'open_plan',  'is_apartment', 'floor', 'floors_total',\n",
    "        'locality_name', 'cityCenters_nearest', 'parks_around3000', 'parks_nearest',\n",
    "        'ponds_around3000', 'ponds_nearest', 'airports_nearest', \n",
    "        'first_day_exposition', 'days_exposition', 'total_images', 'last_price'])\n"
   ]
  },
  {
   "cell_type": "markdown",
   "metadata": {},
   "source": [
    "Посмотрим на типы данных и пропущенные значения."
   ]
  },
  {
   "cell_type": "code",
   "execution_count": 3,
   "metadata": {},
   "outputs": [
    {
     "name": "stdout",
     "output_type": "stream",
     "text": [
      "<class 'pandas.core.frame.DataFrame'>\n",
      "RangeIndex: 23699 entries, 0 to 23698\n",
      "Data columns (total 22 columns):\n",
      " #   Column                Non-Null Count  Dtype  \n",
      "---  ------                --------------  -----  \n",
      " 0   total_area            23699 non-null  float64\n",
      " 1   living_area           21796 non-null  float64\n",
      " 2   kitchen_area          21421 non-null  float64\n",
      " 3   ceiling_height        14504 non-null  float64\n",
      " 4   rooms                 23699 non-null  int64  \n",
      " 5   studio                23699 non-null  bool   \n",
      " 6   balcony               12180 non-null  float64\n",
      " 7   open_plan             23699 non-null  bool   \n",
      " 8   is_apartment          2775 non-null   object \n",
      " 9   floor                 23699 non-null  int64  \n",
      " 10  floors_total          23613 non-null  float64\n",
      " 11  locality_name         23650 non-null  object \n",
      " 12  cityCenters_nearest   18180 non-null  float64\n",
      " 13  parks_around3000      18181 non-null  float64\n",
      " 14  parks_nearest         8079 non-null   float64\n",
      " 15  ponds_around3000      18181 non-null  float64\n",
      " 16  ponds_nearest         9110 non-null   float64\n",
      " 17  airports_nearest      18157 non-null  float64\n",
      " 18  first_day_exposition  23699 non-null  object \n",
      " 19  days_exposition       20518 non-null  float64\n",
      " 20  total_images          23699 non-null  int64  \n",
      " 21  last_price            23699 non-null  float64\n",
      "dtypes: bool(2), float64(14), int64(3), object(3)\n",
      "memory usage: 3.7+ MB\n"
     ]
    }
   ],
   "source": [
    "df.info()"
   ]
  },
  {
   "cell_type": "markdown",
   "metadata": {},
   "source": [
    "У части этих данных можно было бы изменить тип - например, `is_apartment` изменить на bool; `last_price` – на int; `first_day_exposition` перевести во время. Интересно, что есть только одно заведомо строковое данное - это название населенного пункта.\n",
    "\n",
    "А вот пропущены данные в 15 столбцах из 21, причем в некоторых из них пропущено 90% значений, как в `is_apartment`. Вероятно, в них отсутствие данных означает отрицание (False)."
   ]
  },
  {
   "cell_type": "markdown",
   "metadata": {},
   "source": [
    "Изучим теперь каждую из колонок на диапазон значений и аномалии."
   ]
  },
  {
   "cell_type": "markdown",
   "metadata": {},
   "source": [
    "### Изучение данных про саму квартиру"
   ]
  },
  {
   "cell_type": "markdown",
   "metadata": {},
   "source": [
    "Посмотрим на диапазон данных по площади квартиры."
   ]
  },
  {
   "cell_type": "code",
   "execution_count": 4,
   "metadata": {},
   "outputs": [
    {
     "data": {
      "text/plain": [
       "count    23699.000000\n",
       "mean        60.348651\n",
       "std         35.654083\n",
       "min         12.000000\n",
       "25%         40.000000\n",
       "50%         52.000000\n",
       "75%         69.900000\n",
       "max        900.000000\n",
       "Name: total_area, dtype: float64"
      ]
     },
     "execution_count": 4,
     "metadata": {},
     "output_type": "execute_result"
    }
   ],
   "source": [
    "df.total_area.describe()"
   ]
  },
  {
   "cell_type": "markdown",
   "metadata": {},
   "source": [
    "От $12$ до $900  м^2 $. Вполне правдоподобно. Медиана в $52 м^2$. Данные потом перегоним в `int`."
   ]
  },
  {
   "cell_type": "markdown",
   "metadata": {},
   "source": [
    "Теперь посмотрим жилую площадь и площадь кухни."
   ]
  },
  {
   "cell_type": "code",
   "execution_count": 5,
   "metadata": {},
   "outputs": [
    {
     "data": {
      "text/plain": [
       "count    21796.000000\n",
       "mean        34.457852\n",
       "std         22.030445\n",
       "min          2.000000\n",
       "25%         18.600000\n",
       "50%         30.000000\n",
       "75%         42.300000\n",
       "max        409.700000\n",
       "Name: living_area, dtype: float64"
      ]
     },
     "execution_count": 5,
     "metadata": {},
     "output_type": "execute_result"
    }
   ],
   "source": [
    "df.living_area.describe()"
   ]
  },
  {
   "cell_type": "markdown",
   "metadata": {},
   "source": [
    "2 квадратных метра жилой площади - маловато конечно. Это стандартная площадь гроба, но не жилого помещения."
   ]
  },
  {
   "cell_type": "code",
   "execution_count": 6,
   "metadata": {},
   "outputs": [
    {
     "data": {
      "text/plain": [
       "count    21421.000000\n",
       "mean        10.569807\n",
       "std          5.905438\n",
       "min          1.300000\n",
       "25%          7.000000\n",
       "50%          9.100000\n",
       "75%         12.000000\n",
       "max        112.000000\n",
       "Name: kitchen_area, dtype: float64"
      ]
     },
     "execution_count": 6,
     "metadata": {},
     "output_type": "execute_result"
    }
   ],
   "source": [
    "df.kitchen_area.describe()"
   ]
  },
  {
   "cell_type": "markdown",
   "metadata": {},
   "source": [
    "Кухня в $ 1.3 м^2 $ - тоже маловато. Это площадь разве что плиты. А вот первый квартиль в $ 7 м^2 $ - вполне правдоподобно для хрущевки."
   ]
  },
  {
   "cell_type": "markdown",
   "metadata": {},
   "source": [
    "Посмотрим диапазон для высоты потолков. Ожидаем, что для Петербурга максимум высоты потолков - величина большая."
   ]
  },
  {
   "cell_type": "code",
   "execution_count": 7,
   "metadata": {},
   "outputs": [
    {
     "data": {
      "text/plain": [
       "count    14504.000000\n",
       "mean         2.771499\n",
       "std          1.261056\n",
       "min          1.000000\n",
       "25%          2.520000\n",
       "50%          2.650000\n",
       "75%          2.800000\n",
       "max        100.000000\n",
       "Name: ceiling_height, dtype: float64"
      ]
     },
     "execution_count": 7,
     "metadata": {},
     "output_type": "execute_result"
    }
   ],
   "source": [
    "df.ceiling_height.describe()"
   ]
  },
  {
   "cell_type": "markdown",
   "metadata": {},
   "source": [
    "Потолки в 1 метр - высота будки, потолки в 100 метров - высота нижней трети Эйфелевой башни. А вот квартили выглядят естественно. "
   ]
  },
  {
   "cell_type": "markdown",
   "metadata": {},
   "source": [
    "Посмотрим диапазон числа комнат."
   ]
  },
  {
   "cell_type": "code",
   "execution_count": 8,
   "metadata": {},
   "outputs": [
    {
     "data": {
      "text/plain": [
       "count    23699.000000\n",
       "mean         2.070636\n",
       "std          1.078405\n",
       "min          0.000000\n",
       "25%          1.000000\n",
       "50%          2.000000\n",
       "75%          3.000000\n",
       "max         19.000000\n",
       "Name: rooms, dtype: float64"
      ]
     },
     "execution_count": 8,
     "metadata": {},
     "output_type": "execute_result"
    }
   ],
   "source": [
    "df.rooms.describe()"
   ]
  },
  {
   "cell_type": "markdown",
   "metadata": {},
   "source": [
    "Ноль комнат - может быть нормально если это студия. 19 комнат - вполне досягаемый параметр для вилл на Озерках или Крестовском острове."
   ]
  },
  {
   "cell_type": "markdown",
   "metadata": {},
   "source": [
    "Посмотрим на параметр студии."
   ]
  },
  {
   "cell_type": "code",
   "execution_count": 9,
   "metadata": {},
   "outputs": [
    {
     "data": {
      "text/plain": [
       "False    23550\n",
       "True       149\n",
       "Name: studio, dtype: int64"
      ]
     },
     "execution_count": 9,
     "metadata": {},
     "output_type": "execute_result"
    }
   ],
   "source": [
    "df.studio.value_counts()"
   ]
  },
  {
   "cell_type": "markdown",
   "metadata": {},
   "source": [
    "Как-то крайне мало студий на рынке."
   ]
  },
  {
   "cell_type": "markdown",
   "metadata": {},
   "source": [
    "Посмотрим на число балконов у квартир."
   ]
  },
  {
   "cell_type": "code",
   "execution_count": 10,
   "metadata": {},
   "outputs": [
    {
     "data": {
      "text/plain": [
       "count    12180.000000\n",
       "mean         1.150082\n",
       "std          1.071300\n",
       "min          0.000000\n",
       "25%          0.000000\n",
       "50%          1.000000\n",
       "75%          2.000000\n",
       "max          5.000000\n",
       "Name: balcony, dtype: float64"
      ]
     },
     "execution_count": 10,
     "metadata": {},
     "output_type": "execute_result"
    }
   ],
   "source": [
    "df.balcony.describe()"
   ]
  },
  {
   "cell_type": "markdown",
   "metadata": {},
   "source": [
    "От нуля до пяти балконов - естественные цифры. Натюрлих. Только тип данных неестественный, стоит заменить на `int`."
   ]
  },
  {
   "cell_type": "markdown",
   "metadata": {},
   "source": [
    "Посмотрим на свободную планировку."
   ]
  },
  {
   "cell_type": "code",
   "execution_count": 11,
   "metadata": {
    "tags": []
   },
   "outputs": [
    {
     "data": {
      "text/plain": [
       "count     23699\n",
       "unique        2\n",
       "top       False\n",
       "freq      23632\n",
       "Name: open_plan, dtype: object"
      ]
     },
     "execution_count": 11,
     "metadata": {},
     "output_type": "execute_result"
    }
   ],
   "source": [
    "df.open_plan.describe()"
   ]
  },
  {
   "cell_type": "markdown",
   "metadata": {},
   "source": [
    "Свободная планировка - явление редкое. Всего 67 значений на 24000, это три промилле!"
   ]
  },
  {
   "cell_type": "markdown",
   "metadata": {},
   "source": [
    "Посмотрим, какая доля является (или не является) апартаментами."
   ]
  },
  {
   "cell_type": "code",
   "execution_count": 12,
   "metadata": {},
   "outputs": [
    {
     "data": {
      "text/plain": [
       "count      2775\n",
       "unique        2\n",
       "top       False\n",
       "freq       2725\n",
       "Name: is_apartment, dtype: object"
      ]
     },
     "execution_count": 12,
     "metadata": {},
     "output_type": "execute_result"
    }
   ],
   "source": [
    "df.is_apartment.describe()"
   ]
  },
  {
   "cell_type": "markdown",
   "metadata": {},
   "source": [
    "Поглядим на разброс этажей. Интересно, какой этаж самый высокий?"
   ]
  },
  {
   "cell_type": "code",
   "execution_count": 13,
   "metadata": {},
   "outputs": [
    {
     "data": {
      "text/plain": [
       "count    23699.000000\n",
       "mean         5.892358\n",
       "std          4.885249\n",
       "min          1.000000\n",
       "25%          2.000000\n",
       "50%          4.000000\n",
       "75%          8.000000\n",
       "max         33.000000\n",
       "Name: floor, dtype: float64"
      ]
     },
     "execution_count": 13,
     "metadata": {},
     "output_type": "execute_result"
    }
   ],
   "source": [
    "df.floor.describe()"
   ]
  },
  {
   "cell_type": "code",
   "execution_count": 14,
   "metadata": {},
   "outputs": [
    {
     "data": {
      "text/plain": [
       "count    23613.000000\n",
       "mean        10.673824\n",
       "std          6.597173\n",
       "min          1.000000\n",
       "25%          5.000000\n",
       "50%          9.000000\n",
       "75%         16.000000\n",
       "max         60.000000\n",
       "Name: floors_total, dtype: float64"
      ]
     },
     "execution_count": 14,
     "metadata": {},
     "output_type": "execute_result"
    }
   ],
   "source": [
    "df.floors_total.describe()"
   ]
  },
  {
   "cell_type": "markdown",
   "metadata": {},
   "source": [
    "Минимум в один этаж - естественен. Максимальный этаж в 33 этажа - правдоподобен. А вот максимальное число этажей в 60 - нет. Самое высокое жилое здание Петербурга - 37 этажей. Выше него только Лахта-центр с 88 этажами."
   ]
  },
  {
   "cell_type": "markdown",
   "metadata": {},
   "source": [
    "### Изучение данных про локацию"
   ]
  },
  {
   "cell_type": "markdown",
   "metadata": {},
   "source": [
    "Посмотрим варианты населенных пунктов."
   ]
  },
  {
   "cell_type": "code",
   "execution_count": 15,
   "metadata": {},
   "outputs": [
    {
     "data": {
      "text/plain": [
       "count               23650\n",
       "unique                364\n",
       "top       Санкт-Петербург\n",
       "freq                15721\n",
       "Name: locality_name, dtype: object"
      ]
     },
     "execution_count": 15,
     "metadata": {},
     "output_type": "execute_result"
    }
   ],
   "source": [
    "df.locality_name.describe()"
   ]
  },
  {
   "cell_type": "code",
   "execution_count": 16,
   "metadata": {},
   "outputs": [
    {
     "data": {
      "text/html": [
       "<div>\n",
       "<style scoped>\n",
       "    .dataframe tbody tr th:only-of-type {\n",
       "        vertical-align: middle;\n",
       "    }\n",
       "\n",
       "    .dataframe tbody tr th {\n",
       "        vertical-align: top;\n",
       "    }\n",
       "\n",
       "    .dataframe thead th {\n",
       "        text-align: right;\n",
       "    }\n",
       "</style>\n",
       "<table border=\"1\" class=\"dataframe\">\n",
       "  <thead>\n",
       "    <tr style=\"text-align: right;\">\n",
       "      <th></th>\n",
       "      <th>open_plan</th>\n",
       "    </tr>\n",
       "    <tr>\n",
       "      <th>locality_name</th>\n",
       "      <th></th>\n",
       "    </tr>\n",
       "  </thead>\n",
       "  <tbody>\n",
       "    <tr>\n",
       "      <th>Санкт-Петербург</th>\n",
       "      <td>15721</td>\n",
       "    </tr>\n",
       "    <tr>\n",
       "      <th>посёлок Мурино</th>\n",
       "      <td>522</td>\n",
       "    </tr>\n",
       "    <tr>\n",
       "      <th>посёлок Шушары</th>\n",
       "      <td>440</td>\n",
       "    </tr>\n",
       "    <tr>\n",
       "      <th>Всеволожск</th>\n",
       "      <td>398</td>\n",
       "    </tr>\n",
       "    <tr>\n",
       "      <th>Пушкин</th>\n",
       "      <td>369</td>\n",
       "    </tr>\n",
       "    <tr>\n",
       "      <th>Колпино</th>\n",
       "      <td>338</td>\n",
       "    </tr>\n",
       "    <tr>\n",
       "      <th>посёлок Парголово</th>\n",
       "      <td>327</td>\n",
       "    </tr>\n",
       "    <tr>\n",
       "      <th>Гатчина</th>\n",
       "      <td>307</td>\n",
       "    </tr>\n",
       "    <tr>\n",
       "      <th>деревня Кудрово</th>\n",
       "      <td>299</td>\n",
       "    </tr>\n",
       "    <tr>\n",
       "      <th>Выборг</th>\n",
       "      <td>237</td>\n",
       "    </tr>\n",
       "  </tbody>\n",
       "</table>\n",
       "</div>"
      ],
      "text/plain": [
       "                   open_plan\n",
       "locality_name               \n",
       "Санкт-Петербург        15721\n",
       "посёлок Мурино           522\n",
       "посёлок Шушары           440\n",
       "Всеволожск               398\n",
       "Пушкин                   369\n",
       "Колпино                  338\n",
       "посёлок Парголово        327\n",
       "Гатчина                  307\n",
       "деревня Кудрово          299\n",
       "Выборг                   237"
      ]
     },
     "execution_count": 16,
     "metadata": {},
     "output_type": "execute_result"
    }
   ],
   "source": [
    "(\n",
    "    df.pivot_table(index='locality_name', values='open_plan', aggfunc='count')\n",
    "    .sort_values(by=\"open_plan\", ascending=False)\n",
    "    .head(10)\n",
    ")"
   ]
  },
  {
   "cell_type": "markdown",
   "metadata": {},
   "source": [
    "В Ленобласти не заметно города \"номер два\", но есть город номер один - Петербург. А всего в таблице аж 364 уникальных значения."
   ]
  },
  {
   "cell_type": "markdown",
   "metadata": {},
   "source": [
    "Посмотрим на расстояния до центра. "
   ]
  },
  {
   "cell_type": "code",
   "execution_count": 17,
   "metadata": {},
   "outputs": [
    {
     "data": {
      "text/plain": [
       "count    18180.000000\n",
       "mean     14191.277833\n",
       "std       8608.386210\n",
       "min        181.000000\n",
       "25%       9238.000000\n",
       "50%      13098.500000\n",
       "75%      16293.000000\n",
       "max      65968.000000\n",
       "Name: cityCenters_nearest, dtype: float64"
      ]
     },
     "execution_count": 17,
     "metadata": {},
     "output_type": "execute_result"
    }
   ],
   "source": [
    "df.cityCenters_nearest.describe()"
   ]
  },
  {
   "cell_type": "markdown",
   "metadata": {},
   "source": [
    "Единственный столбец с заглавной буквой в названии. От 180 метров до 66 километров - вполне правдоподобно. Проверим расстояния до центра для не-Петербурга, от минимальных до максимальных среднеарифметических значений."
   ]
  },
  {
   "cell_type": "code",
   "execution_count": 18,
   "metadata": {},
   "outputs": [
    {
     "data": {
      "text/html": [
       "<div>\n",
       "<style scoped>\n",
       "    .dataframe tbody tr th:only-of-type {\n",
       "        vertical-align: middle;\n",
       "    }\n",
       "\n",
       "    .dataframe tbody tr th {\n",
       "        vertical-align: top;\n",
       "    }\n",
       "\n",
       "    .dataframe thead th {\n",
       "        text-align: right;\n",
       "    }\n",
       "</style>\n",
       "<table border=\"1\" class=\"dataframe\">\n",
       "  <thead>\n",
       "    <tr style=\"text-align: right;\">\n",
       "      <th></th>\n",
       "      <th>cityCenters_nearest</th>\n",
       "    </tr>\n",
       "    <tr>\n",
       "      <th>locality_name</th>\n",
       "      <th></th>\n",
       "    </tr>\n",
       "  </thead>\n",
       "  <tbody>\n",
       "    <tr>\n",
       "      <th>посёлок Парголово</th>\n",
       "      <td>19924.776758</td>\n",
       "    </tr>\n",
       "    <tr>\n",
       "      <th>поселок Мурино</th>\n",
       "      <td>21888.000000</td>\n",
       "    </tr>\n",
       "    <tr>\n",
       "      <th>посёлок Стрельна</th>\n",
       "      <td>23376.113636</td>\n",
       "    </tr>\n",
       "    <tr>\n",
       "      <th>посёлок Шушары</th>\n",
       "      <td>24243.387615</td>\n",
       "    </tr>\n",
       "    <tr>\n",
       "      <th>посёлок Левашово</th>\n",
       "      <td>25727.000000</td>\n",
       "    </tr>\n",
       "  </tbody>\n",
       "</table>\n",
       "</div>"
      ],
      "text/plain": [
       "                   cityCenters_nearest\n",
       "locality_name                         \n",
       "посёлок Парголово         19924.776758\n",
       "поселок Мурино            21888.000000\n",
       "посёлок Стрельна          23376.113636\n",
       "посёлок Шушары            24243.387615\n",
       "посёлок Левашово          25727.000000"
      ]
     },
     "metadata": {},
     "output_type": "display_data"
    },
    {
     "data": {
      "text/html": [
       "<div>\n",
       "<style scoped>\n",
       "    .dataframe tbody tr th:only-of-type {\n",
       "        vertical-align: middle;\n",
       "    }\n",
       "\n",
       "    .dataframe tbody tr th {\n",
       "        vertical-align: top;\n",
       "    }\n",
       "\n",
       "    .dataframe thead th {\n",
       "        text-align: right;\n",
       "    }\n",
       "</style>\n",
       "<table border=\"1\" class=\"dataframe\">\n",
       "  <thead>\n",
       "    <tr style=\"text-align: right;\">\n",
       "      <th></th>\n",
       "      <th>cityCenters_nearest</th>\n",
       "    </tr>\n",
       "    <tr>\n",
       "      <th>locality_name</th>\n",
       "      <th></th>\n",
       "    </tr>\n",
       "  </thead>\n",
       "  <tbody>\n",
       "    <tr>\n",
       "      <th>посёлок Репино</th>\n",
       "      <td>43392.250000</td>\n",
       "    </tr>\n",
       "    <tr>\n",
       "      <th>Кронштадт</th>\n",
       "      <td>49195.726316</td>\n",
       "    </tr>\n",
       "    <tr>\n",
       "      <th>Ломоносов</th>\n",
       "      <td>50739.969697</td>\n",
       "    </tr>\n",
       "    <tr>\n",
       "      <th>Зеленогорск</th>\n",
       "      <td>54617.583333</td>\n",
       "    </tr>\n",
       "    <tr>\n",
       "      <th>посёлок Молодёжное</th>\n",
       "      <td>65529.200000</td>\n",
       "    </tr>\n",
       "  </tbody>\n",
       "</table>\n",
       "</div>"
      ],
      "text/plain": [
       "                    cityCenters_nearest\n",
       "locality_name                          \n",
       "посёлок Репино             43392.250000\n",
       "Кронштадт                  49195.726316\n",
       "Ломоносов                  50739.969697\n",
       "Зеленогорск                54617.583333\n",
       "посёлок Молодёжное         65529.200000"
      ]
     },
     "metadata": {},
     "output_type": "display_data"
    }
   ],
   "source": [
    "city_center = (df.query('locality_name != \"Санкт-Петербург\"')\n",
    "            .pivot_table(index='locality_name', values='cityCenters_nearest')\n",
    "            .sort_values(by='cityCenters_nearest')\n",
    ")\n",
    "display(city_center.head())\n",
    "display(city_center.tail())"
   ]
  },
  {
   "cell_type": "markdown",
   "metadata": {},
   "source": [
    "Оказывается, значение `cityCenters_nearest` указано, видимо, только для административных единиц Петербурга как субъекта федерации, а также некоторых исключений Ленинградской области, как Мурино. Отсутствует как минимум Выборг - для него показатели до городского центра были бы либо слишком маленькими, либо слишком большими.\n",
    "\n",
    "Посмотрим примеры с расстоянием до центра `NaN`, от самых частых до самых редких."
   ]
  },
  {
   "cell_type": "code",
   "execution_count": 19,
   "metadata": {},
   "outputs": [
    {
     "data": {
      "text/html": [
       "<div>\n",
       "<style scoped>\n",
       "    .dataframe tbody tr th:only-of-type {\n",
       "        vertical-align: middle;\n",
       "    }\n",
       "\n",
       "    .dataframe tbody tr th {\n",
       "        vertical-align: top;\n",
       "    }\n",
       "\n",
       "    .dataframe thead th {\n",
       "        text-align: right;\n",
       "    }\n",
       "</style>\n",
       "<table border=\"1\" class=\"dataframe\">\n",
       "  <thead>\n",
       "    <tr style=\"text-align: right;\">\n",
       "      <th></th>\n",
       "      <th>open_plan</th>\n",
       "    </tr>\n",
       "    <tr>\n",
       "      <th>locality_name</th>\n",
       "      <th></th>\n",
       "    </tr>\n",
       "  </thead>\n",
       "  <tbody>\n",
       "    <tr>\n",
       "      <th>посёлок Мурино</th>\n",
       "      <td>522</td>\n",
       "    </tr>\n",
       "    <tr>\n",
       "      <th>Всеволожск</th>\n",
       "      <td>398</td>\n",
       "    </tr>\n",
       "    <tr>\n",
       "      <th>Гатчина</th>\n",
       "      <td>307</td>\n",
       "    </tr>\n",
       "    <tr>\n",
       "      <th>деревня Кудрово</th>\n",
       "      <td>299</td>\n",
       "    </tr>\n",
       "    <tr>\n",
       "      <th>Выборг</th>\n",
       "      <td>237</td>\n",
       "    </tr>\n",
       "  </tbody>\n",
       "</table>\n",
       "</div>"
      ],
      "text/plain": [
       "                 open_plan\n",
       "locality_name             \n",
       "посёлок Мурино         522\n",
       "Всеволожск             398\n",
       "Гатчина                307\n",
       "деревня Кудрово        299\n",
       "Выборг                 237"
      ]
     },
     "metadata": {},
     "output_type": "display_data"
    },
    {
     "data": {
      "text/html": [
       "<div>\n",
       "<style scoped>\n",
       "    .dataframe tbody tr th:only-of-type {\n",
       "        vertical-align: middle;\n",
       "    }\n",
       "\n",
       "    .dataframe tbody tr th {\n",
       "        vertical-align: top;\n",
       "    }\n",
       "\n",
       "    .dataframe thead th {\n",
       "        text-align: right;\n",
       "    }\n",
       "</style>\n",
       "<table border=\"1\" class=\"dataframe\">\n",
       "  <thead>\n",
       "    <tr style=\"text-align: right;\">\n",
       "      <th></th>\n",
       "      <th>open_plan</th>\n",
       "    </tr>\n",
       "    <tr>\n",
       "      <th>locality_name</th>\n",
       "      <th></th>\n",
       "    </tr>\n",
       "  </thead>\n",
       "  <tbody>\n",
       "    <tr>\n",
       "      <th>поселок городского типа Большая Ижора</th>\n",
       "      <td>1</td>\n",
       "    </tr>\n",
       "    <tr>\n",
       "      <th>поселок Цвылёво</th>\n",
       "      <td>1</td>\n",
       "    </tr>\n",
       "    <tr>\n",
       "      <th>деревня Трубников Бор</th>\n",
       "      <td>1</td>\n",
       "    </tr>\n",
       "    <tr>\n",
       "      <th>поселок Усть-Луга</th>\n",
       "      <td>1</td>\n",
       "    </tr>\n",
       "    <tr>\n",
       "      <th>село Шум</th>\n",
       "      <td>1</td>\n",
       "    </tr>\n",
       "  </tbody>\n",
       "</table>\n",
       "</div>"
      ],
      "text/plain": [
       "                                       open_plan\n",
       "locality_name                                   \n",
       "поселок городского типа Большая Ижора          1\n",
       "поселок Цвылёво                                1\n",
       "деревня Трубников Бор                          1\n",
       "поселок Усть-Луга                              1\n",
       "село Шум                                       1"
      ]
     },
     "metadata": {},
     "output_type": "display_data"
    }
   ],
   "source": [
    "city_center = (df.query('cityCenters_nearest.isnull()')\n",
    "               .pivot_table(index='locality_name', values='open_plan', aggfunc='count')\n",
    "               .sort_values(by='open_plan', ascending=False)\n",
    "            \n",
    ")\n",
    "display(city_center.head())\n",
    "display(city_center.tail())"
   ]
  },
  {
   "cell_type": "markdown",
   "metadata": {},
   "source": [
    "Как видим, значение `cityCenters_nearest` не указано как для дальних мест Леноболасти, так и для близких, как Мурино. Значит расстояние до центра всегда указано в случае населенных пунктов Петербурга, иногда - для близких к Питеру мест Ленобласти, и никогда - для дальних городов и поселков области."
   ]
  },
  {
   "cell_type": "markdown",
   "metadata": {},
   "source": [
    "Посмотрим на близость к паркам и водоемам."
   ]
  },
  {
   "cell_type": "code",
   "execution_count": 20,
   "metadata": {},
   "outputs": [
    {
     "data": {
      "text/plain": [
       "count    18181.000000\n",
       "mean         0.611408\n",
       "std          0.802074\n",
       "min          0.000000\n",
       "25%          0.000000\n",
       "50%          0.000000\n",
       "75%          1.000000\n",
       "max          3.000000\n",
       "Name: parks_around3000, dtype: float64"
      ]
     },
     "execution_count": 20,
     "metadata": {},
     "output_type": "execute_result"
    }
   ],
   "source": [
    "df.parks_around3000.describe()"
   ]
  },
  {
   "cell_type": "markdown",
   "metadata": {
    "tags": []
   },
   "source": [
    "От нуля до трех парков в радиусе 3км. При этом для тысяч квартир этих данных нет."
   ]
  },
  {
   "cell_type": "code",
   "execution_count": 21,
   "metadata": {},
   "outputs": [
    {
     "data": {
      "text/plain": [
       "count    8079.000000\n",
       "mean      490.804555\n",
       "std       342.317995\n",
       "min         1.000000\n",
       "25%       288.000000\n",
       "50%       455.000000\n",
       "75%       612.000000\n",
       "max      3190.000000\n",
       "Name: parks_nearest, dtype: float64"
      ]
     },
     "execution_count": 21,
     "metadata": {},
     "output_type": "execute_result"
    }
   ],
   "source": [
    "df.parks_nearest.describe()"
   ]
  },
  {
   "cell_type": "markdown",
   "metadata": {},
   "source": [
    "Довольно хороший показатель - для $3/4$ всех квартир есть парк не далее 10 минут пешком."
   ]
  },
  {
   "cell_type": "code",
   "execution_count": 22,
   "metadata": {
    "tags": []
   },
   "outputs": [
    {
     "data": {
      "text/plain": [
       "count    18181.000000\n",
       "mean         0.770255\n",
       "std          0.938346\n",
       "min          0.000000\n",
       "25%          0.000000\n",
       "50%          1.000000\n",
       "75%          1.000000\n",
       "max          3.000000\n",
       "Name: ponds_around3000, dtype: float64"
      ]
     },
     "execution_count": 22,
     "metadata": {},
     "output_type": "execute_result"
    }
   ],
   "source": [
    "df.ponds_around3000.describe()"
   ]
  },
  {
   "cell_type": "code",
   "execution_count": 23,
   "metadata": {},
   "outputs": [
    {
     "data": {
      "text/plain": [
       "count    9110.000000\n",
       "mean      517.980900\n",
       "std       277.720643\n",
       "min        13.000000\n",
       "25%       294.000000\n",
       "50%       502.000000\n",
       "75%       729.000000\n",
       "max      1344.000000\n",
       "Name: ponds_nearest, dtype: float64"
      ]
     },
     "execution_count": 23,
     "metadata": {},
     "output_type": "execute_result"
    }
   ],
   "source": [
    "df.ponds_nearest.describe()"
   ]
  },
  {
   "cell_type": "markdown",
   "metadata": {},
   "source": [
    "Весьма похожая ситуация и с водоемами. Они встречаются в радиусе 3км чуть почаще чем парки, исходя из медиан, а идти до них жильцам $3/4$ этих квартир примерно столько же - 10 минут."
   ]
  },
  {
   "cell_type": "markdown",
   "metadata": {},
   "source": [
    "И последнее по локациям - это близость аэропорта, подразумевая аэропорт Пулково."
   ]
  },
  {
   "cell_type": "code",
   "execution_count": 24,
   "metadata": {},
   "outputs": [
    {
     "data": {
      "text/plain": [
       "count    18157.000000\n",
       "mean     28793.672193\n",
       "std      12630.880622\n",
       "min          0.000000\n",
       "25%      18585.000000\n",
       "50%      26726.000000\n",
       "75%      37273.000000\n",
       "max      84869.000000\n",
       "Name: airports_nearest, dtype: float64"
      ]
     },
     "execution_count": 24,
     "metadata": {},
     "output_type": "execute_result"
    }
   ],
   "source": [
    "df.airports_nearest.describe()"
   ]
  },
  {
   "cell_type": "markdown",
   "metadata": {},
   "source": [
    "Минимум в 0 метров до аэропорта - довольно подозрительно. Максимум в 84км - говорит о том, что не для всех населенных пунктов близость к аэропорту считалась. Например, она не считалась для Выборга, от которого до аэропорта километров 150."
   ]
  },
  {
   "cell_type": "markdown",
   "metadata": {
    "tags": []
   },
   "source": [
    "### Изучение данных про само объявление"
   ]
  },
  {
   "cell_type": "markdown",
   "metadata": {},
   "source": [
    "В каких пределах находятся данные о том, когда объявление вывешено?"
   ]
  },
  {
   "cell_type": "code",
   "execution_count": 25,
   "metadata": {},
   "outputs": [
    {
     "data": {
      "text/plain": [
       "count                   23699\n",
       "unique                   1491\n",
       "top       2018-02-01T00:00:00\n",
       "freq                      368\n",
       "Name: first_day_exposition, dtype: object"
      ]
     },
     "metadata": {},
     "output_type": "display_data"
    },
    {
     "data": {
      "text/plain": [
       "'2014-11-27T00:00:00'"
      ]
     },
     "metadata": {},
     "output_type": "display_data"
    },
    {
     "data": {
      "text/plain": [
       "'2019-05-03T00:00:00'"
      ]
     },
     "metadata": {},
     "output_type": "display_data"
    }
   ],
   "source": [
    "display(df.first_day_exposition.describe())\n",
    "display(df.first_day_exposition.min())\n",
    "display(df.first_day_exposition.max())"
   ]
  },
  {
   "cell_type": "markdown",
   "metadata": {},
   "source": [
    "На 23 тысячи записей полторы тысячи уникальных значений - значит, данные по времени вывешивания уже можно считать удобными для группировки.\n",
    "Данные охватывают пять лет - с ноября 2014 по май 2019."
   ]
  },
  {
   "cell_type": "markdown",
   "metadata": {},
   "source": [
    "Посмотрим разброс значений того, сколько объявление висело."
   ]
  },
  {
   "cell_type": "code",
   "execution_count": 26,
   "metadata": {},
   "outputs": [
    {
     "data": {
      "text/plain": [
       "count    20518.000000\n",
       "mean       180.888634\n",
       "std        219.727988\n",
       "min          1.000000\n",
       "25%         45.000000\n",
       "50%         95.000000\n",
       "75%        232.000000\n",
       "max       1580.000000\n",
       "Name: days_exposition, dtype: float64"
      ]
     },
     "execution_count": 26,
     "metadata": {},
     "output_type": "execute_result"
    }
   ],
   "source": [
    "df.days_exposition.describe()"
   ]
  },
  {
   "cell_type": "markdown",
   "metadata": {},
   "source": [
    "От одного дня до 4 лет. Неплохо, однако. Характерна двухкратная разница между средним и медианой - объявления-долгожители очень сильно утягивают среднее вверх."
   ]
  },
  {
   "cell_type": "markdown",
   "metadata": {},
   "source": [
    "Посмотрим сколько картинок прикреплялось к объявлениям."
   ]
  },
  {
   "cell_type": "code",
   "execution_count": 27,
   "metadata": {},
   "outputs": [
    {
     "data": {
      "text/plain": [
       "count    23699.000000\n",
       "mean         9.858475\n",
       "std          5.682529\n",
       "min          0.000000\n",
       "25%          6.000000\n",
       "50%          9.000000\n",
       "75%         14.000000\n",
       "max         50.000000\n",
       "Name: total_images, dtype: float64"
      ]
     },
     "execution_count": 27,
     "metadata": {},
     "output_type": "execute_result"
    }
   ],
   "source": [
    "df.total_images.describe()"
   ]
  },
  {
   "cell_type": "markdown",
   "metadata": {},
   "source": [
    "Разброс от нуля до 50 картинок - с последним кто-то прилично потрудился. Половина всех картинок находится в диапазоне от 6 до 14 штук."
   ]
  },
  {
   "cell_type": "markdown",
   "metadata": {},
   "source": [
    "И, последнее, посмотрим на распределение цены."
   ]
  },
  {
   "cell_type": "code",
   "execution_count": 28,
   "metadata": {},
   "outputs": [
    {
     "data": {
      "text/plain": [
       "count    2.369900e+04\n",
       "mean     6.541549e+06\n",
       "std      1.088701e+07\n",
       "min      1.219000e+04\n",
       "25%      3.400000e+06\n",
       "50%      4.650000e+06\n",
       "75%      6.800000e+06\n",
       "max      7.630000e+08\n",
       "Name: last_price, dtype: float64"
      ]
     },
     "execution_count": 28,
     "metadata": {},
     "output_type": "execute_result"
    }
   ],
   "source": [
    "df['last_price'].describe()"
   ]
  },
  {
   "cell_type": "markdown",
   "metadata": {},
   "source": [
    "От 12 тысяч до 420 миллионов рублей. Максимум правдоподобен, а вот минимум - продажа по цене аренды - нет. Либо кто-то случайно аренду в продажу поставил, либо имел в виду под тысячами миллионы"
   ]
  },
  {
   "cell_type": "markdown",
   "metadata": {},
   "source": [
    "### Вывод"
   ]
  },
  {
   "cell_type": "markdown",
   "metadata": {},
   "source": [
    "Мы получили данные с не столь большим числом аномалий, с малым числом \"шумов\". Однако с большим числом пропусков - для некоторых характеристик пропущена четверть значений, без ясности как их восстановить.\n",
    "\n",
    "Данных много - целый 21 столбец."
   ]
  },
  {
   "cell_type": "markdown",
   "metadata": {},
   "source": [
    "## Предобработка данных"
   ]
  },
  {
   "cell_type": "markdown",
   "metadata": {
    "tags": []
   },
   "source": [
    "### Заполнение и удаление пропусков"
   ]
  },
  {
   "cell_type": "markdown",
   "metadata": {},
   "source": [
    "Выведем еще раз информацию с пропусками"
   ]
  },
  {
   "cell_type": "code",
   "execution_count": 29,
   "metadata": {},
   "outputs": [
    {
     "name": "stdout",
     "output_type": "stream",
     "text": [
      "<class 'pandas.core.frame.DataFrame'>\n",
      "RangeIndex: 23699 entries, 0 to 23698\n",
      "Data columns (total 22 columns):\n",
      " #   Column                Non-Null Count  Dtype  \n",
      "---  ------                --------------  -----  \n",
      " 0   total_area            23699 non-null  float64\n",
      " 1   living_area           21796 non-null  float64\n",
      " 2   kitchen_area          21421 non-null  float64\n",
      " 3   ceiling_height        14504 non-null  float64\n",
      " 4   rooms                 23699 non-null  int64  \n",
      " 5   studio                23699 non-null  bool   \n",
      " 6   balcony               12180 non-null  float64\n",
      " 7   open_plan             23699 non-null  bool   \n",
      " 8   is_apartment          2775 non-null   object \n",
      " 9   floor                 23699 non-null  int64  \n",
      " 10  floors_total          23613 non-null  float64\n",
      " 11  locality_name         23650 non-null  object \n",
      " 12  cityCenters_nearest   18180 non-null  float64\n",
      " 13  parks_around3000      18181 non-null  float64\n",
      " 14  parks_nearest         8079 non-null   float64\n",
      " 15  ponds_around3000      18181 non-null  float64\n",
      " 16  ponds_nearest         9110 non-null   float64\n",
      " 17  airports_nearest      18157 non-null  float64\n",
      " 18  first_day_exposition  23699 non-null  object \n",
      " 19  days_exposition       20518 non-null  float64\n",
      " 20  total_images          23699 non-null  int64  \n",
      " 21  last_price            23699 non-null  float64\n",
      "dtypes: bool(2), float64(14), int64(3), object(3)\n",
      "memory usage: 3.7+ MB\n"
     ]
    }
   ],
   "source": [
    "df.info()"
   ]
  },
  {
   "cell_type": "markdown",
   "metadata": {},
   "source": [
    "С `total_area` все хорошо, все заполнено.\n",
    "\n",
    "В `living_area` мы можем вставить медианные значения при группировке по `total_area`. Общая площадь и жилая площадь - близко коррелирующие переменные. Чтобы большее число данных заполнилось, приведем `total_area` к `int`  на данном этапе."
   ]
  },
  {
   "cell_type": "code",
   "execution_count": 30,
   "metadata": {},
   "outputs": [
    {
     "data": {
      "text/plain": [
       "count    23685.000000\n",
       "mean        34.544425\n",
       "std         22.037732\n",
       "min          2.000000\n",
       "25%         18.600000\n",
       "50%         30.000000\n",
       "75%         42.300000\n",
       "max        409.700000\n",
       "Name: living_area, dtype: float64"
      ]
     },
     "execution_count": 30,
     "metadata": {},
     "output_type": "execute_result"
    }
   ],
   "source": [
    "df['total_area'] = df['total_area'].round().astype('Int64')\n",
    "\n",
    "df['living_area'] = df['living_area'].fillna(df.groupby('total_area')['living_area'].transform('median'))\n",
    "\n",
    "df['living_area'].describe()"
   ]
  },
  {
   "cell_type": "markdown",
   "metadata": {},
   "source": [
    "Осталось несколько строк, мы их удалим. Жилая площадь и площадь кухни нам нужны так как позже будем добавлять дополнительные столбцы с расчетами на их основе. Тем более пропусков довольно мало. В случае с кухнями, мы удалим строки без площади кухни, так как площадь кухни может крайне сильно разниться, будучи малюсенькой кухней в относительно просторной хрущевке, либо занимать полквартиры в случае многих современных однокомнатных квартир."
   ]
  },
  {
   "cell_type": "code",
   "execution_count": 31,
   "metadata": {},
   "outputs": [
    {
     "name": "stdout",
     "output_type": "stream",
     "text": [
      "<class 'pandas.core.series.Series'>\n",
      "RangeIndex: 21418 entries, 0 to 21417\n",
      "Series name: living_area\n",
      "Non-Null Count  Dtype  \n",
      "--------------  -----  \n",
      "21418 non-null  float64\n",
      "dtypes: float64(1)\n",
      "memory usage: 167.5 KB\n"
     ]
    },
    {
     "data": {
      "text/plain": [
       "None"
      ]
     },
     "metadata": {},
     "output_type": "display_data"
    }
   ],
   "source": [
    "df.dropna(subset=['living_area', 'kitchen_area'], inplace=True)\n",
    "df = df.reset_index(drop=True)\n",
    "display(df['living_area'].info())"
   ]
  },
  {
   "cell_type": "code",
   "execution_count": 32,
   "metadata": {},
   "outputs": [
    {
     "name": "stdout",
     "output_type": "stream",
     "text": [
      "<class 'pandas.core.series.Series'>\n",
      "RangeIndex: 21418 entries, 0 to 21417\n",
      "Series name: kitchen_area\n",
      "Non-Null Count  Dtype  \n",
      "--------------  -----  \n",
      "21418 non-null  float64\n",
      "dtypes: float64(1)\n",
      "memory usage: 167.5 KB\n"
     ]
    },
    {
     "data": {
      "text/plain": [
       "None"
      ]
     },
     "metadata": {},
     "output_type": "display_data"
    }
   ],
   "source": [
    "display(df['kitchen_area'].info())"
   ]
  },
  {
   "cell_type": "markdown",
   "metadata": {},
   "source": [
    "Посмотрим минимальные площади кухонь."
   ]
  },
  {
   "cell_type": "code",
   "execution_count": 33,
   "metadata": {
    "tags": []
   },
   "outputs": [
    {
     "data": {
      "text/html": [
       "<div>\n",
       "<style scoped>\n",
       "    .dataframe tbody tr th:only-of-type {\n",
       "        vertical-align: middle;\n",
       "    }\n",
       "\n",
       "    .dataframe tbody tr th {\n",
       "        vertical-align: top;\n",
       "    }\n",
       "\n",
       "    .dataframe thead th {\n",
       "        text-align: right;\n",
       "    }\n",
       "</style>\n",
       "<table border=\"1\" class=\"dataframe\">\n",
       "  <thead>\n",
       "    <tr style=\"text-align: right;\">\n",
       "      <th></th>\n",
       "      <th>locality_name</th>\n",
       "    </tr>\n",
       "    <tr>\n",
       "      <th>kitchen_area</th>\n",
       "      <th></th>\n",
       "    </tr>\n",
       "  </thead>\n",
       "  <tbody>\n",
       "    <tr>\n",
       "      <th>1.30</th>\n",
       "      <td>1</td>\n",
       "    </tr>\n",
       "    <tr>\n",
       "      <th>2.00</th>\n",
       "      <td>7</td>\n",
       "    </tr>\n",
       "    <tr>\n",
       "      <th>2.30</th>\n",
       "      <td>1</td>\n",
       "    </tr>\n",
       "    <tr>\n",
       "      <th>2.40</th>\n",
       "      <td>1</td>\n",
       "    </tr>\n",
       "    <tr>\n",
       "      <th>2.89</th>\n",
       "      <td>1</td>\n",
       "    </tr>\n",
       "    <tr>\n",
       "      <th>3.00</th>\n",
       "      <td>7</td>\n",
       "    </tr>\n",
       "    <tr>\n",
       "      <th>3.20</th>\n",
       "      <td>1</td>\n",
       "    </tr>\n",
       "    <tr>\n",
       "      <th>3.30</th>\n",
       "      <td>1</td>\n",
       "    </tr>\n",
       "    <tr>\n",
       "      <th>3.40</th>\n",
       "      <td>1</td>\n",
       "    </tr>\n",
       "    <tr>\n",
       "      <th>3.50</th>\n",
       "      <td>4</td>\n",
       "    </tr>\n",
       "  </tbody>\n",
       "</table>\n",
       "</div>"
      ],
      "text/plain": [
       "              locality_name\n",
       "kitchen_area               \n",
       "1.30                      1\n",
       "2.00                      7\n",
       "2.30                      1\n",
       "2.40                      1\n",
       "2.89                      1\n",
       "3.00                      7\n",
       "3.20                      1\n",
       "3.30                      1\n",
       "3.40                      1\n",
       "3.50                      4"
      ]
     },
     "execution_count": 33,
     "metadata": {},
     "output_type": "execute_result"
    }
   ],
   "source": [
    "(   df.pivot_table(index='kitchen_area', values='locality_name', aggfunc='count')\n",
    "    .head(10)\n",
    ")"
   ]
  },
  {
   "cell_type": "markdown",
   "metadata": {},
   "source": [
    "Переводить площадь кухни в int мы не будем, так как для маленьких кухонь по $2-8 м^2$ (а таких много, тк много хрущевок) подобное округление - большой процент искажения (5-20%). Аналогично мы не будем переводить в `int` жилую площадь и площадь квартиры, хотя там процент искажения и был бы меньше."
   ]
  },
  {
   "cell_type": "markdown",
   "metadata": {},
   "source": [
    "Удалять пропущенные значения кухни и жилой площади мы не будем, так как иначе в столбце \"open_plan\" останутся одни `False` и этот столбец просто потеряет смысл."
   ]
  },
  {
   "cell_type": "markdown",
   "metadata": {},
   "source": [
    "В `ceiling_height` мы оставим пропуски как есть. Этот столбец содержит половину пропусков. Более-менее достоверно его заполнить неодинаковым данным мы не можем, а одинаковое данное исказило бы зависимость, которую мы построили бы позже, и была бы неоправданная слишком жирная линия одинаковых значений.\n",
    "\n",
    "В случае с балконами, мы оставим этот столбец тоже как есть. Когда балкона нет, указыватся 0.0. Подозрительно много квартир без данных - половина. Нет такого, чтобы у более чем половины квартир не было балконов - с учетом тех, у кого уже стоит 0.0. Так что отсутствие данных - отсутствие данных, и ничем его не заменить. Тем не менее, на всякий случай посчитаем долю квартир с нулевым числом балконов."
   ]
  },
  {
   "cell_type": "code",
   "execution_count": 34,
   "metadata": {},
   "outputs": [
    {
     "name": "stdout",
     "output_type": "stream",
     "text": [
      "Без балконов: 3402\n",
      "Всего квартир с балконами: 8048\n"
     ]
    }
   ],
   "source": [
    "print('Без балконов:', df.query('balcony==0')['balcony'].count())\n",
    "print('Всего квартир с балконами:',  df.query('balcony!=0')['balcony'].count())"
   ]
  },
  {
   "cell_type": "markdown",
   "metadata": {},
   "source": [
    "Примерно у трети квартир нет балконов - правдоподобно."
   ]
  },
  {
   "cell_type": "markdown",
   "metadata": {},
   "source": [
    "Посмотрим сколько у нас апартаментов."
   ]
  },
  {
   "cell_type": "code",
   "execution_count": 35,
   "metadata": {},
   "outputs": [
    {
     "data": {
      "text/plain": [
       "False    2550\n",
       "True       35\n",
       "Name: is_apartment, dtype: int64"
      ]
     },
     "execution_count": 35,
     "metadata": {},
     "output_type": "execute_result"
    }
   ],
   "source": [
    "df['is_apartment'].value_counts()"
   ]
  },
  {
   "cell_type": "markdown",
   "metadata": {},
   "source": [
    "Апартаменты - это, конечно, редкий вид жилья, но не настолько редкий чтобы на 23 тысячи объявлений их было всего 35 - каждое семисотое. Не видим никаких способов правдоподобно прикинуть что есть апартаненты на основе текущих данных, а писать что все не является апартаментами - искажение данных."
   ]
  },
  {
   "cell_type": "markdown",
   "metadata": {},
   "source": [
    "Посмотрим, есть ли что общее у записей, где не написано общее число этажей."
   ]
  },
  {
   "cell_type": "code",
   "execution_count": 36,
   "metadata": {
    "tags": []
   },
   "outputs": [
    {
     "data": {
      "text/html": [
       "<div>\n",
       "<style scoped>\n",
       "    .dataframe tbody tr th:only-of-type {\n",
       "        vertical-align: middle;\n",
       "    }\n",
       "\n",
       "    .dataframe tbody tr th {\n",
       "        vertical-align: top;\n",
       "    }\n",
       "\n",
       "    .dataframe thead th {\n",
       "        text-align: right;\n",
       "    }\n",
       "</style>\n",
       "<table border=\"1\" class=\"dataframe\">\n",
       "  <thead>\n",
       "    <tr style=\"text-align: right;\">\n",
       "      <th></th>\n",
       "      <th>total_area</th>\n",
       "      <th>living_area</th>\n",
       "      <th>kitchen_area</th>\n",
       "      <th>ceiling_height</th>\n",
       "      <th>rooms</th>\n",
       "      <th>studio</th>\n",
       "      <th>balcony</th>\n",
       "      <th>open_plan</th>\n",
       "      <th>is_apartment</th>\n",
       "      <th>floor</th>\n",
       "      <th>floors_total</th>\n",
       "      <th>locality_name</th>\n",
       "      <th>cityCenters_nearest</th>\n",
       "      <th>parks_around3000</th>\n",
       "      <th>parks_nearest</th>\n",
       "      <th>ponds_around3000</th>\n",
       "      <th>ponds_nearest</th>\n",
       "      <th>airports_nearest</th>\n",
       "      <th>first_day_exposition</th>\n",
       "      <th>days_exposition</th>\n",
       "      <th>total_images</th>\n",
       "      <th>last_price</th>\n",
       "    </tr>\n",
       "  </thead>\n",
       "  <tbody>\n",
       "    <tr>\n",
       "      <th>172</th>\n",
       "      <td>65</td>\n",
       "      <td>30.8</td>\n",
       "      <td>12.00</td>\n",
       "      <td>NaN</td>\n",
       "      <td>2</td>\n",
       "      <td>False</td>\n",
       "      <td>NaN</td>\n",
       "      <td>False</td>\n",
       "      <td>NaN</td>\n",
       "      <td>4</td>\n",
       "      <td>NaN</td>\n",
       "      <td>Санкт-Петербург</td>\n",
       "      <td>12373.0</td>\n",
       "      <td>1.0</td>\n",
       "      <td>123.0</td>\n",
       "      <td>0.0</td>\n",
       "      <td>NaN</td>\n",
       "      <td>39197.0</td>\n",
       "      <td>2018-10-02T00:00:00</td>\n",
       "      <td>49.0</td>\n",
       "      <td>12</td>\n",
       "      <td>11640000.0</td>\n",
       "    </tr>\n",
       "    <tr>\n",
       "      <th>420</th>\n",
       "      <td>71</td>\n",
       "      <td>38.4</td>\n",
       "      <td>10.63</td>\n",
       "      <td>NaN</td>\n",
       "      <td>2</td>\n",
       "      <td>False</td>\n",
       "      <td>0.0</td>\n",
       "      <td>False</td>\n",
       "      <td>NaN</td>\n",
       "      <td>12</td>\n",
       "      <td>NaN</td>\n",
       "      <td>Санкт-Петербург</td>\n",
       "      <td>8322.0</td>\n",
       "      <td>2.0</td>\n",
       "      <td>309.0</td>\n",
       "      <td>2.0</td>\n",
       "      <td>706.0</td>\n",
       "      <td>37364.0</td>\n",
       "      <td>2015-08-01T00:00:00</td>\n",
       "      <td>727.0</td>\n",
       "      <td>4</td>\n",
       "      <td>9788348.0</td>\n",
       "    </tr>\n",
       "    <tr>\n",
       "      <th>618</th>\n",
       "      <td>94</td>\n",
       "      <td>47.1</td>\n",
       "      <td>16.80</td>\n",
       "      <td>NaN</td>\n",
       "      <td>3</td>\n",
       "      <td>False</td>\n",
       "      <td>0.0</td>\n",
       "      <td>False</td>\n",
       "      <td>NaN</td>\n",
       "      <td>8</td>\n",
       "      <td>NaN</td>\n",
       "      <td>Санкт-Петербург</td>\n",
       "      <td>17369.0</td>\n",
       "      <td>0.0</td>\n",
       "      <td>NaN</td>\n",
       "      <td>1.0</td>\n",
       "      <td>374.0</td>\n",
       "      <td>22041.0</td>\n",
       "      <td>2017-04-06T00:00:00</td>\n",
       "      <td>123.0</td>\n",
       "      <td>4</td>\n",
       "      <td>6051191.0</td>\n",
       "    </tr>\n",
       "    <tr>\n",
       "      <th>2175</th>\n",
       "      <td>53</td>\n",
       "      <td>29.0</td>\n",
       "      <td>9.00</td>\n",
       "      <td>NaN</td>\n",
       "      <td>2</td>\n",
       "      <td>False</td>\n",
       "      <td>0.0</td>\n",
       "      <td>False</td>\n",
       "      <td>NaN</td>\n",
       "      <td>22</td>\n",
       "      <td>NaN</td>\n",
       "      <td>Санкт-Петербург</td>\n",
       "      <td>10820.0</td>\n",
       "      <td>0.0</td>\n",
       "      <td>NaN</td>\n",
       "      <td>0.0</td>\n",
       "      <td>NaN</td>\n",
       "      <td>43074.0</td>\n",
       "      <td>2017-06-29T00:00:00</td>\n",
       "      <td>48.0</td>\n",
       "      <td>7</td>\n",
       "      <td>5395770.0</td>\n",
       "    </tr>\n",
       "    <tr>\n",
       "      <th>2685</th>\n",
       "      <td>54</td>\n",
       "      <td>22.2</td>\n",
       "      <td>12.30</td>\n",
       "      <td>NaN</td>\n",
       "      <td>1</td>\n",
       "      <td>False</td>\n",
       "      <td>NaN</td>\n",
       "      <td>False</td>\n",
       "      <td>NaN</td>\n",
       "      <td>6</td>\n",
       "      <td>NaN</td>\n",
       "      <td>Санкт-Петербург</td>\n",
       "      <td>3148.0</td>\n",
       "      <td>0.0</td>\n",
       "      <td>NaN</td>\n",
       "      <td>0.0</td>\n",
       "      <td>NaN</td>\n",
       "      <td>23606.0</td>\n",
       "      <td>2019-04-23T00:00:00</td>\n",
       "      <td>NaN</td>\n",
       "      <td>10</td>\n",
       "      <td>6500000.0</td>\n",
       "    </tr>\n",
       "  </tbody>\n",
       "</table>\n",
       "</div>"
      ],
      "text/plain": [
       "      total_area  living_area  kitchen_area  ceiling_height  rooms  studio  \\\n",
       "172           65         30.8         12.00             NaN      2   False   \n",
       "420           71         38.4         10.63             NaN      2   False   \n",
       "618           94         47.1         16.80             NaN      3   False   \n",
       "2175          53         29.0          9.00             NaN      2   False   \n",
       "2685          54         22.2         12.30             NaN      1   False   \n",
       "\n",
       "      balcony  open_plan is_apartment  floor  floors_total    locality_name  \\\n",
       "172       NaN      False          NaN      4           NaN  Санкт-Петербург   \n",
       "420       0.0      False          NaN     12           NaN  Санкт-Петербург   \n",
       "618       0.0      False          NaN      8           NaN  Санкт-Петербург   \n",
       "2175      0.0      False          NaN     22           NaN  Санкт-Петербург   \n",
       "2685      NaN      False          NaN      6           NaN  Санкт-Петербург   \n",
       "\n",
       "      cityCenters_nearest  parks_around3000  parks_nearest  ponds_around3000  \\\n",
       "172               12373.0               1.0          123.0               0.0   \n",
       "420                8322.0               2.0          309.0               2.0   \n",
       "618               17369.0               0.0            NaN               1.0   \n",
       "2175              10820.0               0.0            NaN               0.0   \n",
       "2685               3148.0               0.0            NaN               0.0   \n",
       "\n",
       "      ponds_nearest  airports_nearest first_day_exposition  days_exposition  \\\n",
       "172             NaN           39197.0  2018-10-02T00:00:00             49.0   \n",
       "420           706.0           37364.0  2015-08-01T00:00:00            727.0   \n",
       "618           374.0           22041.0  2017-04-06T00:00:00            123.0   \n",
       "2175            NaN           43074.0  2017-06-29T00:00:00             48.0   \n",
       "2685            NaN           23606.0  2019-04-23T00:00:00              NaN   \n",
       "\n",
       "      total_images  last_price  \n",
       "172             12  11640000.0  \n",
       "420              4   9788348.0  \n",
       "618              4   6051191.0  \n",
       "2175             7   5395770.0  \n",
       "2685            10   6500000.0  "
      ]
     },
     "execution_count": 36,
     "metadata": {},
     "output_type": "execute_result"
    }
   ],
   "source": [
    "df.query('floors_total != floors_total').head()"
   ]
  },
  {
   "cell_type": "markdown",
   "metadata": {
    "tags": []
   },
   "source": [
    "Эти квартиры находятся и на 4, и на 22 этаже, так что это не одноэтажные дома и не верхние этажи. Можно удалить записи без количества этажей. Этих записей совсем немного, а число этажей нам нужно будет для создания новых колонок.\n",
    "\n",
    "Также удалим записи, где не указан населенный пункт - таких записей тоже немного, - перед этим их на всякий случай проглядев."
   ]
  },
  {
   "cell_type": "code",
   "execution_count": 37,
   "metadata": {},
   "outputs": [
    {
     "data": {
      "text/html": [
       "<div>\n",
       "<style scoped>\n",
       "    .dataframe tbody tr th:only-of-type {\n",
       "        vertical-align: middle;\n",
       "    }\n",
       "\n",
       "    .dataframe tbody tr th {\n",
       "        vertical-align: top;\n",
       "    }\n",
       "\n",
       "    .dataframe thead th {\n",
       "        text-align: right;\n",
       "    }\n",
       "</style>\n",
       "<table border=\"1\" class=\"dataframe\">\n",
       "  <thead>\n",
       "    <tr style=\"text-align: right;\">\n",
       "      <th></th>\n",
       "      <th>total_area</th>\n",
       "      <th>living_area</th>\n",
       "      <th>kitchen_area</th>\n",
       "      <th>ceiling_height</th>\n",
       "      <th>rooms</th>\n",
       "      <th>studio</th>\n",
       "      <th>balcony</th>\n",
       "      <th>open_plan</th>\n",
       "      <th>is_apartment</th>\n",
       "      <th>floor</th>\n",
       "      <th>floors_total</th>\n",
       "      <th>locality_name</th>\n",
       "      <th>cityCenters_nearest</th>\n",
       "      <th>parks_around3000</th>\n",
       "      <th>parks_nearest</th>\n",
       "      <th>ponds_around3000</th>\n",
       "      <th>ponds_nearest</th>\n",
       "      <th>airports_nearest</th>\n",
       "      <th>first_day_exposition</th>\n",
       "      <th>days_exposition</th>\n",
       "      <th>total_images</th>\n",
       "      <th>last_price</th>\n",
       "    </tr>\n",
       "  </thead>\n",
       "  <tbody>\n",
       "    <tr>\n",
       "      <th>1004</th>\n",
       "      <td>82</td>\n",
       "      <td>50.8</td>\n",
       "      <td>8.8</td>\n",
       "      <td>3.55</td>\n",
       "      <td>3</td>\n",
       "      <td>False</td>\n",
       "      <td>0.0</td>\n",
       "      <td>False</td>\n",
       "      <td>NaN</td>\n",
       "      <td>2</td>\n",
       "      <td>5.0</td>\n",
       "      <td>NaN</td>\n",
       "      <td>4258.0</td>\n",
       "      <td>0.0</td>\n",
       "      <td>NaN</td>\n",
       "      <td>0.0</td>\n",
       "      <td>NaN</td>\n",
       "      <td>23478.0</td>\n",
       "      <td>2016-04-15T00:00:00</td>\n",
       "      <td>147.0</td>\n",
       "      <td>3</td>\n",
       "      <td>8600000.0</td>\n",
       "    </tr>\n",
       "    <tr>\n",
       "      <th>1848</th>\n",
       "      <td>80</td>\n",
       "      <td>42.6</td>\n",
       "      <td>18.6</td>\n",
       "      <td>NaN</td>\n",
       "      <td>3</td>\n",
       "      <td>False</td>\n",
       "      <td>0.0</td>\n",
       "      <td>False</td>\n",
       "      <td>NaN</td>\n",
       "      <td>2</td>\n",
       "      <td>4.0</td>\n",
       "      <td>NaN</td>\n",
       "      <td>NaN</td>\n",
       "      <td>NaN</td>\n",
       "      <td>NaN</td>\n",
       "      <td>NaN</td>\n",
       "      <td>NaN</td>\n",
       "      <td>NaN</td>\n",
       "      <td>2017-05-30T00:00:00</td>\n",
       "      <td>34.0</td>\n",
       "      <td>6</td>\n",
       "      <td>5398000.0</td>\n",
       "    </tr>\n",
       "    <tr>\n",
       "      <th>2366</th>\n",
       "      <td>43</td>\n",
       "      <td>15.6</td>\n",
       "      <td>10.7</td>\n",
       "      <td>NaN</td>\n",
       "      <td>1</td>\n",
       "      <td>False</td>\n",
       "      <td>0.0</td>\n",
       "      <td>False</td>\n",
       "      <td>NaN</td>\n",
       "      <td>3</td>\n",
       "      <td>24.0</td>\n",
       "      <td>NaN</td>\n",
       "      <td>17369.0</td>\n",
       "      <td>0.0</td>\n",
       "      <td>NaN</td>\n",
       "      <td>1.0</td>\n",
       "      <td>374.0</td>\n",
       "      <td>22041.0</td>\n",
       "      <td>2015-09-20T00:00:00</td>\n",
       "      <td>276.0</td>\n",
       "      <td>20</td>\n",
       "      <td>3351765.0</td>\n",
       "    </tr>\n",
       "    <tr>\n",
       "      <th>2393</th>\n",
       "      <td>62</td>\n",
       "      <td>33.1</td>\n",
       "      <td>8.2</td>\n",
       "      <td>NaN</td>\n",
       "      <td>2</td>\n",
       "      <td>False</td>\n",
       "      <td>0.0</td>\n",
       "      <td>False</td>\n",
       "      <td>NaN</td>\n",
       "      <td>21</td>\n",
       "      <td>24.0</td>\n",
       "      <td>NaN</td>\n",
       "      <td>17369.0</td>\n",
       "      <td>0.0</td>\n",
       "      <td>NaN</td>\n",
       "      <td>1.0</td>\n",
       "      <td>374.0</td>\n",
       "      <td>22041.0</td>\n",
       "      <td>2015-10-11T00:00:00</td>\n",
       "      <td>256.0</td>\n",
       "      <td>2</td>\n",
       "      <td>5130593.0</td>\n",
       "    </tr>\n",
       "    <tr>\n",
       "      <th>3248</th>\n",
       "      <td>46</td>\n",
       "      <td>30.8</td>\n",
       "      <td>6.5</td>\n",
       "      <td>NaN</td>\n",
       "      <td>2</td>\n",
       "      <td>False</td>\n",
       "      <td>0.0</td>\n",
       "      <td>False</td>\n",
       "      <td>NaN</td>\n",
       "      <td>5</td>\n",
       "      <td>5.0</td>\n",
       "      <td>NaN</td>\n",
       "      <td>8127.0</td>\n",
       "      <td>0.0</td>\n",
       "      <td>NaN</td>\n",
       "      <td>1.0</td>\n",
       "      <td>603.0</td>\n",
       "      <td>27419.0</td>\n",
       "      <td>2016-05-28T00:00:00</td>\n",
       "      <td>45.0</td>\n",
       "      <td>10</td>\n",
       "      <td>4200000.0</td>\n",
       "    </tr>\n",
       "  </tbody>\n",
       "</table>\n",
       "</div>"
      ],
      "text/plain": [
       "      total_area  living_area  kitchen_area  ceiling_height  rooms  studio  \\\n",
       "1004          82         50.8           8.8            3.55      3   False   \n",
       "1848          80         42.6          18.6             NaN      3   False   \n",
       "2366          43         15.6          10.7             NaN      1   False   \n",
       "2393          62         33.1           8.2             NaN      2   False   \n",
       "3248          46         30.8           6.5             NaN      2   False   \n",
       "\n",
       "      balcony  open_plan is_apartment  floor  floors_total locality_name  \\\n",
       "1004      0.0      False          NaN      2           5.0           NaN   \n",
       "1848      0.0      False          NaN      2           4.0           NaN   \n",
       "2366      0.0      False          NaN      3          24.0           NaN   \n",
       "2393      0.0      False          NaN     21          24.0           NaN   \n",
       "3248      0.0      False          NaN      5           5.0           NaN   \n",
       "\n",
       "      cityCenters_nearest  parks_around3000  parks_nearest  ponds_around3000  \\\n",
       "1004               4258.0               0.0            NaN               0.0   \n",
       "1848                  NaN               NaN            NaN               NaN   \n",
       "2366              17369.0               0.0            NaN               1.0   \n",
       "2393              17369.0               0.0            NaN               1.0   \n",
       "3248               8127.0               0.0            NaN               1.0   \n",
       "\n",
       "      ponds_nearest  airports_nearest first_day_exposition  days_exposition  \\\n",
       "1004            NaN           23478.0  2016-04-15T00:00:00            147.0   \n",
       "1848            NaN               NaN  2017-05-30T00:00:00             34.0   \n",
       "2366          374.0           22041.0  2015-09-20T00:00:00            276.0   \n",
       "2393          374.0           22041.0  2015-10-11T00:00:00            256.0   \n",
       "3248          603.0           27419.0  2016-05-28T00:00:00             45.0   \n",
       "\n",
       "      total_images  last_price  \n",
       "1004             3   8600000.0  \n",
       "1848             6   5398000.0  \n",
       "2366            20   3351765.0  \n",
       "2393             2   5130593.0  \n",
       "3248            10   4200000.0  "
      ]
     },
     "execution_count": 37,
     "metadata": {},
     "output_type": "execute_result"
    }
   ],
   "source": [
    "df.query('locality_name != locality_name').head()"
   ]
  },
  {
   "cell_type": "code",
   "execution_count": 38,
   "metadata": {},
   "outputs": [
    {
     "data": {
      "text/plain": [
       "total_area              21340\n",
       "living_area             21340\n",
       "kitchen_area            21340\n",
       "ceiling_height          13546\n",
       "rooms                   21340\n",
       "studio                  21340\n",
       "balcony                 11388\n",
       "open_plan               21340\n",
       "is_apartment             2573\n",
       "floor                   21340\n",
       "floors_total            21340\n",
       "locality_name           21340\n",
       "cityCenters_nearest     16545\n",
       "parks_around3000        16546\n",
       "parks_nearest            7364\n",
       "ponds_around3000        16546\n",
       "ponds_nearest            8224\n",
       "airports_nearest        16524\n",
       "first_day_exposition    21340\n",
       "days_exposition         18369\n",
       "total_images            21340\n",
       "last_price              21340\n",
       "dtype: int64"
      ]
     },
     "execution_count": 38,
     "metadata": {},
     "output_type": "execute_result"
    }
   ],
   "source": [
    "df = df.dropna(subset=['floors_total', 'locality_name']).reset_index(drop=True)\n",
    "df.count()"
   ]
  },
  {
   "cell_type": "markdown",
   "metadata": {},
   "source": [
    "Посмотрим, является ли число парков и прудов в радиусе трех километром столбцами, где пропуск значит нуль, или пропуск - это действительно пропуск."
   ]
  },
  {
   "cell_type": "code",
   "execution_count": 39,
   "metadata": {},
   "outputs": [
    {
     "data": {
      "text/plain": [
       "0.0    9186\n",
       "1.0    5191\n",
       "2.0    1586\n",
       "3.0     583\n",
       "Name: parks_around3000, dtype: int64"
      ]
     },
     "execution_count": 39,
     "metadata": {},
     "output_type": "execute_result"
    }
   ],
   "source": [
    "df['parks_around3000'].value_counts()"
   ]
  },
  {
   "cell_type": "code",
   "execution_count": 40,
   "metadata": {
    "tags": []
   },
   "outputs": [
    {
     "data": {
      "text/plain": [
       "0.0    8322\n",
       "1.0    5125\n",
       "2.0    1728\n",
       "3.0    1371\n",
       "Name: ponds_around3000, dtype: int64"
      ]
     },
     "execution_count": 40,
     "metadata": {},
     "output_type": "execute_result"
    }
   ],
   "source": [
    "df['ponds_around3000'].value_counts()"
   ]
  },
  {
   "cell_type": "markdown",
   "metadata": {},
   "source": [
    "Большинство существующих значений - с нулями. Значит, наличие пропуска - это пропуск, а не нуль. Оставим пропуски как есть."
   ]
  },
  {
   "cell_type": "markdown",
   "metadata": {},
   "source": [
    "В остальных данных не будем делать каких-либо изменений в столбцах с пропусками. "
   ]
  },
  {
   "cell_type": "markdown",
   "metadata": {
    "tags": []
   },
   "source": [
    "### Исправление аномалий"
   ]
  },
  {
   "cell_type": "markdown",
   "metadata": {},
   "source": [
    "Неестественно большие и неестественно малые величины исправим на этапе исследовательского анализа данных, на основе гистограмм."
   ]
  },
  {
   "cell_type": "markdown",
   "metadata": {},
   "source": [
    "### Изменение типов данных"
   ]
  },
  {
   "cell_type": "markdown",
   "metadata": {},
   "source": [
    "Перед изменением типов данных, посмотрим текущие типы данных и вес, чтобы сравнить потом с весом после."
   ]
  },
  {
   "cell_type": "code",
   "execution_count": 41,
   "metadata": {},
   "outputs": [
    {
     "name": "stdout",
     "output_type": "stream",
     "text": [
      "<class 'pandas.core.frame.DataFrame'>\n",
      "RangeIndex: 21340 entries, 0 to 21339\n",
      "Data columns (total 22 columns):\n",
      " #   Column                Non-Null Count  Dtype  \n",
      "---  ------                --------------  -----  \n",
      " 0   total_area            21340 non-null  Int64  \n",
      " 1   living_area           21340 non-null  float64\n",
      " 2   kitchen_area          21340 non-null  float64\n",
      " 3   ceiling_height        13546 non-null  float64\n",
      " 4   rooms                 21340 non-null  int64  \n",
      " 5   studio                21340 non-null  bool   \n",
      " 6   balcony               11388 non-null  float64\n",
      " 7   open_plan             21340 non-null  bool   \n",
      " 8   is_apartment          2573 non-null   object \n",
      " 9   floor                 21340 non-null  int64  \n",
      " 10  floors_total          21340 non-null  float64\n",
      " 11  locality_name         21340 non-null  object \n",
      " 12  cityCenters_nearest   16545 non-null  float64\n",
      " 13  parks_around3000      16546 non-null  float64\n",
      " 14  parks_nearest         7364 non-null   float64\n",
      " 15  ponds_around3000      16546 non-null  float64\n",
      " 16  ponds_nearest         8224 non-null   float64\n",
      " 17  airports_nearest      16524 non-null  float64\n",
      " 18  first_day_exposition  21340 non-null  object \n",
      " 19  days_exposition       18369 non-null  float64\n",
      " 20  total_images          21340 non-null  int64  \n",
      " 21  last_price            21340 non-null  float64\n",
      "dtypes: Int64(1), bool(2), float64(13), int64(3), object(3)\n",
      "memory usage: 3.3+ MB\n"
     ]
    }
   ],
   "source": [
    "df.info()"
   ]
  },
  {
   "cell_type": "markdown",
   "metadata": {},
   "source": [
    "Приведем к целому типу заведомо целочисленные данные:\n",
    "- Число балконов\n",
    "- Число этажей\n",
    "- Число парков и водоемов в округе\n",
    "- Число фотографий"
   ]
  },
  {
   "cell_type": "code",
   "execution_count": 42,
   "metadata": {},
   "outputs": [],
   "source": [
    "df['balcony'] = df['balcony'].round().astype('Int8')\n",
    "df['floors_total'] = df['floors_total'].round().astype('Int8')\n",
    "df['parks_around3000'] =  df['parks_around3000'].round().astype('Int8')\n",
    "df['ponds_around3000'] =  df['ponds_around3000'].round().astype('Int8')\n",
    "df['total_images'] = df['total_images'].round().astype('Int8')"
   ]
  },
  {
   "cell_type": "markdown",
   "metadata": {},
   "source": [
    "Приведем расстояния к целому числу метров\n",
    "- Расстояние до центра города (заодно исправим название колонки на lowercase)\n",
    " - Расстояние до парков и прудов\n",
    " - Расстояние до Пулково\n",
    " – Сколько дней объявление вывешено\n"
   ]
  },
  {
   "cell_type": "code",
   "execution_count": 43,
   "metadata": {},
   "outputs": [],
   "source": [
    "df.rename(columns={'cityCenters_nearest': 'city_center_nearest'}, inplace=True)\n",
    "df['city_center_nearest'] = df['city_center_nearest'].round().astype('Int64')\n",
    "df['parks_nearest'] = df['parks_nearest'].round().astype('Int64')\n",
    "df['ponds_nearest'] = df['ponds_nearest'].round().astype('Int64')\n",
    "df['airports_nearest'] = df['airports_nearest'].round().astype('Int64')\n",
    "df['days_exposition'] = df['days_exposition'].round().astype('Int64')"
   ]
  },
  {
   "cell_type": "markdown",
   "metadata": {},
   "source": [
    "Переведем цену в целые рубли, без копеек и долей копейки."
   ]
  },
  {
   "cell_type": "code",
   "execution_count": 44,
   "metadata": {},
   "outputs": [],
   "source": [
    "df['last_price'] = df['last_price'].round().astype('Int64')"
   ]
  },
  {
   "cell_type": "markdown",
   "metadata": {},
   "source": [
    "И последнее преобразование - приведение \"Является ли апартаментами\" из object в bool."
   ]
  },
  {
   "cell_type": "code",
   "execution_count": 45,
   "metadata": {},
   "outputs": [],
   "source": [
    "df['is_apartment'] = df['is_apartment'].astype('bool')"
   ]
  },
  {
   "cell_type": "markdown",
   "metadata": {},
   "source": [
    "Можем также привести `float64` к `float16` в качестве хорошей практики экономии места, когда данные не требуют излишней точности."
   ]
  },
  {
   "cell_type": "code",
   "execution_count": 46,
   "metadata": {},
   "outputs": [],
   "source": [
    "df['living_area'] = df['living_area'].astype('float16')\n",
    "df['kitchen_area'] = df['kitchen_area'].astype('float16')\n",
    "df['ceiling_height'] = df['ceiling_height'].astype('float16')"
   ]
  },
  {
   "cell_type": "markdown",
   "metadata": {},
   "source": [
    "Проверим результаты преобразования типов."
   ]
  },
  {
   "cell_type": "code",
   "execution_count": 47,
   "metadata": {
    "tags": []
   },
   "outputs": [
    {
     "name": "stdout",
     "output_type": "stream",
     "text": [
      "<class 'pandas.core.frame.DataFrame'>\n",
      "RangeIndex: 21340 entries, 0 to 21339\n",
      "Data columns (total 22 columns):\n",
      " #   Column                Non-Null Count  Dtype  \n",
      "---  ------                --------------  -----  \n",
      " 0   total_area            21340 non-null  Int64  \n",
      " 1   living_area           21340 non-null  float16\n",
      " 2   kitchen_area          21340 non-null  float16\n",
      " 3   ceiling_height        13546 non-null  float16\n",
      " 4   rooms                 21340 non-null  int64  \n",
      " 5   studio                21340 non-null  bool   \n",
      " 6   balcony               11388 non-null  Int8   \n",
      " 7   open_plan             21340 non-null  bool   \n",
      " 8   is_apartment          21340 non-null  bool   \n",
      " 9   floor                 21340 non-null  int64  \n",
      " 10  floors_total          21340 non-null  Int8   \n",
      " 11  locality_name         21340 non-null  object \n",
      " 12  city_center_nearest   16545 non-null  Int64  \n",
      " 13  parks_around3000      16546 non-null  Int8   \n",
      " 14  parks_nearest         7364 non-null   Int64  \n",
      " 15  ponds_around3000      16546 non-null  Int8   \n",
      " 16  ponds_nearest         8224 non-null   Int64  \n",
      " 17  airports_nearest      16524 non-null  Int64  \n",
      " 18  first_day_exposition  21340 non-null  object \n",
      " 19  days_exposition       18369 non-null  Int64  \n",
      " 20  total_images          21340 non-null  Int8   \n",
      " 21  last_price            21340 non-null  Int64  \n",
      "dtypes: Int64(7), Int8(5), bool(3), float16(3), int64(2), object(2)\n",
      "memory usage: 2.3+ MB\n"
     ]
    }
   ],
   "source": [
    "df.info()"
   ]
  },
  {
   "cell_type": "markdown",
   "metadata": {},
   "source": [
    "Итого вес уменьшился на $ \\frac{2}{7} $. Это не столь существенно в случае с 2-3 мегабайтами как у нас, но эти же $ \\frac{2}{7} $ были бы огромным достижением в случае если бы записей было бы в 100 раз больше - для данных по всей России. Не только уменьшается вес, но и растет скорость обработки данных."
   ]
  },
  {
   "cell_type": "markdown",
   "metadata": {},
   "source": [
    "Теперь все данные приведены к типам наилучшим образом."
   ]
  },
  {
   "cell_type": "markdown",
   "metadata": {},
   "source": [
    "### Удаление дубликатов"
   ]
  },
  {
   "cell_type": "markdown",
   "metadata": {},
   "source": [
    "Посмотрим, есть ли в таблице дубликаты и удалим их при необходимости."
   ]
  },
  {
   "cell_type": "code",
   "execution_count": 48,
   "metadata": {
    "tags": []
   },
   "outputs": [
    {
     "data": {
      "text/plain": [
       "0"
      ]
     },
     "execution_count": 48,
     "metadata": {},
     "output_type": "execute_result"
    }
   ],
   "source": [
    "df.duplicated().sum()"
   ]
  },
  {
   "cell_type": "markdown",
   "metadata": {},
   "source": [
    "Дубликатов нет, удалять нечего."
   ]
  },
  {
   "cell_type": "markdown",
   "metadata": {},
   "source": [
    "### Вывод"
   ]
  },
  {
   "cell_type": "markdown",
   "metadata": {},
   "source": [
    "На данном этапе - этапе предобработки данных - мы успешно предобработали данные.\n",
    "Мы заменили лишь меньшее число пропусков, оставив большее, так как нет связей на основе которых мы могли бы добавить данные. И важно то, что пропуски в большинстве столбцов нам просто никак не мешают. \n",
    "\n",
    "Также мы изменили типы данных, уменьшив попутно  размер таблицы на $\\frac{2}{7}$ и проверили отсутствие дубликатов."
   ]
  },
  {
   "cell_type": "markdown",
   "metadata": {
    "tags": []
   },
   "source": [
    "## Добавление новых параметров в таблицу"
   ]
  },
  {
   "cell_type": "markdown",
   "metadata": {},
   "source": [
    "*Добавление новых параметров в таблицу, рассчитанных на основе существующих параметров*"
   ]
  },
  {
   "cell_type": "markdown",
   "metadata": {},
   "source": [
    "### Цена квадратного метра"
   ]
  },
  {
   "cell_type": "markdown",
   "metadata": {},
   "source": [
    "Фундаментальная характеристика для рынка недвижимости - цена квадратного метра, и как раз этого столбца нам и не хватает. "
   ]
  },
  {
   "cell_type": "code",
   "execution_count": 49,
   "metadata": {
    "tags": []
   },
   "outputs": [
    {
     "data": {
      "text/plain": [
       "0    120370\n",
       "1     83750\n",
       "2     92786\n",
       "3    100000\n",
       "4     96333\n",
       "Name: m2_price, dtype: Int64"
      ]
     },
     "execution_count": 49,
     "metadata": {},
     "output_type": "execute_result"
    }
   ],
   "source": [
    "df['m2_price'] = (df['last_price'] / df['total_area']).round().astype('Int64')\n",
    "\n",
    "df.m2_price.head()"
   ]
  },
  {
   "cell_type": "code",
   "execution_count": 50,
   "metadata": {},
   "outputs": [
    {
     "data": {
      "text/plain": [
       "count    2.134000e+04\n",
       "mean     9.928087e+04\n",
       "std      4.824514e+04\n",
       "min      1.120000e+02\n",
       "25%      7.682900e+04\n",
       "50%      9.500000e+04\n",
       "75%      1.140000e+05\n",
       "max      1.736842e+06\n",
       "Name: m2_price, dtype: float64"
      ]
     },
     "execution_count": 50,
     "metadata": {},
     "output_type": "execute_result"
    }
   ],
   "source": [
    "df.m2_price.describe()"
   ]
  },
  {
   "cell_type": "markdown",
   "metadata": {},
   "source": [
    "### Тип этажа"
   ]
  },
  {
   "cell_type": "markdown",
   "metadata": {},
   "source": [
    "Добавим дополнительную категориальную переменную, отображающую то, является ли этаж \"ниже классом\" - первый, последний, или же \"классом выше\" - другой этаж."
   ]
  },
  {
   "cell_type": "code",
   "execution_count": 51,
   "metadata": {},
   "outputs": [
    {
     "data": {
      "text/plain": [
       "другой       15696\n",
       "последний     3041\n",
       "первый        2603\n",
       "Name: floor_type, dtype: int64"
      ]
     },
     "execution_count": 51,
     "metadata": {},
     "output_type": "execute_result"
    }
   ],
   "source": [
    "def types(row):\n",
    "    floor = row['floor']\n",
    "    if floor == 1:\n",
    "        return \"первый\"\n",
    "    if floor == row['floors_total']:\n",
    "        return \"последний\"\n",
    "    return \"другой\"\n",
    "\n",
    "df['floor_type'] = df.apply(types, axis=1)\n",
    "\n",
    "df['floor_type'].value_counts()"
   ]
  },
  {
   "cell_type": "markdown",
   "metadata": {},
   "source": [
    "Получили вполне правдоподобное распределение. Несложно объяснить почему последних этажей больше чем первых: на первых этажах часто размещаются какие-то магазинчики (коммерческая недвижимость), поэтому жилых квартир на первом этаже меньше чем на последнем."
   ]
  },
  {
   "cell_type": "markdown",
   "metadata": {},
   "source": [
    "### Соотношение площади"
   ]
  },
  {
   "cell_type": "markdown",
   "metadata": {},
   "source": [
    "Добавим соотношение жилой площади к общей"
   ]
  },
  {
   "cell_type": "code",
   "execution_count": 52,
   "metadata": {
    "tags": []
   },
   "outputs": [
    {
     "data": {
      "text/plain": [
       "count    21340.000000\n",
       "mean        56.293252\n",
       "std         10.292395\n",
       "min          2.000000\n",
       "25%         50.000000\n",
       "50%         57.000000\n",
       "75%         63.000000\n",
       "max         98.000000\n",
       "Name: living_ratio, dtype: float64"
      ]
     },
     "execution_count": 52,
     "metadata": {},
     "output_type": "execute_result"
    }
   ],
   "source": [
    "df['living_ratio'] = (df['living_area'] / df['total_area'] * 100).round().astype('Int8')\n",
    "df['living_ratio'].describe()"
   ]
  },
  {
   "cell_type": "markdown",
   "metadata": {},
   "source": [
    "$3/4$ жилья имеют не менее $50%$ собственно жилой площади. Минимум в 2 процента неправдоподобен. Максимум в 100 процентов правдоподобен если это только комната. Но тогда кухня не входит в состав продаваемой площади.\n",
    "\n",
    "Найдем соотношение к общей площади и для кухни."
   ]
  },
  {
   "cell_type": "code",
   "execution_count": 53,
   "metadata": {},
   "outputs": [
    {
     "data": {
      "text/plain": [
       "count    21340.000000\n",
       "mean        18.736129\n",
       "std          7.308032\n",
       "min          3.000000\n",
       "25%         13.000000\n",
       "50%         17.000000\n",
       "75%         23.000000\n",
       "max         79.000000\n",
       "Name: kitchen_ratio, dtype: float64"
      ]
     },
     "execution_count": 53,
     "metadata": {},
     "output_type": "execute_result"
    }
   ],
   "source": [
    "df['kitchen_ratio'] = (df['kitchen_area'] / df['total_area'] * 100).round().astype('Int8')\n",
    "df['kitchen_ratio'].describe()"
   ]
  },
  {
   "cell_type": "markdown",
   "metadata": {},
   "source": [
    "Где-то кухня - 3% от квартиры, а где-то - 79%. Но в среднем это 17%."
   ]
  },
  {
   "cell_type": "markdown",
   "metadata": {},
   "source": [
    "### Время"
   ]
  },
  {
   "cell_type": "markdown",
   "metadata": {},
   "source": [
    "Вставим столбец с датой в программном виде, а также отдельно столбцы с днем недели публикации, месяцем и годом."
   ]
  },
  {
   "cell_type": "code",
   "execution_count": 54,
   "metadata": {},
   "outputs": [],
   "source": [
    "df['day1'] = pd.to_datetime(df['first_day_exposition'], format='%Y-%m-%dT%H:%M:%S')\n",
    "\n",
    "df['weekday'] = pd.DatetimeIndex(df['day1']).weekday\n",
    "df['month'] = pd.DatetimeIndex(df['day1']).month\n",
    "df['year'] = pd.DatetimeIndex(df['day1']).year"
   ]
  },
  {
   "cell_type": "markdown",
   "metadata": {},
   "source": [
    "Посмотрим, сколько объявлений у нас было в каждом году."
   ]
  },
  {
   "cell_type": "code",
   "execution_count": 55,
   "metadata": {},
   "outputs": [
    {
     "data": {
      "text/plain": [
       "2018    7468\n",
       "2017    7468\n",
       "2019    2667\n",
       "2016    2540\n",
       "2015    1069\n",
       "2014     128\n",
       "Name: year, dtype: int64"
      ]
     },
     "execution_count": 55,
     "metadata": {},
     "output_type": "execute_result"
    }
   ],
   "source": [
    "df.year.value_counts()"
   ]
  },
  {
   "cell_type": "markdown",
   "metadata": {},
   "source": [
    "Вероятно, разница в количестве связана с взрывным ростом интернет-потребления и увеличением популярности сервиса \"Яндекс.Недвижимость\" в частности. Тысяча объявлений в 2015 году, и семь тысяч - в 2017."
   ]
  },
  {
   "cell_type": "markdown",
   "metadata": {},
   "source": [
    "Посмотрим распределение по месяцам и по дням недели."
   ]
  },
  {
   "cell_type": "code",
   "execution_count": 56,
   "metadata": {},
   "outputs": [
    {
     "data": {
      "text/plain": [
       "2     2347\n",
       "3     2320\n",
       "11    2183\n",
       "4     2181\n",
       "10    1966\n",
       "9     1848\n",
       "6     1602\n",
       "8     1586\n",
       "7     1506\n",
       "12    1372\n",
       "1     1283\n",
       "5     1146\n",
       "Name: month, dtype: int64"
      ]
     },
     "execution_count": 56,
     "metadata": {},
     "output_type": "execute_result"
    }
   ],
   "source": [
    "df.month.value_counts()"
   ]
  },
  {
   "cell_type": "markdown",
   "metadata": {},
   "source": [
    "Больше всего объявлений публикуют в феврале-марте, а меньше всего - в декабре-январе и в мае."
   ]
  },
  {
   "cell_type": "code",
   "execution_count": 57,
   "metadata": {},
   "outputs": [
    {
     "data": {
      "text/plain": [
       "3    3889\n",
       "1    3791\n",
       "4    3594\n",
       "2    3580\n",
       "0    3304\n",
       "5    1699\n",
       "6    1483\n",
       "Name: weekday, dtype: int64"
      ]
     },
     "execution_count": 57,
     "metadata": {},
     "output_type": "execute_result"
    }
   ],
   "source": [
    "df.weekday.value_counts()"
   ]
  },
  {
   "cell_type": "markdown",
   "metadata": {},
   "source": [
    "В любой рабочий день публикуют более чем в два раза больше объявлений, чем в любой выходной."
   ]
  },
  {
   "cell_type": "markdown",
   "metadata": {},
   "source": [
    "Посмотрим как новые колонки красуются в таблице на фоне старых данных."
   ]
  },
  {
   "cell_type": "code",
   "execution_count": 58,
   "metadata": {},
   "outputs": [
    {
     "data": {
      "text/html": [
       "<div>\n",
       "<style scoped>\n",
       "    .dataframe tbody tr th:only-of-type {\n",
       "        vertical-align: middle;\n",
       "    }\n",
       "\n",
       "    .dataframe tbody tr th {\n",
       "        vertical-align: top;\n",
       "    }\n",
       "\n",
       "    .dataframe thead th {\n",
       "        text-align: right;\n",
       "    }\n",
       "</style>\n",
       "<table border=\"1\" class=\"dataframe\">\n",
       "  <thead>\n",
       "    <tr style=\"text-align: right;\">\n",
       "      <th></th>\n",
       "      <th>total_area</th>\n",
       "      <th>living_area</th>\n",
       "      <th>kitchen_area</th>\n",
       "      <th>ceiling_height</th>\n",
       "      <th>rooms</th>\n",
       "      <th>studio</th>\n",
       "      <th>balcony</th>\n",
       "      <th>open_plan</th>\n",
       "      <th>is_apartment</th>\n",
       "      <th>floor</th>\n",
       "      <th>floors_total</th>\n",
       "      <th>locality_name</th>\n",
       "      <th>city_center_nearest</th>\n",
       "      <th>parks_around3000</th>\n",
       "      <th>parks_nearest</th>\n",
       "      <th>ponds_around3000</th>\n",
       "      <th>ponds_nearest</th>\n",
       "      <th>airports_nearest</th>\n",
       "      <th>first_day_exposition</th>\n",
       "      <th>days_exposition</th>\n",
       "      <th>total_images</th>\n",
       "      <th>last_price</th>\n",
       "      <th>m2_price</th>\n",
       "      <th>floor_type</th>\n",
       "      <th>living_ratio</th>\n",
       "      <th>kitchen_ratio</th>\n",
       "      <th>day1</th>\n",
       "      <th>weekday</th>\n",
       "      <th>month</th>\n",
       "      <th>year</th>\n",
       "    </tr>\n",
       "  </thead>\n",
       "  <tbody>\n",
       "    <tr>\n",
       "      <th>21335</th>\n",
       "      <td>62</td>\n",
       "      <td>40.000000</td>\n",
       "      <td>8.000000</td>\n",
       "      <td>2.599609</td>\n",
       "      <td>3</td>\n",
       "      <td>False</td>\n",
       "      <td>0</td>\n",
       "      <td>False</td>\n",
       "      <td>True</td>\n",
       "      <td>8</td>\n",
       "      <td>9</td>\n",
       "      <td>Петергоф</td>\n",
       "      <td>34104</td>\n",
       "      <td>1</td>\n",
       "      <td>352</td>\n",
       "      <td>1</td>\n",
       "      <td>675</td>\n",
       "      <td>45602</td>\n",
       "      <td>2016-08-05T00:00:00</td>\n",
       "      <td>239</td>\n",
       "      <td>9</td>\n",
       "      <td>4600000</td>\n",
       "      <td>74194</td>\n",
       "      <td>другой</td>\n",
       "      <td>65</td>\n",
       "      <td>13</td>\n",
       "      <td>2016-08-05</td>\n",
       "      <td>4</td>\n",
       "      <td>8</td>\n",
       "      <td>2016</td>\n",
       "    </tr>\n",
       "    <tr>\n",
       "      <th>21336</th>\n",
       "      <td>134</td>\n",
       "      <td>73.312500</td>\n",
       "      <td>13.828125</td>\n",
       "      <td>3.699219</td>\n",
       "      <td>3</td>\n",
       "      <td>False</td>\n",
       "      <td>&lt;NA&gt;</td>\n",
       "      <td>False</td>\n",
       "      <td>True</td>\n",
       "      <td>3</td>\n",
       "      <td>5</td>\n",
       "      <td>Санкт-Петербург</td>\n",
       "      <td>4232</td>\n",
       "      <td>1</td>\n",
       "      <td>796</td>\n",
       "      <td>3</td>\n",
       "      <td>381</td>\n",
       "      <td>24665</td>\n",
       "      <td>2017-03-21T00:00:00</td>\n",
       "      <td>&lt;NA&gt;</td>\n",
       "      <td>9</td>\n",
       "      <td>9700000</td>\n",
       "      <td>72388</td>\n",
       "      <td>другой</td>\n",
       "      <td>55</td>\n",
       "      <td>10</td>\n",
       "      <td>2017-03-21</td>\n",
       "      <td>1</td>\n",
       "      <td>3</td>\n",
       "      <td>2017</td>\n",
       "    </tr>\n",
       "    <tr>\n",
       "      <th>21337</th>\n",
       "      <td>59</td>\n",
       "      <td>38.000000</td>\n",
       "      <td>8.500000</td>\n",
       "      <td>NaN</td>\n",
       "      <td>3</td>\n",
       "      <td>False</td>\n",
       "      <td>&lt;NA&gt;</td>\n",
       "      <td>False</td>\n",
       "      <td>True</td>\n",
       "      <td>4</td>\n",
       "      <td>5</td>\n",
       "      <td>Тосно</td>\n",
       "      <td>&lt;NA&gt;</td>\n",
       "      <td>&lt;NA&gt;</td>\n",
       "      <td>&lt;NA&gt;</td>\n",
       "      <td>&lt;NA&gt;</td>\n",
       "      <td>&lt;NA&gt;</td>\n",
       "      <td>&lt;NA&gt;</td>\n",
       "      <td>2018-01-15T00:00:00</td>\n",
       "      <td>45</td>\n",
       "      <td>14</td>\n",
       "      <td>3100000</td>\n",
       "      <td>52542</td>\n",
       "      <td>другой</td>\n",
       "      <td>64</td>\n",
       "      <td>14</td>\n",
       "      <td>2018-01-15</td>\n",
       "      <td>0</td>\n",
       "      <td>1</td>\n",
       "      <td>2018</td>\n",
       "    </tr>\n",
       "    <tr>\n",
       "      <th>21338</th>\n",
       "      <td>77</td>\n",
       "      <td>45.000000</td>\n",
       "      <td>23.296875</td>\n",
       "      <td>3.000000</td>\n",
       "      <td>2</td>\n",
       "      <td>False</td>\n",
       "      <td>2</td>\n",
       "      <td>False</td>\n",
       "      <td>True</td>\n",
       "      <td>12</td>\n",
       "      <td>17</td>\n",
       "      <td>Санкт-Петербург</td>\n",
       "      <td>10364</td>\n",
       "      <td>2</td>\n",
       "      <td>173</td>\n",
       "      <td>3</td>\n",
       "      <td>196</td>\n",
       "      <td>39140</td>\n",
       "      <td>2017-03-28T00:00:00</td>\n",
       "      <td>602</td>\n",
       "      <td>13</td>\n",
       "      <td>11475000</td>\n",
       "      <td>149026</td>\n",
       "      <td>другой</td>\n",
       "      <td>58</td>\n",
       "      <td>30</td>\n",
       "      <td>2017-03-28</td>\n",
       "      <td>1</td>\n",
       "      <td>3</td>\n",
       "      <td>2017</td>\n",
       "    </tr>\n",
       "    <tr>\n",
       "      <th>21339</th>\n",
       "      <td>32</td>\n",
       "      <td>12.296875</td>\n",
       "      <td>9.000000</td>\n",
       "      <td>2.500000</td>\n",
       "      <td>1</td>\n",
       "      <td>False</td>\n",
       "      <td>&lt;NA&gt;</td>\n",
       "      <td>False</td>\n",
       "      <td>True</td>\n",
       "      <td>1</td>\n",
       "      <td>5</td>\n",
       "      <td>поселок Новый Учхоз</td>\n",
       "      <td>&lt;NA&gt;</td>\n",
       "      <td>&lt;NA&gt;</td>\n",
       "      <td>&lt;NA&gt;</td>\n",
       "      <td>&lt;NA&gt;</td>\n",
       "      <td>&lt;NA&gt;</td>\n",
       "      <td>&lt;NA&gt;</td>\n",
       "      <td>2017-07-21T00:00:00</td>\n",
       "      <td>&lt;NA&gt;</td>\n",
       "      <td>4</td>\n",
       "      <td>1350000</td>\n",
       "      <td>42188</td>\n",
       "      <td>первый</td>\n",
       "      <td>38</td>\n",
       "      <td>28</td>\n",
       "      <td>2017-07-21</td>\n",
       "      <td>4</td>\n",
       "      <td>7</td>\n",
       "      <td>2017</td>\n",
       "    </tr>\n",
       "  </tbody>\n",
       "</table>\n",
       "</div>"
      ],
      "text/plain": [
       "       total_area  living_area  kitchen_area  ceiling_height  rooms  studio  \\\n",
       "21335          62    40.000000      8.000000        2.599609      3   False   \n",
       "21336         134    73.312500     13.828125        3.699219      3   False   \n",
       "21337          59    38.000000      8.500000             NaN      3   False   \n",
       "21338          77    45.000000     23.296875        3.000000      2   False   \n",
       "21339          32    12.296875      9.000000        2.500000      1   False   \n",
       "\n",
       "       balcony  open_plan  is_apartment  floor  floors_total  \\\n",
       "21335        0      False          True      8             9   \n",
       "21336     <NA>      False          True      3             5   \n",
       "21337     <NA>      False          True      4             5   \n",
       "21338        2      False          True     12            17   \n",
       "21339     <NA>      False          True      1             5   \n",
       "\n",
       "             locality_name  city_center_nearest  parks_around3000  \\\n",
       "21335             Петергоф                34104                 1   \n",
       "21336      Санкт-Петербург                 4232                 1   \n",
       "21337                Тосно                 <NA>              <NA>   \n",
       "21338      Санкт-Петербург                10364                 2   \n",
       "21339  поселок Новый Учхоз                 <NA>              <NA>   \n",
       "\n",
       "       parks_nearest  ponds_around3000  ponds_nearest  airports_nearest  \\\n",
       "21335            352                 1            675             45602   \n",
       "21336            796                 3            381             24665   \n",
       "21337           <NA>              <NA>           <NA>              <NA>   \n",
       "21338            173                 3            196             39140   \n",
       "21339           <NA>              <NA>           <NA>              <NA>   \n",
       "\n",
       "      first_day_exposition  days_exposition  total_images  last_price  \\\n",
       "21335  2016-08-05T00:00:00              239             9     4600000   \n",
       "21336  2017-03-21T00:00:00             <NA>             9     9700000   \n",
       "21337  2018-01-15T00:00:00               45            14     3100000   \n",
       "21338  2017-03-28T00:00:00              602            13    11475000   \n",
       "21339  2017-07-21T00:00:00             <NA>             4     1350000   \n",
       "\n",
       "       m2_price floor_type  living_ratio  kitchen_ratio       day1  weekday  \\\n",
       "21335     74194     другой            65             13 2016-08-05        4   \n",
       "21336     72388     другой            55             10 2017-03-21        1   \n",
       "21337     52542     другой            64             14 2018-01-15        0   \n",
       "21338    149026     другой            58             30 2017-03-28        1   \n",
       "21339     42188     первый            38             28 2017-07-21        4   \n",
       "\n",
       "       month  year  \n",
       "21335      8  2016  \n",
       "21336      3  2017  \n",
       "21337      1  2018  \n",
       "21338      3  2017  \n",
       "21339      7  2017  "
      ]
     },
     "execution_count": 58,
     "metadata": {},
     "output_type": "execute_result"
    }
   ],
   "source": [
    "df.tail()"
   ]
  },
  {
   "cell_type": "markdown",
   "metadata": {
    "tags": []
   },
   "source": [
    "Новые данные успешно внедрены в таблицу.\n",
    "\n",
    "Заново переставим столбцы, чтобы они шли в более логичном порядке."
   ]
  },
  {
   "cell_type": "code",
   "execution_count": 59,
   "metadata": {},
   "outputs": [],
   "source": [
    "df = df.reindex(\n",
    "    columns=[\n",
    "        'total_area', 'living_area', 'living_ratio', 'kitchen_area', 'kitchen_ratio', 'ceiling_height', 'rooms', \n",
    "        'studio', 'balcony', 'open_plan',  'is_apartment', 'floor', 'floors_total', 'floor_type',\n",
    "        'locality_name', 'city_center_nearest', 'parks_around3000', 'parks_nearest',\n",
    "        'ponds_around3000', 'ponds_nearest', 'airports_nearest', \n",
    "        'first_day_exposition', 'day1', 'year', 'month', 'weekday', 'days_exposition', 'total_images', 'last_price', 'm2_price'])"
   ]
  },
  {
   "cell_type": "markdown",
   "metadata": {},
   "source": [
    "### Вывод"
   ]
  },
  {
   "cell_type": "markdown",
   "metadata": {},
   "source": [
    "На данном этапе мы успешно добавили в таблицу: \n",
    "- Эпохальный параметр \"Цена квадратного метра\"\n",
    "- Тип этажа - Первый, последний, другой\n",
    "- Процент кухонной площади\n",
    "- Процент жилой площади\n",
    "- Год публикации\n",
    "- Месяц публикации\n",
    "- День недели публикации"
   ]
  },
  {
   "cell_type": "markdown",
   "metadata": {},
   "source": [
    "## Исследовательский анализ данных"
   ]
  },
  {
   "cell_type": "markdown",
   "metadata": {},
   "source": [
    "Произведем исследовательский анализ данных. Наши главные инструменты на этом этапе - гистограммы, диаграммы рассеяния, коэффициент корреляции. "
   ]
  },
  {
   "cell_type": "markdown",
   "metadata": {},
   "source": [
    "### Базовые параметры квартиры: геометрия и цена"
   ]
  },
  {
   "cell_type": "markdown",
   "metadata": {},
   "source": [
    "Начертим и внимательно рассмотрим гистограммы для площади квартиры, цены, числа комнат, высоты потолков. Заодно будем убирать редкие и выбивающиеся значения. Наша цель - анализировать основную большую часть предложений на рынке, а не всё, и тем более не искать информацию для \"книги рекордов Санкт-Петербурга\"."
   ]
  },
  {
   "cell_type": "code",
   "execution_count": 60,
   "metadata": {},
   "outputs": [
    {
     "data": {
      "text/plain": [
       "<AxesSubplot:>"
      ]
     },
     "execution_count": 60,
     "metadata": {},
     "output_type": "execute_result"
    },
    {
     "data": {
      "image/png": "[encoded data removed]",
      "text/plain": [
       "<Figure size 432x288 with 1 Axes>"
      ]
     },
     "metadata": {
      "needs_background": "light"
     },
     "output_type": "display_data"
    }
   ],
   "source": [
    "import matplotlib as plt\n",
    "\n",
    "df['total_area'].hist(bins=100)"
   ]
  },
  {
   "cell_type": "markdown",
   "metadata": {},
   "source": [
    "Распределение Пуассона. Обрежем справа на 300$м^2$. Примерно на нем заканчиваются видимые глазом высоты гистограммы. Можно не бояться исчезновения строк с неопределенной площадью, так как у всех строк в нашем датасете площадь определена."
   ]
  },
  {
   "cell_type": "code",
   "execution_count": 61,
   "metadata": {},
   "outputs": [
    {
     "data": {
      "text/plain": [
       "<AxesSubplot:>"
      ]
     },
     "execution_count": 61,
     "metadata": {},
     "output_type": "execute_result"
    },
    {
     "data": {
      "image/png": "[encoded data removed]",
      "text/plain": [
       "<Figure size 432x288 with 1 Axes>"
      ]
     },
     "metadata": {
      "needs_background": "light"
     },
     "output_type": "display_data"
    }
   ],
   "source": [
    "df = df.query('total_area <= 300')\n",
    "\n",
    "df['total_area'].hist(bins=100)"
   ]
  },
  {
   "cell_type": "markdown",
   "metadata": {},
   "source": [
    "Есть искусственные пики, выбивающиеся из гладкой линии. Скорей всего, это какие-то круглые значения, какие-то госты, минимальные размеры для n–комнатной квартиры, либо площади самых популярных типовых застроек.\n",
    "\n",
    "Построим гистограмму для цены."
   ]
  },
  {
   "cell_type": "code",
   "execution_count": 62,
   "metadata": {},
   "outputs": [
    {
     "data": {
      "text/plain": [
       "<AxesSubplot:>"
      ]
     },
     "execution_count": 62,
     "metadata": {},
     "output_type": "execute_result"
    },
    {
     "data": {
      "image/png": "[encoded data removed]",
      "text/plain": [
       "<Figure size 432x288 with 1 Axes>"
      ]
     },
     "metadata": {
      "needs_background": "light"
     },
     "output_type": "display_data"
    }
   ],
   "source": [
    "df['last_price'].hist(bins=100)"
   ]
  },
  {
   "cell_type": "markdown",
   "metadata": {},
   "source": [
    "Обрежем на 50 миллионах рублей."
   ]
  },
  {
   "cell_type": "code",
   "execution_count": 63,
   "metadata": {},
   "outputs": [
    {
     "data": {
      "text/plain": [
       "<AxesSubplot:>"
      ]
     },
     "execution_count": 63,
     "metadata": {},
     "output_type": "execute_result"
    },
    {
     "data": {
      "image/png": "[encoded data removed]",
      "text/plain": [
       "<Figure size 432x288 with 1 Axes>"
      ]
     },
     "metadata": {
      "needs_background": "light"
     },
     "output_type": "display_data"
    }
   ],
   "source": [
    "df = df.query('last_price <= 50_000_000')\n",
    "\n",
    "df['last_price'].hist(bins=100)"
   ]
  },
  {
   "cell_type": "markdown",
   "metadata": {},
   "source": [
    "Вышло что-то больше похожее на нормальное распределение, нежели Пуассона. Очень характерный пик в районе 3-4 миллионов рублей.\n",
    "\n",
    "Построим гистограмму для высоты потолков."
   ]
  },
  {
   "cell_type": "code",
   "execution_count": 64,
   "metadata": {},
   "outputs": [
    {
     "data": {
      "text/plain": [
       "<AxesSubplot:ylabel='Frequency'>"
      ]
     },
     "execution_count": 64,
     "metadata": {},
     "output_type": "execute_result"
    },
    {
     "data": {
      "image/png": "[encoded data removed]",
      "text/plain": [
       "<Figure size 432x288 with 1 Axes>"
      ]
     },
     "metadata": {
      "needs_background": "light"
     },
     "output_type": "display_data"
    }
   ],
   "source": [
    "df.ceiling_height.plot.hist(bins=100)"
   ]
  },
  {
   "cell_type": "markdown",
   "metadata": {},
   "source": [
    "Потолок с треть Эйфелевой башни портит всю картину. Удалим битые строчки со слишком большими и малыми значениями. "
   ]
  },
  {
   "cell_type": "markdown",
   "metadata": {},
   "source": [
    "При этом будем аккуратны - нам не надо удалять те строчки, где высота потолков не определена. Иначе у нас потеряется 8 тысяч строк данных, а это треть датасета. Для этого добавим к запросу конструцию ` ... or (A != A)`, позволяющую не удаляться целым строчкам данных без отдельных данных."
   ]
  },
  {
   "cell_type": "code",
   "execution_count": 65,
   "metadata": {},
   "outputs": [
    {
     "data": {
      "text/plain": [
       "<AxesSubplot:ylabel='Frequency'>"
      ]
     },
     "execution_count": 65,
     "metadata": {},
     "output_type": "execute_result"
    },
    {
     "data": {
      "image/png": "[encoded data removed]",
      "text/plain": [
       "<Figure size 432x288 with 1 Axes>"
      ]
     },
     "metadata": {
      "needs_background": "light"
     },
     "output_type": "display_data"
    }
   ],
   "source": [
    "# Удаляем потолки с высотой более 10 метров\n",
    "df = df.query('(2 <= ceiling_height <= 7) or (ceiling_height != ceiling_height)').reset_index(drop=True)\n",
    "\n",
    "df.ceiling_height.plot.hist(bins=50)"
   ]
  },
  {
   "cell_type": "markdown",
   "metadata": {},
   "source": [
    "Питерских традиционных потолков по 4-5 метров оказалось мало. Гистограмма имеет пики в районе высот потолков для круглых цифр как 2,5м и высот потолков типовых проектов."
   ]
  },
  {
   "cell_type": "markdown",
   "metadata": {},
   "source": [
    "### Длительность продажи квартиры"
   ]
  },
  {
   "cell_type": "markdown",
   "metadata": {},
   "source": [
    "Изучим длительность продажи квартир. Определим характерные временные рамки, когда они продавались слишком долго или слишком быстро."
   ]
  },
  {
   "cell_type": "code",
   "execution_count": 66,
   "metadata": {
    "tags": []
   },
   "outputs": [
    {
     "data": {
      "text/plain": [
       "<AxesSubplot:>"
      ]
     },
     "execution_count": 66,
     "metadata": {},
     "output_type": "execute_result"
    },
    {
     "data": {
      "image/png": "[encoded data removed]",
      "text/plain": [
       "<Figure size 720x432 with 1 Axes>"
      ]
     },
     "metadata": {
      "needs_background": "light"
     },
     "output_type": "display_data"
    }
   ],
   "source": [
    "df.days_exposition.hist(bins=100, figsize=(10, 6))"
   ]
  },
  {
   "cell_type": "markdown",
   "metadata": {},
   "source": [
    "Очень характерное распределение Пуассона. Очень высокий пик в районе нуля, и плавное снижение к максимуму - 4 годам 4 месяцам."
   ]
  },
  {
   "cell_type": "markdown",
   "metadata": {},
   "source": [
    "Посмотрим на квартили."
   ]
  },
  {
   "cell_type": "code",
   "execution_count": 67,
   "metadata": {},
   "outputs": [
    {
     "data": {
      "text/plain": [
       "count    18241.00000\n",
       "mean       184.72825\n",
       "std        222.03930\n",
       "min          1.00000\n",
       "25%         45.00000\n",
       "50%        101.00000\n",
       "75%        237.00000\n",
       "max       1580.00000\n",
       "Name: days_exposition, dtype: float64"
      ]
     },
     "execution_count": 67,
     "metadata": {},
     "output_type": "execute_result"
    }
   ],
   "source": [
    "df['days_exposition'].describe()"
   ]
  },
  {
   "cell_type": "markdown",
   "metadata": {},
   "source": [
    "Половина всех квартир продавалась в срок от полутора месяцев до 8 месяцев 5 дней. Это значит, что если вы запланировали продавать квартиру, то стоит на это в своем графике жизни закладывать срок в 3-6 месяцев. Если же надо продать срочно за месяц, то придется снижать планку. А если хочется задрать цену, то придется ждать несколько лет и, возможно, все равно цену снизить."
   ]
  },
  {
   "cell_type": "markdown",
   "metadata": {},
   "source": [
    "Все квартиры, которые продавались быстрее, чем за 45 дней - будем считать продавшимися очень быстро. Построим для них гистограмму. "
   ]
  },
  {
   "cell_type": "code",
   "execution_count": 68,
   "metadata": {},
   "outputs": [
    {
     "data": {
      "text/plain": [
       "<AxesSubplot:>"
      ]
     },
     "execution_count": 68,
     "metadata": {},
     "output_type": "execute_result"
    },
    {
     "data": {
      "image/png": "[encoded data removed]",
      "text/plain": [
       "<Figure size 576x432 with 1 Axes>"
      ]
     },
     "metadata": {
      "needs_background": "light"
     },
     "output_type": "display_data"
    }
   ],
   "source": [
    "df.days_exposition.hist(bins=51, range=(0, 50), figsize=(8, 6))"
   ]
  },
  {
   "cell_type": "markdown",
   "metadata": {},
   "source": [
    "Интересно, что на малых масштабах времени, распределение - практически горизонтальное. А на 45 днях интересный скачок. Возможно, он связан с тем что это в этот день к пользователю приходит письмо-напоминание \"продали ли вы квартиру\", или это срок объявления по умолчанию, или с чем-то еще.\n",
    "\n",
    "Построим график для разброса меж квартилями, которым соответствует половина всех объявлений."
   ]
  },
  {
   "cell_type": "code",
   "execution_count": 69,
   "metadata": {},
   "outputs": [
    {
     "data": {
      "text/plain": [
       "<AxesSubplot:>"
      ]
     },
     "execution_count": 69,
     "metadata": {},
     "output_type": "execute_result"
    },
    {
     "data": {
      "image/png": "[encoded data removed]",
      "text/plain": [
       "<Figure size 576x432 with 1 Axes>"
      ]
     },
     "metadata": {
      "needs_background": "light"
     },
     "output_type": "display_data"
    }
   ],
   "source": [
    "df.days_exposition.hist(bins=250-46+1, range=(46, 250), figsize=(8, 6))"
   ]
  },
  {
   "cell_type": "markdown",
   "metadata": {},
   "source": [
    "Плавно убывающий линейный график. В нем сосредоточена половина всех объявлений. В круглых числах - 60 и 90 дней - пики."
   ]
  },
  {
   "cell_type": "markdown",
   "metadata": {},
   "source": [
    "Квартиры, продававшиеся более 8 месяцев - это квартиры, продававшиеся необычайно долго. Построим для них гистограмму."
   ]
  },
  {
   "cell_type": "code",
   "execution_count": 70,
   "metadata": {},
   "outputs": [
    {
     "data": {
      "text/plain": [
       "<AxesSubplot:>"
      ]
     },
     "execution_count": 70,
     "metadata": {},
     "output_type": "execute_result"
    },
    {
     "data": {
      "image/png": "[encoded data removed]",
      "text/plain": [
       "<Figure size 576x432 with 1 Axes>"
      ]
     },
     "metadata": {
      "needs_background": "light"
     },
     "output_type": "display_data"
    }
   ],
   "source": [
    "df.days_exposition.hist(bins=200, range=(250, 1600), figsize=(8, 6))"
   ]
  },
  {
   "cell_type": "markdown",
   "metadata": {},
   "source": [
    "Стремительно убывающая гистограмма. Распределение Пуассона. Характерный пик - в начале и на одном годе (365 дней). Квартиры в этом диапазоне - продающиеся наиболее долго."
   ]
  },
  {
   "cell_type": "markdown",
   "metadata": {},
   "source": [
    "### Убираем редкие и выбывающиеся значения"
   ]
  },
  {
   "cell_type": "markdown",
   "metadata": {},
   "source": [
    "Поищем и поудаляем редкие и выбивающиеся значения для некоторых из колонок, пропуская те, которые мы уже обработали выше, и те, которые не столь значащие.\n",
    "\n",
    "Основная сравнительная абстрагированная характеристика квартир - цена за квадратный метр. "
   ]
  },
  {
   "cell_type": "code",
   "execution_count": 71,
   "metadata": {},
   "outputs": [
    {
     "data": {
      "text/plain": [
       "<AxesSubplot:>"
      ]
     },
     "execution_count": 71,
     "metadata": {},
     "output_type": "execute_result"
    },
    {
     "data": {
      "image/png": "[encoded data removed]",
      "text/plain": [
       "<Figure size 432x288 with 1 Axes>"
      ]
     },
     "metadata": {
      "needs_background": "light"
     },
     "output_type": "display_data"
    }
   ],
   "source": [
    "df.m2_price.hist(bins=100)"
   ]
  },
  {
   "cell_type": "markdown",
   "metadata": {},
   "source": [
    "Удалим 'невидимые' значения справа."
   ]
  },
  {
   "cell_type": "code",
   "execution_count": 72,
   "metadata": {},
   "outputs": [
    {
     "data": {
      "text/plain": [
       "<AxesSubplot:>"
      ]
     },
     "execution_count": 72,
     "metadata": {},
     "output_type": "execute_result"
    },
    {
     "data": {
      "image/png": "[encoded data removed]",
      "text/plain": [
       "<Figure size 432x288 with 1 Axes>"
      ]
     },
     "metadata": {
      "needs_background": "light"
     },
     "output_type": "display_data"
    }
   ],
   "source": [
    "df = df.query('m2_price <= 350_000').reset_index(drop=True)\n",
    "df.m2_price.hist(bins=100)"
   ]
  },
  {
   "cell_type": "markdown",
   "metadata": {},
   "source": [
    "Крайне каноничное по форме нормальное распределение. Пик в 95 тысячах рублей за квадратный метр."
   ]
  },
  {
   "cell_type": "markdown",
   "metadata": {},
   "source": [
    "Перейдем к числу комнат."
   ]
  },
  {
   "cell_type": "code",
   "execution_count": 73,
   "metadata": {},
   "outputs": [
    {
     "data": {
      "text/plain": [
       "<AxesSubplot:>"
      ]
     },
     "execution_count": 73,
     "metadata": {},
     "output_type": "execute_result"
    },
    {
     "data": {
      "image/png": "[encoded data removed]",
      "text/plain": [
       "<Figure size 432x288 with 1 Axes>"
      ]
     },
     "metadata": {
      "needs_background": "light"
     },
     "output_type": "display_data"
    }
   ],
   "source": [
    "df['rooms'].hist(bins=17)"
   ]
  },
  {
   "cell_type": "code",
   "execution_count": 74,
   "metadata": {},
   "outputs": [],
   "source": [
    "df = df.query('rooms <= 7').reset_index(drop=True)\n"
   ]
  },
  {
   "cell_type": "markdown",
   "metadata": {},
   "source": [
    "Убрали квартиры с 8 и более комнатами.\n",
    "\n",
    "Посмотрим на расстояние до центра."
   ]
  },
  {
   "cell_type": "code",
   "execution_count": 75,
   "metadata": {},
   "outputs": [
    {
     "data": {
      "text/plain": [
       "<AxesSubplot:>"
      ]
     },
     "execution_count": 75,
     "metadata": {},
     "output_type": "execute_result"
    },
    {
     "data": {
      "image/png": "[encoded data removed]",
      "text/plain": [
       "<Figure size 432x288 with 1 Axes>"
      ]
     },
     "metadata": {
      "needs_background": "light"
     },
     "output_type": "display_data"
    }
   ],
   "source": [
    "df.city_center_nearest.hist(bins=100)"
   ]
  },
  {
   "cell_type": "markdown",
   "metadata": {},
   "source": [
    "Пометим правый край как \"нет данных\", смешав квартиры вдали курортного района с квартирами области, для которых расстояние до центра не помечено."
   ]
  },
  {
   "cell_type": "code",
   "execution_count": 76,
   "metadata": {},
   "outputs": [],
   "source": [
    "df['city_center_nearest'] = df['city_center_nearest'].where(df['city_center_nearest'] < 55_000, None)"
   ]
  },
  {
   "cell_type": "markdown",
   "metadata": {},
   "source": [
    "Сравним полученный датасет с изначальным, чтобы проверить корректность отсечения данных. Не слишком ли сильно изменились данные относительно изначальных."
   ]
  },
  {
   "cell_type": "code",
   "execution_count": 77,
   "metadata": {},
   "outputs": [
    {
     "name": "stdout",
     "output_type": "stream",
     "text": [
      "<class 'pandas.core.frame.DataFrame'>\n",
      "RangeIndex: 21134 entries, 0 to 21133\n",
      "Data columns (total 30 columns):\n",
      " #   Column                Non-Null Count  Dtype         \n",
      "---  ------                --------------  -----         \n",
      " 0   total_area            21134 non-null  Int64         \n",
      " 1   living_area           21134 non-null  float16       \n",
      " 2   living_ratio          21134 non-null  Int8          \n",
      " 3   kitchen_area          21134 non-null  float16       \n",
      " 4   kitchen_ratio         21134 non-null  Int8          \n",
      " 5   ceiling_height        13402 non-null  float16       \n",
      " 6   rooms                 21134 non-null  int64         \n",
      " 7   studio                21134 non-null  bool          \n",
      " 8   balcony               11283 non-null  Int8          \n",
      " 9   open_plan             21134 non-null  bool          \n",
      " 10  is_apartment          21134 non-null  bool          \n",
      " 11  floor                 21134 non-null  int64         \n",
      " 12  floors_total          21134 non-null  Int8          \n",
      " 13  floor_type            21134 non-null  object        \n",
      " 14  locality_name         21134 non-null  object        \n",
      " 15  city_center_nearest   16340 non-null  Int64         \n",
      " 16  parks_around3000      16353 non-null  Int8          \n",
      " 17  parks_nearest         7217 non-null   Int64         \n",
      " 18  ponds_around3000      16353 non-null  Int8          \n",
      " 19  ponds_nearest         8071 non-null   Int64         \n",
      " 20  airports_nearest      16333 non-null  Int64         \n",
      " 21  first_day_exposition  21134 non-null  object        \n",
      " 22  day1                  21134 non-null  datetime64[ns]\n",
      " 23  year                  21134 non-null  int64         \n",
      " 24  month                 21134 non-null  int64         \n",
      " 25  weekday               21134 non-null  int64         \n",
      " 26  days_exposition       18210 non-null  Int64         \n",
      " 27  total_images          21134 non-null  Int8          \n",
      " 28  last_price            21134 non-null  Int64         \n",
      " 29  m2_price              21134 non-null  Int64         \n",
      "dtypes: Int64(8), Int8(7), bool(3), datetime64[ns](1), float16(3), int64(5), object(3)\n",
      "memory usage: 3.4+ MB\n"
     ]
    }
   ],
   "source": [
    "df.info()"
   ]
  },
  {
   "cell_type": "markdown",
   "metadata": {},
   "source": [
    "Строк стало меньше. 21134 вместо изначальных 23699. 12 процентов данных меньше - зато сами данные стали чище. Меньше выбросов, меньше экстремальных значений."
   ]
  },
  {
   "cell_type": "markdown",
   "metadata": {},
   "source": [
    "Посмотрим, как изменились структурные и алгебраические характеристики основных данных о квартире - общей площади и цены за $м^2$.  "
   ]
  },
  {
   "cell_type": "code",
   "execution_count": 78,
   "metadata": {},
   "outputs": [
    {
     "data": {
      "text/plain": [
       "count    21134.000000\n",
       "mean        59.123592\n",
       "std         28.241994\n",
       "min         14.000000\n",
       "25%         40.000000\n",
       "50%         52.000000\n",
       "75%         69.000000\n",
       "max        298.000000\n",
       "Name: total_area, dtype: float64"
      ]
     },
     "execution_count": 78,
     "metadata": {},
     "output_type": "execute_result"
    }
   ],
   "source": [
    "df.total_area.describe()"
   ]
  },
  {
   "cell_type": "markdown",
   "metadata": {},
   "source": [
    "Очевидное изменение - максимум уменьшился в три раза, хотя было выкинуто совсем чуть-чуть данных. Самое значимое изменение - стандартное отклонение $\\sigma$ стало меньше на 20%. Оно было больше средней полуплощади, а стало меньше. Небольшое количество выбросов делали характеристику разброса неестественно раздутой. Среднее уменьшилось немного - на один метр квадратный. Что действительно характерно - квартили практически не изменились.\n",
    "Теперь взглянем на цену."
   ]
  },
  {
   "cell_type": "code",
   "execution_count": 79,
   "metadata": {},
   "outputs": [
    {
     "data": {
      "text/plain": [
       "count     21134.000000\n",
       "mean      97109.406833\n",
       "std       36177.782934\n",
       "min         112.000000\n",
       "25%       76667.000000\n",
       "50%       94737.000000\n",
       "75%      113413.500000\n",
       "max      347826.000000\n",
       "Name: m2_price, dtype: float64"
      ]
     },
     "execution_count": 79,
     "metadata": {},
     "output_type": "execute_result"
    }
   ],
   "source": [
    "df.m2_price.describe()"
   ]
  },
  {
   "cell_type": "markdown",
   "metadata": {},
   "source": [
    "В результате обрезания \"хвостов\" максимум цены за метр квадратный у фильтрованного датасета по сравнению с изначальным уменьшился в 2 раза. Стандартное отклонение уменьшилось на четверть. Среднее уменьшилось на 2 процента. При этом число записей уменьшилось минимально. При этом структурные характеристики совокупности - первый квартиль, медиана и третий квартиль практически не изменились. Отличный результат."
   ]
  },
  {
   "cell_type": "markdown",
   "metadata": {},
   "source": [
    "### Изучение факторов, влияющих на цену"
   ]
  },
  {
   "cell_type": "markdown",
   "metadata": {},
   "source": [
    "Одни факторы могут существенно влиять на цену, другие - нет. Изучим факторы.\n",
    "\n",
    "Для общего обзора, построим матрицу корреляции, где особо внимательно поглядим на строку, связанную с ценой."
   ]
  },
  {
   "cell_type": "code",
   "execution_count": 80,
   "metadata": {},
   "outputs": [
    {
     "data": {
      "text/html": [
       "<div>\n",
       "<style scoped>\n",
       "    .dataframe tbody tr th:only-of-type {\n",
       "        vertical-align: middle;\n",
       "    }\n",
       "\n",
       "    .dataframe tbody tr th {\n",
       "        vertical-align: top;\n",
       "    }\n",
       "\n",
       "    .dataframe thead th {\n",
       "        text-align: right;\n",
       "    }\n",
       "</style>\n",
       "<table border=\"1\" class=\"dataframe\">\n",
       "  <thead>\n",
       "    <tr style=\"text-align: right;\">\n",
       "      <th></th>\n",
       "      <th>total_area</th>\n",
       "      <th>living_area</th>\n",
       "      <th>living_ratio</th>\n",
       "      <th>kitchen_area</th>\n",
       "      <th>kitchen_ratio</th>\n",
       "      <th>ceiling_height</th>\n",
       "      <th>rooms</th>\n",
       "      <th>studio</th>\n",
       "      <th>balcony</th>\n",
       "      <th>open_plan</th>\n",
       "      <th>is_apartment</th>\n",
       "      <th>floor</th>\n",
       "      <th>floors_total</th>\n",
       "      <th>city_center_nearest</th>\n",
       "      <th>parks_around3000</th>\n",
       "      <th>parks_nearest</th>\n",
       "      <th>ponds_around3000</th>\n",
       "      <th>ponds_nearest</th>\n",
       "      <th>airports_nearest</th>\n",
       "      <th>year</th>\n",
       "      <th>month</th>\n",
       "      <th>weekday</th>\n",
       "      <th>days_exposition</th>\n",
       "      <th>total_images</th>\n",
       "      <th>last_price</th>\n",
       "      <th>m2_price</th>\n",
       "    </tr>\n",
       "  </thead>\n",
       "  <tbody>\n",
       "    <tr>\n",
       "      <th>total_area</th>\n",
       "      <td>1.000000</td>\n",
       "      <td>0.932406</td>\n",
       "      <td>0.199485</td>\n",
       "      <td>0.576240</td>\n",
       "      <td>-0.344678</td>\n",
       "      <td>0.483399</td>\n",
       "      <td>0.788572</td>\n",
       "      <td>NaN</td>\n",
       "      <td>0.094306</td>\n",
       "      <td>NaN</td>\n",
       "      <td>-0.021402</td>\n",
       "      <td>-0.012737</td>\n",
       "      <td>-0.044996</td>\n",
       "      <td>-0.238357</td>\n",
       "      <td>0.146417</td>\n",
       "      <td>-0.008785</td>\n",
       "      <td>0.162786</td>\n",
       "      <td>-0.086477</td>\n",
       "      <td>-0.031139</td>\n",
       "      <td>-0.081399</td>\n",
       "      <td>0.006792</td>\n",
       "      <td>-0.014006</td>\n",
       "      <td>0.150126</td>\n",
       "      <td>0.118027</td>\n",
       "      <td>0.793675</td>\n",
       "      <td>0.207810</td>\n",
       "    </tr>\n",
       "    <tr>\n",
       "      <th>living_area</th>\n",
       "      <td>0.932406</td>\n",
       "      <td>1.000000</td>\n",
       "      <td>0.500627</td>\n",
       "      <td>0.361314</td>\n",
       "      <td>-0.519869</td>\n",
       "      <td>0.432384</td>\n",
       "      <td>0.868658</td>\n",
       "      <td>NaN</td>\n",
       "      <td>0.051644</td>\n",
       "      <td>NaN</td>\n",
       "      <td>-0.017571</td>\n",
       "      <td>-0.097290</td>\n",
       "      <td>-0.158032</td>\n",
       "      <td>-0.227214</td>\n",
       "      <td>0.159365</td>\n",
       "      <td>-0.040945</td>\n",
       "      <td>0.142109</td>\n",
       "      <td>-0.068323</td>\n",
       "      <td>-0.055516</td>\n",
       "      <td>-0.068672</td>\n",
       "      <td>0.002733</td>\n",
       "      <td>-0.011087</td>\n",
       "      <td>0.138218</td>\n",
       "      <td>0.099170</td>\n",
       "      <td>0.689276</td>\n",
       "      <td>0.109004</td>\n",
       "    </tr>\n",
       "    <tr>\n",
       "      <th>living_ratio</th>\n",
       "      <td>0.199485</td>\n",
       "      <td>0.500627</td>\n",
       "      <td>1.000000</td>\n",
       "      <td>-0.358723</td>\n",
       "      <td>-0.716548</td>\n",
       "      <td>-0.029276</td>\n",
       "      <td>0.559105</td>\n",
       "      <td>NaN</td>\n",
       "      <td>-0.076616</td>\n",
       "      <td>NaN</td>\n",
       "      <td>0.001416</td>\n",
       "      <td>-0.286329</td>\n",
       "      <td>-0.399131</td>\n",
       "      <td>-0.035707</td>\n",
       "      <td>0.092997</td>\n",
       "      <td>-0.098230</td>\n",
       "      <td>-0.011023</td>\n",
       "      <td>0.022799</td>\n",
       "      <td>-0.081535</td>\n",
       "      <td>0.007317</td>\n",
       "      <td>-0.012360</td>\n",
       "      <td>0.006352</td>\n",
       "      <td>0.017452</td>\n",
       "      <td>0.006910</td>\n",
       "      <td>0.020831</td>\n",
       "      <td>-0.216068</td>\n",
       "    </tr>\n",
       "    <tr>\n",
       "      <th>kitchen_area</th>\n",
       "      <td>0.576240</td>\n",
       "      <td>0.361314</td>\n",
       "      <td>-0.358723</td>\n",
       "      <td>1.000000</td>\n",
       "      <td>0.475813</td>\n",
       "      <td>0.400122</td>\n",
       "      <td>0.220502</td>\n",
       "      <td>NaN</td>\n",
       "      <td>0.116518</td>\n",
       "      <td>NaN</td>\n",
       "      <td>-0.016138</td>\n",
       "      <td>0.156053</td>\n",
       "      <td>0.199622</td>\n",
       "      <td>-0.179652</td>\n",
       "      <td>0.062424</td>\n",
       "      <td>0.037796</td>\n",
       "      <td>0.134510</td>\n",
       "      <td>-0.091122</td>\n",
       "      <td>0.014059</td>\n",
       "      <td>-0.051914</td>\n",
       "      <td>0.006295</td>\n",
       "      <td>-0.010296</td>\n",
       "      <td>0.095808</td>\n",
       "      <td>0.102345</td>\n",
       "      <td>0.603581</td>\n",
       "      <td>0.364968</td>\n",
       "    </tr>\n",
       "    <tr>\n",
       "      <th>kitchen_ratio</th>\n",
       "      <td>-0.344678</td>\n",
       "      <td>-0.519869</td>\n",
       "      <td>-0.716548</td>\n",
       "      <td>0.475813</td>\n",
       "      <td>1.000000</td>\n",
       "      <td>0.017631</td>\n",
       "      <td>-0.608446</td>\n",
       "      <td>NaN</td>\n",
       "      <td>0.033640</td>\n",
       "      <td>NaN</td>\n",
       "      <td>0.005359</td>\n",
       "      <td>0.247968</td>\n",
       "      <td>0.351606</td>\n",
       "      <td>0.020604</td>\n",
       "      <td>-0.085604</td>\n",
       "      <td>0.056970</td>\n",
       "      <td>-0.006229</td>\n",
       "      <td>-0.015546</td>\n",
       "      <td>0.050319</td>\n",
       "      <td>0.019044</td>\n",
       "      <td>0.006439</td>\n",
       "      <td>0.001003</td>\n",
       "      <td>-0.041534</td>\n",
       "      <td>-0.023734</td>\n",
       "      <td>-0.112639</td>\n",
       "      <td>0.225171</td>\n",
       "    </tr>\n",
       "    <tr>\n",
       "      <th>ceiling_height</th>\n",
       "      <td>0.483399</td>\n",
       "      <td>0.432384</td>\n",
       "      <td>-0.029276</td>\n",
       "      <td>0.400122</td>\n",
       "      <td>0.017631</td>\n",
       "      <td>1.000000</td>\n",
       "      <td>0.274454</td>\n",
       "      <td>NaN</td>\n",
       "      <td>-0.070786</td>\n",
       "      <td>NaN</td>\n",
       "      <td>-0.039234</td>\n",
       "      <td>-0.042479</td>\n",
       "      <td>-0.083234</td>\n",
       "      <td>-0.360514</td>\n",
       "      <td>0.256549</td>\n",
       "      <td>-0.051038</td>\n",
       "      <td>0.230627</td>\n",
       "      <td>-0.136684</td>\n",
       "      <td>-0.105878</td>\n",
       "      <td>-0.104776</td>\n",
       "      <td>0.000209</td>\n",
       "      <td>-0.020348</td>\n",
       "      <td>0.125543</td>\n",
       "      <td>0.034890</td>\n",
       "      <td>0.505421</td>\n",
       "      <td>0.355075</td>\n",
       "    </tr>\n",
       "    <tr>\n",
       "      <th>rooms</th>\n",
       "      <td>0.788572</td>\n",
       "      <td>0.868658</td>\n",
       "      <td>0.559105</td>\n",
       "      <td>0.220502</td>\n",
       "      <td>-0.608446</td>\n",
       "      <td>0.274454</td>\n",
       "      <td>1.000000</td>\n",
       "      <td>NaN</td>\n",
       "      <td>0.041249</td>\n",
       "      <td>NaN</td>\n",
       "      <td>-0.009826</td>\n",
       "      <td>-0.146740</td>\n",
       "      <td>-0.211614</td>\n",
       "      <td>-0.178233</td>\n",
       "      <td>0.114116</td>\n",
       "      <td>-0.044084</td>\n",
       "      <td>0.085754</td>\n",
       "      <td>-0.044327</td>\n",
       "      <td>-0.063324</td>\n",
       "      <td>-0.049623</td>\n",
       "      <td>0.000483</td>\n",
       "      <td>-0.004520</td>\n",
       "      <td>0.116303</td>\n",
       "      <td>0.094906</td>\n",
       "      <td>0.506262</td>\n",
       "      <td>-0.024142</td>\n",
       "    </tr>\n",
       "    <tr>\n",
       "      <th>studio</th>\n",
       "      <td>NaN</td>\n",
       "      <td>NaN</td>\n",
       "      <td>NaN</td>\n",
       "      <td>NaN</td>\n",
       "      <td>NaN</td>\n",
       "      <td>NaN</td>\n",
       "      <td>NaN</td>\n",
       "      <td>NaN</td>\n",
       "      <td>NaN</td>\n",
       "      <td>NaN</td>\n",
       "      <td>NaN</td>\n",
       "      <td>NaN</td>\n",
       "      <td>NaN</td>\n",
       "      <td>NaN</td>\n",
       "      <td>NaN</td>\n",
       "      <td>NaN</td>\n",
       "      <td>NaN</td>\n",
       "      <td>NaN</td>\n",
       "      <td>NaN</td>\n",
       "      <td>NaN</td>\n",
       "      <td>NaN</td>\n",
       "      <td>NaN</td>\n",
       "      <td>NaN</td>\n",
       "      <td>NaN</td>\n",
       "      <td>NaN</td>\n",
       "      <td>NaN</td>\n",
       "    </tr>\n",
       "    <tr>\n",
       "      <th>balcony</th>\n",
       "      <td>0.094306</td>\n",
       "      <td>0.051644</td>\n",
       "      <td>-0.076616</td>\n",
       "      <td>0.116518</td>\n",
       "      <td>0.033640</td>\n",
       "      <td>-0.070786</td>\n",
       "      <td>0.041249</td>\n",
       "      <td>NaN</td>\n",
       "      <td>1.000000</td>\n",
       "      <td>NaN</td>\n",
       "      <td>-0.015694</td>\n",
       "      <td>0.178920</td>\n",
       "      <td>0.198964</td>\n",
       "      <td>0.046033</td>\n",
       "      <td>-0.078831</td>\n",
       "      <td>0.048670</td>\n",
       "      <td>-0.030928</td>\n",
       "      <td>0.009371</td>\n",
       "      <td>0.067248</td>\n",
       "      <td>0.330128</td>\n",
       "      <td>0.062816</td>\n",
       "      <td>0.001613</td>\n",
       "      <td>-0.025436</td>\n",
       "      <td>0.117156</td>\n",
       "      <td>0.111252</td>\n",
       "      <td>0.101859</td>\n",
       "    </tr>\n",
       "    <tr>\n",
       "      <th>open_plan</th>\n",
       "      <td>NaN</td>\n",
       "      <td>NaN</td>\n",
       "      <td>NaN</td>\n",
       "      <td>NaN</td>\n",
       "      <td>NaN</td>\n",
       "      <td>NaN</td>\n",
       "      <td>NaN</td>\n",
       "      <td>NaN</td>\n",
       "      <td>NaN</td>\n",
       "      <td>NaN</td>\n",
       "      <td>NaN</td>\n",
       "      <td>NaN</td>\n",
       "      <td>NaN</td>\n",
       "      <td>NaN</td>\n",
       "      <td>NaN</td>\n",
       "      <td>NaN</td>\n",
       "      <td>NaN</td>\n",
       "      <td>NaN</td>\n",
       "      <td>NaN</td>\n",
       "      <td>NaN</td>\n",
       "      <td>NaN</td>\n",
       "      <td>NaN</td>\n",
       "      <td>NaN</td>\n",
       "      <td>NaN</td>\n",
       "      <td>NaN</td>\n",
       "      <td>NaN</td>\n",
       "    </tr>\n",
       "    <tr>\n",
       "      <th>is_apartment</th>\n",
       "      <td>-0.021402</td>\n",
       "      <td>-0.017571</td>\n",
       "      <td>0.001416</td>\n",
       "      <td>-0.016138</td>\n",
       "      <td>0.005359</td>\n",
       "      <td>-0.039234</td>\n",
       "      <td>-0.009826</td>\n",
       "      <td>NaN</td>\n",
       "      <td>-0.015694</td>\n",
       "      <td>NaN</td>\n",
       "      <td>1.000000</td>\n",
       "      <td>-0.012482</td>\n",
       "      <td>-0.010342</td>\n",
       "      <td>-0.000726</td>\n",
       "      <td>-0.000874</td>\n",
       "      <td>-0.020074</td>\n",
       "      <td>-0.017260</td>\n",
       "      <td>0.024735</td>\n",
       "      <td>0.008403</td>\n",
       "      <td>0.227427</td>\n",
       "      <td>0.121605</td>\n",
       "      <td>0.006058</td>\n",
       "      <td>-0.061822</td>\n",
       "      <td>0.045458</td>\n",
       "      <td>-0.005344</td>\n",
       "      <td>0.009716</td>\n",
       "    </tr>\n",
       "    <tr>\n",
       "      <th>floor</th>\n",
       "      <td>-0.012737</td>\n",
       "      <td>-0.097290</td>\n",
       "      <td>-0.286329</td>\n",
       "      <td>0.156053</td>\n",
       "      <td>0.247968</td>\n",
       "      <td>-0.042479</td>\n",
       "      <td>-0.146740</td>\n",
       "      <td>NaN</td>\n",
       "      <td>0.178920</td>\n",
       "      <td>NaN</td>\n",
       "      <td>-0.012482</td>\n",
       "      <td>1.000000</td>\n",
       "      <td>0.677411</td>\n",
       "      <td>0.006647</td>\n",
       "      <td>-0.157471</td>\n",
       "      <td>0.070897</td>\n",
       "      <td>-0.074201</td>\n",
       "      <td>0.025259</td>\n",
       "      <td>0.078026</td>\n",
       "      <td>0.009122</td>\n",
       "      <td>0.020213</td>\n",
       "      <td>0.008294</td>\n",
       "      <td>-0.038415</td>\n",
       "      <td>0.038379</td>\n",
       "      <td>0.071883</td>\n",
       "      <td>0.191302</td>\n",
       "    </tr>\n",
       "    <tr>\n",
       "      <th>floors_total</th>\n",
       "      <td>-0.044996</td>\n",
       "      <td>-0.158032</td>\n",
       "      <td>-0.399131</td>\n",
       "      <td>0.199622</td>\n",
       "      <td>0.351606</td>\n",
       "      <td>-0.083234</td>\n",
       "      <td>-0.211614</td>\n",
       "      <td>NaN</td>\n",
       "      <td>0.198964</td>\n",
       "      <td>NaN</td>\n",
       "      <td>-0.010342</td>\n",
       "      <td>0.677411</td>\n",
       "      <td>1.000000</td>\n",
       "      <td>0.013149</td>\n",
       "      <td>-0.241309</td>\n",
       "      <td>0.093964</td>\n",
       "      <td>-0.117661</td>\n",
       "      <td>0.035360</td>\n",
       "      <td>0.112297</td>\n",
       "      <td>0.010552</td>\n",
       "      <td>0.016318</td>\n",
       "      <td>0.009399</td>\n",
       "      <td>-0.050750</td>\n",
       "      <td>0.019011</td>\n",
       "      <td>0.061261</td>\n",
       "      <td>0.242199</td>\n",
       "    </tr>\n",
       "    <tr>\n",
       "      <th>city_center_nearest</th>\n",
       "      <td>-0.238357</td>\n",
       "      <td>-0.227214</td>\n",
       "      <td>-0.035707</td>\n",
       "      <td>-0.179652</td>\n",
       "      <td>0.020604</td>\n",
       "      <td>-0.360514</td>\n",
       "      <td>-0.178233</td>\n",
       "      <td>NaN</td>\n",
       "      <td>0.046033</td>\n",
       "      <td>NaN</td>\n",
       "      <td>-0.000726</td>\n",
       "      <td>0.006647</td>\n",
       "      <td>0.013149</td>\n",
       "      <td>1.000000</td>\n",
       "      <td>-0.147851</td>\n",
       "      <td>-0.042184</td>\n",
       "      <td>-0.057274</td>\n",
       "      <td>0.023172</td>\n",
       "      <td>0.258909</td>\n",
       "      <td>0.022876</td>\n",
       "      <td>-0.013678</td>\n",
       "      <td>0.011458</td>\n",
       "      <td>-0.056033</td>\n",
       "      <td>-0.049364</td>\n",
       "      <td>-0.336805</td>\n",
       "      <td>-0.390067</td>\n",
       "    </tr>\n",
       "    <tr>\n",
       "      <th>parks_around3000</th>\n",
       "      <td>0.146417</td>\n",
       "      <td>0.159365</td>\n",
       "      <td>0.092997</td>\n",
       "      <td>0.062424</td>\n",
       "      <td>-0.085604</td>\n",
       "      <td>0.256549</td>\n",
       "      <td>0.114116</td>\n",
       "      <td>NaN</td>\n",
       "      <td>-0.078831</td>\n",
       "      <td>NaN</td>\n",
       "      <td>-0.000874</td>\n",
       "      <td>-0.157471</td>\n",
       "      <td>-0.241309</td>\n",
       "      <td>-0.147851</td>\n",
       "      <td>1.000000</td>\n",
       "      <td>-0.249946</td>\n",
       "      <td>0.297923</td>\n",
       "      <td>-0.164305</td>\n",
       "      <td>0.006981</td>\n",
       "      <td>-0.037205</td>\n",
       "      <td>-0.002327</td>\n",
       "      <td>-0.006124</td>\n",
       "      <td>0.056675</td>\n",
       "      <td>0.016054</td>\n",
       "      <td>0.190829</td>\n",
       "      <td>0.162625</td>\n",
       "    </tr>\n",
       "    <tr>\n",
       "      <th>parks_nearest</th>\n",
       "      <td>-0.008785</td>\n",
       "      <td>-0.040945</td>\n",
       "      <td>-0.098230</td>\n",
       "      <td>0.037796</td>\n",
       "      <td>0.056970</td>\n",
       "      <td>-0.051038</td>\n",
       "      <td>-0.044084</td>\n",
       "      <td>NaN</td>\n",
       "      <td>0.048670</td>\n",
       "      <td>NaN</td>\n",
       "      <td>-0.020074</td>\n",
       "      <td>0.070897</td>\n",
       "      <td>0.093964</td>\n",
       "      <td>-0.042184</td>\n",
       "      <td>-0.249946</td>\n",
       "      <td>1.000000</td>\n",
       "      <td>0.072123</td>\n",
       "      <td>0.003219</td>\n",
       "      <td>-0.077541</td>\n",
       "      <td>-0.020006</td>\n",
       "      <td>0.020771</td>\n",
       "      <td>-0.015757</td>\n",
       "      <td>0.026708</td>\n",
       "      <td>-0.004731</td>\n",
       "      <td>0.010675</td>\n",
       "      <td>0.048696</td>\n",
       "    </tr>\n",
       "    <tr>\n",
       "      <th>ponds_around3000</th>\n",
       "      <td>0.162786</td>\n",
       "      <td>0.142109</td>\n",
       "      <td>-0.011023</td>\n",
       "      <td>0.134510</td>\n",
       "      <td>-0.006229</td>\n",
       "      <td>0.230627</td>\n",
       "      <td>0.085754</td>\n",
       "      <td>NaN</td>\n",
       "      <td>-0.030928</td>\n",
       "      <td>NaN</td>\n",
       "      <td>-0.017260</td>\n",
       "      <td>-0.074201</td>\n",
       "      <td>-0.117661</td>\n",
       "      <td>-0.057274</td>\n",
       "      <td>0.297923</td>\n",
       "      <td>0.072123</td>\n",
       "      <td>1.000000</td>\n",
       "      <td>-0.337891</td>\n",
       "      <td>-0.051040</td>\n",
       "      <td>-0.036157</td>\n",
       "      <td>-0.010066</td>\n",
       "      <td>0.001157</td>\n",
       "      <td>0.071722</td>\n",
       "      <td>-0.016310</td>\n",
       "      <td>0.201884</td>\n",
       "      <td>0.166836</td>\n",
       "    </tr>\n",
       "    <tr>\n",
       "      <th>ponds_nearest</th>\n",
       "      <td>-0.086477</td>\n",
       "      <td>-0.068323</td>\n",
       "      <td>0.022799</td>\n",
       "      <td>-0.091122</td>\n",
       "      <td>-0.015546</td>\n",
       "      <td>-0.136684</td>\n",
       "      <td>-0.044327</td>\n",
       "      <td>NaN</td>\n",
       "      <td>0.009371</td>\n",
       "      <td>NaN</td>\n",
       "      <td>0.024735</td>\n",
       "      <td>0.025259</td>\n",
       "      <td>0.035360</td>\n",
       "      <td>0.023172</td>\n",
       "      <td>-0.164305</td>\n",
       "      <td>0.003219</td>\n",
       "      <td>-0.337891</td>\n",
       "      <td>1.000000</td>\n",
       "      <td>0.014090</td>\n",
       "      <td>0.036169</td>\n",
       "      <td>0.015909</td>\n",
       "      <td>-0.007637</td>\n",
       "      <td>-0.083784</td>\n",
       "      <td>0.003710</td>\n",
       "      <td>-0.108518</td>\n",
       "      <td>-0.087770</td>\n",
       "    </tr>\n",
       "    <tr>\n",
       "      <th>airports_nearest</th>\n",
       "      <td>-0.031139</td>\n",
       "      <td>-0.055516</td>\n",
       "      <td>-0.081535</td>\n",
       "      <td>0.014059</td>\n",
       "      <td>0.050319</td>\n",
       "      <td>-0.105878</td>\n",
       "      <td>-0.063324</td>\n",
       "      <td>NaN</td>\n",
       "      <td>0.067248</td>\n",
       "      <td>NaN</td>\n",
       "      <td>0.008403</td>\n",
       "      <td>0.078026</td>\n",
       "      <td>0.112297</td>\n",
       "      <td>0.258909</td>\n",
       "      <td>0.006981</td>\n",
       "      <td>-0.077541</td>\n",
       "      <td>-0.051040</td>\n",
       "      <td>0.014090</td>\n",
       "      <td>1.000000</td>\n",
       "      <td>0.005275</td>\n",
       "      <td>0.002406</td>\n",
       "      <td>0.001124</td>\n",
       "      <td>-0.014860</td>\n",
       "      <td>-0.003460</td>\n",
       "      <td>-0.035596</td>\n",
       "      <td>-0.038544</td>\n",
       "    </tr>\n",
       "    <tr>\n",
       "      <th>year</th>\n",
       "      <td>-0.081399</td>\n",
       "      <td>-0.068672</td>\n",
       "      <td>0.007317</td>\n",
       "      <td>-0.051914</td>\n",
       "      <td>0.019044</td>\n",
       "      <td>-0.104776</td>\n",
       "      <td>-0.049623</td>\n",
       "      <td>NaN</td>\n",
       "      <td>0.330128</td>\n",
       "      <td>NaN</td>\n",
       "      <td>0.227427</td>\n",
       "      <td>0.009122</td>\n",
       "      <td>0.010552</td>\n",
       "      <td>0.022876</td>\n",
       "      <td>-0.037205</td>\n",
       "      <td>-0.020006</td>\n",
       "      <td>-0.036157</td>\n",
       "      <td>0.036169</td>\n",
       "      <td>0.005275</td>\n",
       "      <td>1.000000</td>\n",
       "      <td>-0.257952</td>\n",
       "      <td>-0.003223</td>\n",
       "      <td>-0.609330</td>\n",
       "      <td>0.156711</td>\n",
       "      <td>-0.040408</td>\n",
       "      <td>0.039917</td>\n",
       "    </tr>\n",
       "    <tr>\n",
       "      <th>month</th>\n",
       "      <td>0.006792</td>\n",
       "      <td>0.002733</td>\n",
       "      <td>-0.012360</td>\n",
       "      <td>0.006295</td>\n",
       "      <td>0.006439</td>\n",
       "      <td>0.000209</td>\n",
       "      <td>0.000483</td>\n",
       "      <td>NaN</td>\n",
       "      <td>0.062816</td>\n",
       "      <td>NaN</td>\n",
       "      <td>0.121605</td>\n",
       "      <td>0.020213</td>\n",
       "      <td>0.016318</td>\n",
       "      <td>-0.013678</td>\n",
       "      <td>-0.002327</td>\n",
       "      <td>0.020771</td>\n",
       "      <td>-0.010066</td>\n",
       "      <td>0.015909</td>\n",
       "      <td>0.002406</td>\n",
       "      <td>-0.257952</td>\n",
       "      <td>1.000000</td>\n",
       "      <td>0.010624</td>\n",
       "      <td>-0.045301</td>\n",
       "      <td>0.004847</td>\n",
       "      <td>0.004023</td>\n",
       "      <td>-0.003419</td>\n",
       "    </tr>\n",
       "    <tr>\n",
       "      <th>weekday</th>\n",
       "      <td>-0.014006</td>\n",
       "      <td>-0.011087</td>\n",
       "      <td>0.006352</td>\n",
       "      <td>-0.010296</td>\n",
       "      <td>0.001003</td>\n",
       "      <td>-0.020348</td>\n",
       "      <td>-0.004520</td>\n",
       "      <td>NaN</td>\n",
       "      <td>0.001613</td>\n",
       "      <td>NaN</td>\n",
       "      <td>0.006058</td>\n",
       "      <td>0.008294</td>\n",
       "      <td>0.009399</td>\n",
       "      <td>0.011458</td>\n",
       "      <td>-0.006124</td>\n",
       "      <td>-0.015757</td>\n",
       "      <td>0.001157</td>\n",
       "      <td>-0.007637</td>\n",
       "      <td>0.001124</td>\n",
       "      <td>-0.003223</td>\n",
       "      <td>0.010624</td>\n",
       "      <td>1.000000</td>\n",
       "      <td>-0.025446</td>\n",
       "      <td>-0.007398</td>\n",
       "      <td>-0.017419</td>\n",
       "      <td>-0.014445</td>\n",
       "    </tr>\n",
       "    <tr>\n",
       "      <th>days_exposition</th>\n",
       "      <td>0.150126</td>\n",
       "      <td>0.138218</td>\n",
       "      <td>0.017452</td>\n",
       "      <td>0.095808</td>\n",
       "      <td>-0.041534</td>\n",
       "      <td>0.125543</td>\n",
       "      <td>0.116303</td>\n",
       "      <td>NaN</td>\n",
       "      <td>-0.025436</td>\n",
       "      <td>NaN</td>\n",
       "      <td>-0.061822</td>\n",
       "      <td>-0.038415</td>\n",
       "      <td>-0.050750</td>\n",
       "      <td>-0.056033</td>\n",
       "      <td>0.056675</td>\n",
       "      <td>0.026708</td>\n",
       "      <td>0.071722</td>\n",
       "      <td>-0.083784</td>\n",
       "      <td>-0.014860</td>\n",
       "      <td>-0.609330</td>\n",
       "      <td>-0.045301</td>\n",
       "      <td>-0.025446</td>\n",
       "      <td>1.000000</td>\n",
       "      <td>-0.041484</td>\n",
       "      <td>0.118774</td>\n",
       "      <td>0.025097</td>\n",
       "    </tr>\n",
       "    <tr>\n",
       "      <th>total_images</th>\n",
       "      <td>0.118027</td>\n",
       "      <td>0.099170</td>\n",
       "      <td>0.006910</td>\n",
       "      <td>0.102345</td>\n",
       "      <td>-0.023734</td>\n",
       "      <td>0.034890</td>\n",
       "      <td>0.094906</td>\n",
       "      <td>NaN</td>\n",
       "      <td>0.117156</td>\n",
       "      <td>NaN</td>\n",
       "      <td>0.045458</td>\n",
       "      <td>0.038379</td>\n",
       "      <td>0.019011</td>\n",
       "      <td>-0.049364</td>\n",
       "      <td>0.016054</td>\n",
       "      <td>-0.004731</td>\n",
       "      <td>-0.016310</td>\n",
       "      <td>0.003710</td>\n",
       "      <td>-0.003460</td>\n",
       "      <td>0.156711</td>\n",
       "      <td>0.004847</td>\n",
       "      <td>-0.007398</td>\n",
       "      <td>-0.041484</td>\n",
       "      <td>1.000000</td>\n",
       "      <td>0.153823</td>\n",
       "      <td>0.145897</td>\n",
       "    </tr>\n",
       "    <tr>\n",
       "      <th>last_price</th>\n",
       "      <td>0.793675</td>\n",
       "      <td>0.689276</td>\n",
       "      <td>0.020831</td>\n",
       "      <td>0.603581</td>\n",
       "      <td>-0.112639</td>\n",
       "      <td>0.505421</td>\n",
       "      <td>0.506262</td>\n",
       "      <td>NaN</td>\n",
       "      <td>0.111252</td>\n",
       "      <td>NaN</td>\n",
       "      <td>-0.005344</td>\n",
       "      <td>0.071883</td>\n",
       "      <td>0.061261</td>\n",
       "      <td>-0.336805</td>\n",
       "      <td>0.190829</td>\n",
       "      <td>0.010675</td>\n",
       "      <td>0.201884</td>\n",
       "      <td>-0.108518</td>\n",
       "      <td>-0.035596</td>\n",
       "      <td>-0.040408</td>\n",
       "      <td>0.004023</td>\n",
       "      <td>-0.017419</td>\n",
       "      <td>0.118774</td>\n",
       "      <td>0.153823</td>\n",
       "      <td>1.000000</td>\n",
       "      <td>0.697210</td>\n",
       "    </tr>\n",
       "    <tr>\n",
       "      <th>m2_price</th>\n",
       "      <td>0.207810</td>\n",
       "      <td>0.109004</td>\n",
       "      <td>-0.216068</td>\n",
       "      <td>0.364968</td>\n",
       "      <td>0.225171</td>\n",
       "      <td>0.355075</td>\n",
       "      <td>-0.024142</td>\n",
       "      <td>NaN</td>\n",
       "      <td>0.101859</td>\n",
       "      <td>NaN</td>\n",
       "      <td>0.009716</td>\n",
       "      <td>0.191302</td>\n",
       "      <td>0.242199</td>\n",
       "      <td>-0.390067</td>\n",
       "      <td>0.162625</td>\n",
       "      <td>0.048696</td>\n",
       "      <td>0.166836</td>\n",
       "      <td>-0.087770</td>\n",
       "      <td>-0.038544</td>\n",
       "      <td>0.039917</td>\n",
       "      <td>-0.003419</td>\n",
       "      <td>-0.014445</td>\n",
       "      <td>0.025097</td>\n",
       "      <td>0.145897</td>\n",
       "      <td>0.697210</td>\n",
       "      <td>1.000000</td>\n",
       "    </tr>\n",
       "  </tbody>\n",
       "</table>\n",
       "</div>"
      ],
      "text/plain": [
       "                     total_area  living_area  living_ratio  kitchen_area  \\\n",
       "total_area             1.000000     0.932406      0.199485      0.576240   \n",
       "living_area            0.932406     1.000000      0.500627      0.361314   \n",
       "living_ratio           0.199485     0.500627      1.000000     -0.358723   \n",
       "kitchen_area           0.576240     0.361314     -0.358723      1.000000   \n",
       "kitchen_ratio         -0.344678    -0.519869     -0.716548      0.475813   \n",
       "ceiling_height         0.483399     0.432384     -0.029276      0.400122   \n",
       "rooms                  0.788572     0.868658      0.559105      0.220502   \n",
       "studio                      NaN          NaN           NaN           NaN   \n",
       "balcony                0.094306     0.051644     -0.076616      0.116518   \n",
       "open_plan                   NaN          NaN           NaN           NaN   \n",
       "is_apartment          -0.021402    -0.017571      0.001416     -0.016138   \n",
       "floor                 -0.012737    -0.097290     -0.286329      0.156053   \n",
       "floors_total          -0.044996    -0.158032     -0.399131      0.199622   \n",
       "city_center_nearest   -0.238357    -0.227214     -0.035707     -0.179652   \n",
       "parks_around3000       0.146417     0.159365      0.092997      0.062424   \n",
       "parks_nearest         -0.008785    -0.040945     -0.098230      0.037796   \n",
       "ponds_around3000       0.162786     0.142109     -0.011023      0.134510   \n",
       "ponds_nearest         -0.086477    -0.068323      0.022799     -0.091122   \n",
       "airports_nearest      -0.031139    -0.055516     -0.081535      0.014059   \n",
       "year                  -0.081399    -0.068672      0.007317     -0.051914   \n",
       "month                  0.006792     0.002733     -0.012360      0.006295   \n",
       "weekday               -0.014006    -0.011087      0.006352     -0.010296   \n",
       "days_exposition        0.150126     0.138218      0.017452      0.095808   \n",
       "total_images           0.118027     0.099170      0.006910      0.102345   \n",
       "last_price             0.793675     0.689276      0.020831      0.603581   \n",
       "m2_price               0.207810     0.109004     -0.216068      0.364968   \n",
       "\n",
       "                     kitchen_ratio  ceiling_height     rooms  studio  \\\n",
       "total_area               -0.344678        0.483399  0.788572     NaN   \n",
       "living_area              -0.519869        0.432384  0.868658     NaN   \n",
       "living_ratio             -0.716548       -0.029276  0.559105     NaN   \n",
       "kitchen_area              0.475813        0.400122  0.220502     NaN   \n",
       "kitchen_ratio             1.000000        0.017631 -0.608446     NaN   \n",
       "ceiling_height            0.017631        1.000000  0.274454     NaN   \n",
       "rooms                    -0.608446        0.274454  1.000000     NaN   \n",
       "studio                         NaN             NaN       NaN     NaN   \n",
       "balcony                   0.033640       -0.070786  0.041249     NaN   \n",
       "open_plan                      NaN             NaN       NaN     NaN   \n",
       "is_apartment              0.005359       -0.039234 -0.009826     NaN   \n",
       "floor                     0.247968       -0.042479 -0.146740     NaN   \n",
       "floors_total              0.351606       -0.083234 -0.211614     NaN   \n",
       "city_center_nearest       0.020604       -0.360514 -0.178233     NaN   \n",
       "parks_around3000         -0.085604        0.256549  0.114116     NaN   \n",
       "parks_nearest             0.056970       -0.051038 -0.044084     NaN   \n",
       "ponds_around3000         -0.006229        0.230627  0.085754     NaN   \n",
       "ponds_nearest            -0.015546       -0.136684 -0.044327     NaN   \n",
       "airports_nearest          0.050319       -0.105878 -0.063324     NaN   \n",
       "year                      0.019044       -0.104776 -0.049623     NaN   \n",
       "month                     0.006439        0.000209  0.000483     NaN   \n",
       "weekday                   0.001003       -0.020348 -0.004520     NaN   \n",
       "days_exposition          -0.041534        0.125543  0.116303     NaN   \n",
       "total_images             -0.023734        0.034890  0.094906     NaN   \n",
       "last_price               -0.112639        0.505421  0.506262     NaN   \n",
       "m2_price                  0.225171        0.355075 -0.024142     NaN   \n",
       "\n",
       "                      balcony  open_plan  is_apartment     floor  \\\n",
       "total_area           0.094306        NaN     -0.021402 -0.012737   \n",
       "living_area          0.051644        NaN     -0.017571 -0.097290   \n",
       "living_ratio        -0.076616        NaN      0.001416 -0.286329   \n",
       "kitchen_area         0.116518        NaN     -0.016138  0.156053   \n",
       "kitchen_ratio        0.033640        NaN      0.005359  0.247968   \n",
       "ceiling_height      -0.070786        NaN     -0.039234 -0.042479   \n",
       "rooms                0.041249        NaN     -0.009826 -0.146740   \n",
       "studio                    NaN        NaN           NaN       NaN   \n",
       "balcony              1.000000        NaN     -0.015694  0.178920   \n",
       "open_plan                 NaN        NaN           NaN       NaN   \n",
       "is_apartment        -0.015694        NaN      1.000000 -0.012482   \n",
       "floor                0.178920        NaN     -0.012482  1.000000   \n",
       "floors_total         0.198964        NaN     -0.010342  0.677411   \n",
       "city_center_nearest  0.046033        NaN     -0.000726  0.006647   \n",
       "parks_around3000    -0.078831        NaN     -0.000874 -0.157471   \n",
       "parks_nearest        0.048670        NaN     -0.020074  0.070897   \n",
       "ponds_around3000    -0.030928        NaN     -0.017260 -0.074201   \n",
       "ponds_nearest        0.009371        NaN      0.024735  0.025259   \n",
       "airports_nearest     0.067248        NaN      0.008403  0.078026   \n",
       "year                 0.330128        NaN      0.227427  0.009122   \n",
       "month                0.062816        NaN      0.121605  0.020213   \n",
       "weekday              0.001613        NaN      0.006058  0.008294   \n",
       "days_exposition     -0.025436        NaN     -0.061822 -0.038415   \n",
       "total_images         0.117156        NaN      0.045458  0.038379   \n",
       "last_price           0.111252        NaN     -0.005344  0.071883   \n",
       "m2_price             0.101859        NaN      0.009716  0.191302   \n",
       "\n",
       "                     floors_total  city_center_nearest  parks_around3000  \\\n",
       "total_area              -0.044996            -0.238357          0.146417   \n",
       "living_area             -0.158032            -0.227214          0.159365   \n",
       "living_ratio            -0.399131            -0.035707          0.092997   \n",
       "kitchen_area             0.199622            -0.179652          0.062424   \n",
       "kitchen_ratio            0.351606             0.020604         -0.085604   \n",
       "ceiling_height          -0.083234            -0.360514          0.256549   \n",
       "rooms                   -0.211614            -0.178233          0.114116   \n",
       "studio                        NaN                  NaN               NaN   \n",
       "balcony                  0.198964             0.046033         -0.078831   \n",
       "open_plan                     NaN                  NaN               NaN   \n",
       "is_apartment            -0.010342            -0.000726         -0.000874   \n",
       "floor                    0.677411             0.006647         -0.157471   \n",
       "floors_total             1.000000             0.013149         -0.241309   \n",
       "city_center_nearest      0.013149             1.000000         -0.147851   \n",
       "parks_around3000        -0.241309            -0.147851          1.000000   \n",
       "parks_nearest            0.093964            -0.042184         -0.249946   \n",
       "ponds_around3000        -0.117661            -0.057274          0.297923   \n",
       "ponds_nearest            0.035360             0.023172         -0.164305   \n",
       "airports_nearest         0.112297             0.258909          0.006981   \n",
       "year                     0.010552             0.022876         -0.037205   \n",
       "month                    0.016318            -0.013678         -0.002327   \n",
       "weekday                  0.009399             0.011458         -0.006124   \n",
       "days_exposition         -0.050750            -0.056033          0.056675   \n",
       "total_images             0.019011            -0.049364          0.016054   \n",
       "last_price               0.061261            -0.336805          0.190829   \n",
       "m2_price                 0.242199            -0.390067          0.162625   \n",
       "\n",
       "                     parks_nearest  ponds_around3000  ponds_nearest  \\\n",
       "total_area               -0.008785          0.162786      -0.086477   \n",
       "living_area              -0.040945          0.142109      -0.068323   \n",
       "living_ratio             -0.098230         -0.011023       0.022799   \n",
       "kitchen_area              0.037796          0.134510      -0.091122   \n",
       "kitchen_ratio             0.056970         -0.006229      -0.015546   \n",
       "ceiling_height           -0.051038          0.230627      -0.136684   \n",
       "rooms                    -0.044084          0.085754      -0.044327   \n",
       "studio                         NaN               NaN            NaN   \n",
       "balcony                   0.048670         -0.030928       0.009371   \n",
       "open_plan                      NaN               NaN            NaN   \n",
       "is_apartment             -0.020074         -0.017260       0.024735   \n",
       "floor                     0.070897         -0.074201       0.025259   \n",
       "floors_total              0.093964         -0.117661       0.035360   \n",
       "city_center_nearest      -0.042184         -0.057274       0.023172   \n",
       "parks_around3000         -0.249946          0.297923      -0.164305   \n",
       "parks_nearest             1.000000          0.072123       0.003219   \n",
       "ponds_around3000          0.072123          1.000000      -0.337891   \n",
       "ponds_nearest             0.003219         -0.337891       1.000000   \n",
       "airports_nearest         -0.077541         -0.051040       0.014090   \n",
       "year                     -0.020006         -0.036157       0.036169   \n",
       "month                     0.020771         -0.010066       0.015909   \n",
       "weekday                  -0.015757          0.001157      -0.007637   \n",
       "days_exposition           0.026708          0.071722      -0.083784   \n",
       "total_images             -0.004731         -0.016310       0.003710   \n",
       "last_price                0.010675          0.201884      -0.108518   \n",
       "m2_price                  0.048696          0.166836      -0.087770   \n",
       "\n",
       "                     airports_nearest      year     month   weekday  \\\n",
       "total_area                  -0.031139 -0.081399  0.006792 -0.014006   \n",
       "living_area                 -0.055516 -0.068672  0.002733 -0.011087   \n",
       "living_ratio                -0.081535  0.007317 -0.012360  0.006352   \n",
       "kitchen_area                 0.014059 -0.051914  0.006295 -0.010296   \n",
       "kitchen_ratio                0.050319  0.019044  0.006439  0.001003   \n",
       "ceiling_height              -0.105878 -0.104776  0.000209 -0.020348   \n",
       "rooms                       -0.063324 -0.049623  0.000483 -0.004520   \n",
       "studio                            NaN       NaN       NaN       NaN   \n",
       "balcony                      0.067248  0.330128  0.062816  0.001613   \n",
       "open_plan                         NaN       NaN       NaN       NaN   \n",
       "is_apartment                 0.008403  0.227427  0.121605  0.006058   \n",
       "floor                        0.078026  0.009122  0.020213  0.008294   \n",
       "floors_total                 0.112297  0.010552  0.016318  0.009399   \n",
       "city_center_nearest          0.258909  0.022876 -0.013678  0.011458   \n",
       "parks_around3000             0.006981 -0.037205 -0.002327 -0.006124   \n",
       "parks_nearest               -0.077541 -0.020006  0.020771 -0.015757   \n",
       "ponds_around3000            -0.051040 -0.036157 -0.010066  0.001157   \n",
       "ponds_nearest                0.014090  0.036169  0.015909 -0.007637   \n",
       "airports_nearest             1.000000  0.005275  0.002406  0.001124   \n",
       "year                         0.005275  1.000000 -0.257952 -0.003223   \n",
       "month                        0.002406 -0.257952  1.000000  0.010624   \n",
       "weekday                      0.001124 -0.003223  0.010624  1.000000   \n",
       "days_exposition             -0.014860 -0.609330 -0.045301 -0.025446   \n",
       "total_images                -0.003460  0.156711  0.004847 -0.007398   \n",
       "last_price                  -0.035596 -0.040408  0.004023 -0.017419   \n",
       "m2_price                    -0.038544  0.039917 -0.003419 -0.014445   \n",
       "\n",
       "                     days_exposition  total_images  last_price  m2_price  \n",
       "total_area                  0.150126      0.118027    0.793675  0.207810  \n",
       "living_area                 0.138218      0.099170    0.689276  0.109004  \n",
       "living_ratio                0.017452      0.006910    0.020831 -0.216068  \n",
       "kitchen_area                0.095808      0.102345    0.603581  0.364968  \n",
       "kitchen_ratio              -0.041534     -0.023734   -0.112639  0.225171  \n",
       "ceiling_height              0.125543      0.034890    0.505421  0.355075  \n",
       "rooms                       0.116303      0.094906    0.506262 -0.024142  \n",
       "studio                           NaN           NaN         NaN       NaN  \n",
       "balcony                    -0.025436      0.117156    0.111252  0.101859  \n",
       "open_plan                        NaN           NaN         NaN       NaN  \n",
       "is_apartment               -0.061822      0.045458   -0.005344  0.009716  \n",
       "floor                      -0.038415      0.038379    0.071883  0.191302  \n",
       "floors_total               -0.050750      0.019011    0.061261  0.242199  \n",
       "city_center_nearest        -0.056033     -0.049364   -0.336805 -0.390067  \n",
       "parks_around3000            0.056675      0.016054    0.190829  0.162625  \n",
       "parks_nearest               0.026708     -0.004731    0.010675  0.048696  \n",
       "ponds_around3000            0.071722     -0.016310    0.201884  0.166836  \n",
       "ponds_nearest              -0.083784      0.003710   -0.108518 -0.087770  \n",
       "airports_nearest           -0.014860     -0.003460   -0.035596 -0.038544  \n",
       "year                       -0.609330      0.156711   -0.040408  0.039917  \n",
       "month                      -0.045301      0.004847    0.004023 -0.003419  \n",
       "weekday                    -0.025446     -0.007398   -0.017419 -0.014445  \n",
       "days_exposition             1.000000     -0.041484    0.118774  0.025097  \n",
       "total_images               -0.041484      1.000000    0.153823  0.145897  \n",
       "last_price                  0.118774      0.153823    1.000000  0.697210  \n",
       "m2_price                    0.025097      0.145897    0.697210  1.000000  "
      ]
     },
     "execution_count": 80,
     "metadata": {},
     "output_type": "execute_result"
    }
   ],
   "source": [
    "df.corr()"
   ]
  },
  {
   "cell_type": "markdown",
   "metadata": {},
   "source": [
    "Видно, что нет ни одного параметра, который коррелировал бы с ценой за квадратный метр более, чем на 0.4 коэффициента Пирсона. Из параметров примерно половина коррелирует менее, чем на 0.1 - то есть практически не коррелирует."
   ]
  },
  {
   "cell_type": "markdown",
   "metadata": {},
   "source": [
    "#### Площадь"
   ]
  },
  {
   "cell_type": "code",
   "execution_count": 81,
   "metadata": {},
   "outputs": [
    {
     "data": {
      "text/plain": [
       "<AxesSubplot:xlabel='total_area', ylabel='m2_price'>"
      ]
     },
     "execution_count": 81,
     "metadata": {},
     "output_type": "execute_result"
    },
    {
     "data": {
      "image/png": "[encoded data removed]",
      "text/plain": [
       "<Figure size 432x288 with 1 Axes>"
      ]
     },
     "metadata": {
      "needs_background": "light"
     },
     "output_type": "display_data"
    }
   ],
   "source": [
    "df.plot(kind='scatter', \n",
    "        x='total_area', y='m2_price',\n",
    "       alpha=0.2,\n",
    "       )"
   ]
  },
  {
   "cell_type": "markdown",
   "metadata": {},
   "source": [
    "Распределение оказалось вовсе не столь горизонтальной линией, как ожидалось бы. Распределение оказалось тучей. Хотя, казалось бы, площадь и цена - одна сатана. Будем считать, что это несколько горизонтальных линий, каждая из которых - это квартира своего качества. Эти качества мы и будем далее определять."
   ]
  },
  {
   "cell_type": "markdown",
   "metadata": {
    "tags": []
   },
   "source": [
    "#### Число комнат"
   ]
  },
  {
   "cell_type": "code",
   "execution_count": 82,
   "metadata": {},
   "outputs": [
    {
     "data": {
      "text/plain": [
       "<AxesSubplot:xlabel='rooms', ylabel='m2_price'>"
      ]
     },
     "execution_count": 82,
     "metadata": {},
     "output_type": "execute_result"
    },
    {
     "data": {
      "image/png": "[encoded data removed]",
      "text/plain": [
       "<Figure size 432x288 with 1 Axes>"
      ]
     },
     "metadata": {
      "needs_background": "light"
     },
     "output_type": "display_data"
    }
   ],
   "source": [
    "df.plot(kind='scatter', \n",
    "        x='rooms', y='m2_price',\n",
    "       alpha=0.1,\n",
    "       )"
   ]
  },
  {
   "cell_type": "code",
   "execution_count": 83,
   "metadata": {},
   "outputs": [
    {
     "name": "stdout",
     "output_type": "stream",
     "text": [
      "1 100000.0\n",
      "2 93023.0\n",
      "3 88983.0\n",
      "4 91837.0\n",
      "5 92481.0\n",
      "6 94068.0\n",
      "7 106398.0\n"
     ]
    }
   ],
   "source": [
    "for rooms, slice in df.groupby('rooms'):\n",
    "    print(rooms, slice['m2_price'].median())"
   ]
  },
  {
   "cell_type": "markdown",
   "metadata": {},
   "source": [
    "Сильной зависимости от числа комнат не наблюдается, но все же она есть. Самые дорогие - 1-2 комнатные квартиры, а также 7+ комнат. Последнее объясняется вероятно дефицитностью их на рынке, расположением в центре, а также наличием круга людей, желающих купить именно их под свои нужды."
   ]
  },
  {
   "cell_type": "markdown",
   "metadata": {},
   "source": [
    "#### Удаленность от центра"
   ]
  },
  {
   "cell_type": "code",
   "execution_count": 84,
   "metadata": {},
   "outputs": [
    {
     "data": {
      "text/plain": [
       "<AxesSubplot:xlabel='city_center_nearest', ylabel='m2_price'>"
      ]
     },
     "execution_count": 84,
     "metadata": {},
     "output_type": "execute_result"
    },
    {
     "data": {
      "image/png": "[encoded data removed]",
      "text/plain": [
       "<Figure size 720x432 with 1 Axes>"
      ]
     },
     "metadata": {
      "needs_background": "light"
     },
     "output_type": "display_data"
    }
   ],
   "source": [
    "df.plot(kind='scatter',\n",
    "        x='city_center_nearest',\n",
    "        y='m2_price',\n",
    "        alpha=0.1,\n",
    "        figsize=(10, 6),\n",
    "       )"
   ]
  },
  {
   "cell_type": "markdown",
   "metadata": {},
   "source": [
    "Заметно убывание, хотя с виду вовсе не столь стремительное, как ожидалось бы. Тем не менее, нам здесь приходит на помощь коэффициент корреляции Пирсона -0.382. Самый большой из всех коэффициентов. Так что зависимость-таки есть и немалая.\n",
    "\n",
    "Еще по матрице несложно заметить провал на 8км. Это можно считать границей центра города. Возможно, это заводской пояс Петербурга, сформировавшийся в конце 19 века, и существующий поныне. Раньше он отделял город и область, а теперь - центр и основной пояс города."
   ]
  },
  {
   "cell_type": "markdown",
   "metadata": {},
   "source": [
    "#### Тип этажа"
   ]
  },
  {
   "cell_type": "code",
   "execution_count": 85,
   "metadata": {},
   "outputs": [
    {
     "name": "stdout",
     "output_type": "stream",
     "text": [
      "другой 98020.0\n",
      "первый 81333.0\n",
      "последний 87857.0\n"
     ]
    }
   ],
   "source": [
    "for type, slice in df.groupby('floor_type'):\n",
    "    print(type, slice['m2_price'].median())"
   ]
  },
  {
   "cell_type": "markdown",
   "metadata": {},
   "source": [
    "Мы можем сделать вывод, что квартиры на промежуточных этажах дороже, чем на последнем этаже, а квартиры последнего этажа -  дороже, чем первого. "
   ]
  },
  {
   "cell_type": "markdown",
   "metadata": {},
   "source": [
    "#### Год"
   ]
  },
  {
   "cell_type": "markdown",
   "metadata": {},
   "source": [
    "Посмотрим как менялась стоимость год-от-года."
   ]
  },
  {
   "cell_type": "code",
   "execution_count": 86,
   "metadata": {},
   "outputs": [
    {
     "data": {
      "text/plain": [
       "<AxesSubplot:xlabel='year', ylabel='m2_price'>"
      ]
     },
     "execution_count": 86,
     "metadata": {},
     "output_type": "execute_result"
    },
    {
     "data": {
      "image/png": "[encoded data removed]",
      "text/plain": [
       "<Figure size 216x432 with 1 Axes>"
      ]
     },
     "metadata": {
      "needs_background": "light"
     },
     "output_type": "display_data"
    }
   ],
   "source": [
    "df.plot(kind='scatter',\n",
    "        x='year',\n",
    "        y='m2_price',\n",
    "        alpha=0.01,\n",
    "        figsize=(3, 6),\n",
    "       )"
   ]
  },
  {
   "cell_type": "code",
   "execution_count": 87,
   "metadata": {},
   "outputs": [
    {
     "name": "stdout",
     "output_type": "stream",
     "text": [
      "2014 106344.0\n",
      "2015 92308.0\n",
      "2016 90909.0\n",
      "2017 92405.0\n",
      "2018 96053.0\n",
      "2019 102857.0\n"
     ]
    }
   ],
   "source": [
    "for year, slice in df.groupby('year'):\n",
    "    print(year, slice['m2_price'].median())"
   ]
  },
  {
   "cell_type": "markdown",
   "metadata": {},
   "source": [
    "Виднопо интенсивности линий, что существенно выросла популярность самого сервиса \"Яндекс.Недвижимость\". \n",
    "Цена за $м^2$ росла, после 14-ого года просела, но к 19-ому году снова выросла почти до прежних значений."
   ]
  },
  {
   "cell_type": "markdown",
   "metadata": {},
   "source": [
    "#### Месяц"
   ]
  },
  {
   "cell_type": "markdown",
   "metadata": {},
   "source": [
    "Посмотрим на цену квартиры в течение года. Как цена зависит от месяца, когда объявление выставили (хотя было бы более корректно считать от того месяца, когда квартиру продали - last price)."
   ]
  },
  {
   "cell_type": "code",
   "execution_count": 88,
   "metadata": {},
   "outputs": [
    {
     "data": {
      "text/plain": [
       "<AxesSubplot:xlabel='month', ylabel='m2_price'>"
      ]
     },
     "execution_count": 88,
     "metadata": {},
     "output_type": "execute_result"
    },
    {
     "data": {
      "image/png": "[encoded data removed]",
      "text/plain": [
       "<Figure size 360x432 with 1 Axes>"
      ]
     },
     "metadata": {
      "needs_background": "light"
     },
     "output_type": "display_data"
    }
   ],
   "source": [
    "df.plot(kind='scatter',\n",
    "        x='month',\n",
    "        y='m2_price',\n",
    "        alpha=0.01,\n",
    "        figsize=(5, 6),\n",
    "       )"
   ]
  },
  {
   "cell_type": "markdown",
   "metadata": {},
   "source": [
    "Меньше квартир продается почему-то в мае, декабре и январе. Зависимости цены от месяца не видно. Применим вместо графического численный метод."
   ]
  },
  {
   "cell_type": "code",
   "execution_count": 89,
   "metadata": {},
   "outputs": [
    {
     "name": "stdout",
     "output_type": "stream",
     "text": [
      "1 95477.5\n",
      "2 95000.0\n",
      "3 95139.0\n",
      "4 95745.0\n",
      "5 91982.0\n",
      "6 92558.0\n",
      "7 94571.5\n",
      "8 95536.0\n",
      "9 95645.0\n",
      "10 93734.5\n",
      "11 95238.0\n",
      "12 95161.0\n"
     ]
    }
   ],
   "source": [
    "for month, slice in df.groupby('month'):\n",
    "    print(month, slice['m2_price'].median())"
   ]
  },
  {
   "cell_type": "markdown",
   "metadata": {},
   "source": [
    "В мае, июне, ноябре дешевле. В январе и апреле дороже. Разница несущественна, но есть. Вероятно, есть круг людей, желающих продать квартиру поскорее к моменту уезда на дачу летом, и поэтому готовых сбавить цены. Но это может быть и случайным шумом."
   ]
  },
  {
   "cell_type": "markdown",
   "metadata": {},
   "source": [
    "#### День недели"
   ]
  },
  {
   "cell_type": "markdown",
   "metadata": {},
   "source": [
    "Заведомо не ожидаем никакой зависимости, связанной с днем недели, но все равно поглядим."
   ]
  },
  {
   "cell_type": "code",
   "execution_count": 90,
   "metadata": {},
   "outputs": [
    {
     "name": "stdout",
     "output_type": "stream",
     "text": [
      "0 94915.0\n",
      "1 95455.0\n",
      "2 95238.0\n",
      "3 95000.0\n",
      "4 94286.0\n",
      "5 92623.0\n",
      "6 94444.0\n"
     ]
    }
   ],
   "source": [
    "for weekday, slice in df.groupby('weekday'):\n",
    "    print(weekday, slice['m2_price'].median())"
   ]
  },
  {
   "cell_type": "markdown",
   "metadata": {},
   "source": [
    "Данные варьируются. Максимум для объявлений, размещенных во вторник, и минимум для размещенных в субботу. Возможно, это как-то связано с графиком людей и характерной стоимостью квартир, которыми они владеют. Или иное объяснение. А может, это случайный шум."
   ]
  },
  {
   "cell_type": "markdown",
   "metadata": {},
   "source": [
    "### Распределение по населенным пунктам"
   ]
  },
  {
   "cell_type": "markdown",
   "metadata": {},
   "source": [
    "Возьмем десяток самых крупных населенных пунктов и посмотрим в них стоимость жилья. Где дешевле, где дороже, какая характерная разница в цене.\n",
    "Для начала выделяем десяток городов с наибольшим числом объявлений."
   ]
  },
  {
   "cell_type": "code",
   "execution_count": 91,
   "metadata": {},
   "outputs": [
    {
     "data": {
      "text/html": [
       "<div>\n",
       "<style scoped>\n",
       "    .dataframe tbody tr th:only-of-type {\n",
       "        vertical-align: middle;\n",
       "    }\n",
       "\n",
       "    .dataframe tbody tr th {\n",
       "        vertical-align: top;\n",
       "    }\n",
       "\n",
       "    .dataframe thead th {\n",
       "        text-align: right;\n",
       "    }\n",
       "</style>\n",
       "<table border=\"1\" class=\"dataframe\">\n",
       "  <thead>\n",
       "    <tr style=\"text-align: right;\">\n",
       "      <th></th>\n",
       "      <th>total_area</th>\n",
       "      <th>living_area</th>\n",
       "      <th>living_ratio</th>\n",
       "      <th>kitchen_area</th>\n",
       "      <th>kitchen_ratio</th>\n",
       "      <th>ceiling_height</th>\n",
       "      <th>rooms</th>\n",
       "      <th>studio</th>\n",
       "      <th>balcony</th>\n",
       "      <th>open_plan</th>\n",
       "      <th>is_apartment</th>\n",
       "      <th>floor</th>\n",
       "      <th>floors_total</th>\n",
       "      <th>floor_type</th>\n",
       "      <th>locality_name</th>\n",
       "      <th>city_center_nearest</th>\n",
       "      <th>parks_around3000</th>\n",
       "      <th>parks_nearest</th>\n",
       "      <th>ponds_around3000</th>\n",
       "      <th>ponds_nearest</th>\n",
       "      <th>airports_nearest</th>\n",
       "      <th>first_day_exposition</th>\n",
       "      <th>day1</th>\n",
       "      <th>year</th>\n",
       "      <th>month</th>\n",
       "      <th>weekday</th>\n",
       "      <th>days_exposition</th>\n",
       "      <th>total_images</th>\n",
       "      <th>last_price</th>\n",
       "      <th>m2_price</th>\n",
       "    </tr>\n",
       "  </thead>\n",
       "  <tbody>\n",
       "    <tr>\n",
       "      <th>21129</th>\n",
       "      <td>62</td>\n",
       "      <td>40.000000</td>\n",
       "      <td>65</td>\n",
       "      <td>8.000000</td>\n",
       "      <td>13</td>\n",
       "      <td>2.599609</td>\n",
       "      <td>3</td>\n",
       "      <td>False</td>\n",
       "      <td>0</td>\n",
       "      <td>False</td>\n",
       "      <td>True</td>\n",
       "      <td>8</td>\n",
       "      <td>9</td>\n",
       "      <td>другой</td>\n",
       "      <td>Петергоф</td>\n",
       "      <td>34104</td>\n",
       "      <td>1</td>\n",
       "      <td>352</td>\n",
       "      <td>1</td>\n",
       "      <td>675</td>\n",
       "      <td>45602</td>\n",
       "      <td>2016-08-05T00:00:00</td>\n",
       "      <td>2016-08-05</td>\n",
       "      <td>2016</td>\n",
       "      <td>8</td>\n",
       "      <td>4</td>\n",
       "      <td>239</td>\n",
       "      <td>9</td>\n",
       "      <td>4600000</td>\n",
       "      <td>74194</td>\n",
       "    </tr>\n",
       "    <tr>\n",
       "      <th>21130</th>\n",
       "      <td>134</td>\n",
       "      <td>73.312500</td>\n",
       "      <td>55</td>\n",
       "      <td>13.828125</td>\n",
       "      <td>10</td>\n",
       "      <td>3.699219</td>\n",
       "      <td>3</td>\n",
       "      <td>False</td>\n",
       "      <td>&lt;NA&gt;</td>\n",
       "      <td>False</td>\n",
       "      <td>True</td>\n",
       "      <td>3</td>\n",
       "      <td>5</td>\n",
       "      <td>другой</td>\n",
       "      <td>Санкт-Петербург</td>\n",
       "      <td>4232</td>\n",
       "      <td>1</td>\n",
       "      <td>796</td>\n",
       "      <td>3</td>\n",
       "      <td>381</td>\n",
       "      <td>24665</td>\n",
       "      <td>2017-03-21T00:00:00</td>\n",
       "      <td>2017-03-21</td>\n",
       "      <td>2017</td>\n",
       "      <td>3</td>\n",
       "      <td>1</td>\n",
       "      <td>&lt;NA&gt;</td>\n",
       "      <td>9</td>\n",
       "      <td>9700000</td>\n",
       "      <td>72388</td>\n",
       "    </tr>\n",
       "    <tr>\n",
       "      <th>21131</th>\n",
       "      <td>59</td>\n",
       "      <td>38.000000</td>\n",
       "      <td>64</td>\n",
       "      <td>8.500000</td>\n",
       "      <td>14</td>\n",
       "      <td>NaN</td>\n",
       "      <td>3</td>\n",
       "      <td>False</td>\n",
       "      <td>&lt;NA&gt;</td>\n",
       "      <td>False</td>\n",
       "      <td>True</td>\n",
       "      <td>4</td>\n",
       "      <td>5</td>\n",
       "      <td>другой</td>\n",
       "      <td>Тосно</td>\n",
       "      <td>&lt;NA&gt;</td>\n",
       "      <td>&lt;NA&gt;</td>\n",
       "      <td>&lt;NA&gt;</td>\n",
       "      <td>&lt;NA&gt;</td>\n",
       "      <td>&lt;NA&gt;</td>\n",
       "      <td>&lt;NA&gt;</td>\n",
       "      <td>2018-01-15T00:00:00</td>\n",
       "      <td>2018-01-15</td>\n",
       "      <td>2018</td>\n",
       "      <td>1</td>\n",
       "      <td>0</td>\n",
       "      <td>45</td>\n",
       "      <td>14</td>\n",
       "      <td>3100000</td>\n",
       "      <td>52542</td>\n",
       "    </tr>\n",
       "    <tr>\n",
       "      <th>21132</th>\n",
       "      <td>77</td>\n",
       "      <td>45.000000</td>\n",
       "      <td>58</td>\n",
       "      <td>23.296875</td>\n",
       "      <td>30</td>\n",
       "      <td>3.000000</td>\n",
       "      <td>2</td>\n",
       "      <td>False</td>\n",
       "      <td>2</td>\n",
       "      <td>False</td>\n",
       "      <td>True</td>\n",
       "      <td>12</td>\n",
       "      <td>17</td>\n",
       "      <td>другой</td>\n",
       "      <td>Санкт-Петербург</td>\n",
       "      <td>10364</td>\n",
       "      <td>2</td>\n",
       "      <td>173</td>\n",
       "      <td>3</td>\n",
       "      <td>196</td>\n",
       "      <td>39140</td>\n",
       "      <td>2017-03-28T00:00:00</td>\n",
       "      <td>2017-03-28</td>\n",
       "      <td>2017</td>\n",
       "      <td>3</td>\n",
       "      <td>1</td>\n",
       "      <td>602</td>\n",
       "      <td>13</td>\n",
       "      <td>11475000</td>\n",
       "      <td>149026</td>\n",
       "    </tr>\n",
       "    <tr>\n",
       "      <th>21133</th>\n",
       "      <td>32</td>\n",
       "      <td>12.296875</td>\n",
       "      <td>38</td>\n",
       "      <td>9.000000</td>\n",
       "      <td>28</td>\n",
       "      <td>2.500000</td>\n",
       "      <td>1</td>\n",
       "      <td>False</td>\n",
       "      <td>&lt;NA&gt;</td>\n",
       "      <td>False</td>\n",
       "      <td>True</td>\n",
       "      <td>1</td>\n",
       "      <td>5</td>\n",
       "      <td>первый</td>\n",
       "      <td>поселок Новый Учхоз</td>\n",
       "      <td>&lt;NA&gt;</td>\n",
       "      <td>&lt;NA&gt;</td>\n",
       "      <td>&lt;NA&gt;</td>\n",
       "      <td>&lt;NA&gt;</td>\n",
       "      <td>&lt;NA&gt;</td>\n",
       "      <td>&lt;NA&gt;</td>\n",
       "      <td>2017-07-21T00:00:00</td>\n",
       "      <td>2017-07-21</td>\n",
       "      <td>2017</td>\n",
       "      <td>7</td>\n",
       "      <td>4</td>\n",
       "      <td>&lt;NA&gt;</td>\n",
       "      <td>4</td>\n",
       "      <td>1350000</td>\n",
       "      <td>42188</td>\n",
       "    </tr>\n",
       "  </tbody>\n",
       "</table>\n",
       "</div>"
      ],
      "text/plain": [
       "       total_area  living_area  living_ratio  kitchen_area  kitchen_ratio  \\\n",
       "21129          62    40.000000            65      8.000000             13   \n",
       "21130         134    73.312500            55     13.828125             10   \n",
       "21131          59    38.000000            64      8.500000             14   \n",
       "21132          77    45.000000            58     23.296875             30   \n",
       "21133          32    12.296875            38      9.000000             28   \n",
       "\n",
       "       ceiling_height  rooms  studio  balcony  open_plan  is_apartment  floor  \\\n",
       "21129        2.599609      3   False        0      False          True      8   \n",
       "21130        3.699219      3   False     <NA>      False          True      3   \n",
       "21131             NaN      3   False     <NA>      False          True      4   \n",
       "21132        3.000000      2   False        2      False          True     12   \n",
       "21133        2.500000      1   False     <NA>      False          True      1   \n",
       "\n",
       "       floors_total floor_type        locality_name  city_center_nearest  \\\n",
       "21129             9     другой             Петергоф                34104   \n",
       "21130             5     другой      Санкт-Петербург                 4232   \n",
       "21131             5     другой                Тосно                 <NA>   \n",
       "21132            17     другой      Санкт-Петербург                10364   \n",
       "21133             5     первый  поселок Новый Учхоз                 <NA>   \n",
       "\n",
       "       parks_around3000  parks_nearest  ponds_around3000  ponds_nearest  \\\n",
       "21129                 1            352                 1            675   \n",
       "21130                 1            796                 3            381   \n",
       "21131              <NA>           <NA>              <NA>           <NA>   \n",
       "21132                 2            173                 3            196   \n",
       "21133              <NA>           <NA>              <NA>           <NA>   \n",
       "\n",
       "       airports_nearest first_day_exposition       day1  year  month  weekday  \\\n",
       "21129             45602  2016-08-05T00:00:00 2016-08-05  2016      8        4   \n",
       "21130             24665  2017-03-21T00:00:00 2017-03-21  2017      3        1   \n",
       "21131              <NA>  2018-01-15T00:00:00 2018-01-15  2018      1        0   \n",
       "21132             39140  2017-03-28T00:00:00 2017-03-28  2017      3        1   \n",
       "21133              <NA>  2017-07-21T00:00:00 2017-07-21  2017      7        4   \n",
       "\n",
       "       days_exposition  total_images  last_price  m2_price  \n",
       "21129              239             9     4600000     74194  \n",
       "21130             <NA>             9     9700000     72388  \n",
       "21131               45            14     3100000     52542  \n",
       "21132              602            13    11475000    149026  \n",
       "21133             <NA>             4     1350000     42188  "
      ]
     },
     "execution_count": 91,
     "metadata": {},
     "output_type": "execute_result"
    }
   ],
   "source": [
    "df.tail()"
   ]
  },
  {
   "cell_type": "code",
   "execution_count": 92,
   "metadata": {},
   "outputs": [
    {
     "data": {
      "text/html": [
       "<div>\n",
       "<style scoped>\n",
       "    .dataframe tbody tr th:only-of-type {\n",
       "        vertical-align: middle;\n",
       "    }\n",
       "\n",
       "    .dataframe tbody tr th {\n",
       "        vertical-align: top;\n",
       "    }\n",
       "\n",
       "    .dataframe thead th {\n",
       "        text-align: right;\n",
       "    }\n",
       "</style>\n",
       "<table border=\"1\" class=\"dataframe\">\n",
       "  <thead>\n",
       "    <tr style=\"text-align: right;\">\n",
       "      <th></th>\n",
       "      <th>floor</th>\n",
       "    </tr>\n",
       "    <tr>\n",
       "      <th>locality_name</th>\n",
       "      <th></th>\n",
       "    </tr>\n",
       "  </thead>\n",
       "  <tbody>\n",
       "    <tr>\n",
       "      <th>Санкт-Петербург</th>\n",
       "      <td>14114</td>\n",
       "    </tr>\n",
       "    <tr>\n",
       "      <th>посёлок Мурино</th>\n",
       "      <td>421</td>\n",
       "    </tr>\n",
       "    <tr>\n",
       "      <th>посёлок Шушары</th>\n",
       "      <td>397</td>\n",
       "    </tr>\n",
       "    <tr>\n",
       "      <th>Всеволожск</th>\n",
       "      <td>356</td>\n",
       "    </tr>\n",
       "    <tr>\n",
       "      <th>Пушкин</th>\n",
       "      <td>336</td>\n",
       "    </tr>\n",
       "    <tr>\n",
       "      <th>Колпино</th>\n",
       "      <td>321</td>\n",
       "    </tr>\n",
       "    <tr>\n",
       "      <th>Гатчина</th>\n",
       "      <td>294</td>\n",
       "    </tr>\n",
       "    <tr>\n",
       "      <th>посёлок Парголово</th>\n",
       "      <td>289</td>\n",
       "    </tr>\n",
       "    <tr>\n",
       "      <th>деревня Кудрово</th>\n",
       "      <td>231</td>\n",
       "    </tr>\n",
       "    <tr>\n",
       "      <th>Выборг</th>\n",
       "      <td>201</td>\n",
       "    </tr>\n",
       "  </tbody>\n",
       "</table>\n",
       "</div>"
      ],
      "text/plain": [
       "                   floor\n",
       "locality_name           \n",
       "Санкт-Петербург    14114\n",
       "посёлок Мурино       421\n",
       "посёлок Шушары       397\n",
       "Всеволожск           356\n",
       "Пушкин               336\n",
       "Колпино              321\n",
       "Гатчина              294\n",
       "посёлок Парголово    289\n",
       "деревня Кудрово      231\n",
       "Выборг               201"
      ]
     },
     "execution_count": 92,
     "metadata": {},
     "output_type": "execute_result"
    }
   ],
   "source": [
    "top_table = (df.pivot_table(index='locality_name', values='floor' , aggfunc='count')\n",
    "    .sort_values(by='floor', ascending=False))\n",
    "\n",
    "top10 = top_table[0:10]\n",
    "top10.head(10)"
   ]
  },
  {
   "cell_type": "markdown",
   "metadata": {},
   "source": [
    "Далее делаем отдельную колонку где будут названия 10 крупнейших населенных пунктов и \"другое\" для всех более мелких населенных пунктов Ленобласти."
   ]
  },
  {
   "cell_type": "code",
   "execution_count": 93,
   "metadata": {},
   "outputs": [
    {
     "data": {
      "text/plain": [
       "21124    Санкт-Петербург\n",
       "21125    Санкт-Петербург\n",
       "21126    Санкт-Петербург\n",
       "21127    Санкт-Петербург\n",
       "21128             Другие\n",
       "21129             Другие\n",
       "21130    Санкт-Петербург\n",
       "21131             Другие\n",
       "21132    Санкт-Петербург\n",
       "21133             Другие\n",
       "Name: locality_name10, dtype: object"
      ]
     },
     "execution_count": 93,
     "metadata": {},
     "output_type": "execute_result"
    }
   ],
   "source": [
    "df['locality_name10'] = df['locality_name'].where(df['locality_name'].isin(top10.index) , 'Другие')\n",
    "df['locality_name10'].tail(10)"
   ]
  },
  {
   "cell_type": "markdown",
   "metadata": {},
   "source": [
    "И теперь делаем сводную таблицу со средней ценой в этих населенных пунктах."
   ]
  },
  {
   "cell_type": "code",
   "execution_count": 94,
   "metadata": {},
   "outputs": [
    {
     "name": "stdout",
     "output_type": "stream",
     "text": [
      "Всеволожск 65789.0\n",
      "Выборг 58667.0\n",
      "Гатчина 67891.0\n",
      "Другие 59722.0\n",
      "Колпино 74658.0\n",
      "Пушкин 100000.0\n",
      "Санкт-Петербург 104167.0\n",
      "деревня Кудрово 91429.0\n",
      "посёлок Мурино 84146.0\n",
      "посёлок Парголово 92143.0\n",
      "посёлок Шушары 77143.0\n"
     ]
    }
   ],
   "source": [
    "for locality_name, slice in df.groupby('locality_name10'):\n",
    "    print(locality_name, slice['m2_price'].median())"
   ]
  },
  {
   "cell_type": "markdown",
   "metadata": {},
   "source": [
    "Самое дорогое жилье - в Петербурге и элитном Сестрорецке. А самое дешевое - в мелких населенных пунктах области, Всеволожске и новой столице Ленобласти - Гатчине. Разница в цене между Петербургом и столицей Ленобласти составляет полтора раза. Разница существенная, но не столь большая как могла бы быть."
   ]
  },
  {
   "cell_type": "markdown",
   "metadata": {},
   "source": [
    "### Анализ жилья в центре"
   ]
  },
  {
   "cell_type": "markdown",
   "metadata": {},
   "source": [
    "Самая красивая часть Петербурга - это центр. Здесь сосредоточены рабочие места, развлечения, история, красота. Иметь квартиру в дореволюционной части Петербурга - одно удовольствие. Проанализируем, какая часть квартир входит в центр, а также для этой уменьшенной выборки проанализируем основные параметры. Сделаем вывод, отличается это от среднего по городу или нет.\n",
    "\n"
   ]
  },
  {
   "cell_type": "markdown",
   "metadata": {},
   "source": [
    "#### Обособление данных"
   ]
  },
  {
   "cell_type": "markdown",
   "metadata": {},
   "source": [
    "Для начала - сделаем датафрейм для Петербурга, а в нем - столбец с \"округленными километрами\"."
   ]
  },
  {
   "cell_type": "code",
   "execution_count": 95,
   "metadata": {},
   "outputs": [
    {
     "name": "stdout",
     "output_type": "stream",
     "text": [
      "0    16\n",
      "1    13\n",
      "2     8\n",
      "3    11\n",
      "4    15\n",
      "Name: center_km, dtype: Int64\n"
     ]
    }
   ],
   "source": [
    "spb = \"Санкт-Петербург\"\n",
    "center = df.query('locality_name == @spb').reset_index(drop=True)\n",
    "center['center_km'] = center['city_center_nearest'] // 1000\n",
    "print(center['center_km'].head())"
   ]
  },
  {
   "cell_type": "markdown",
   "metadata": {},
   "source": [
    "Теперь построим график средней цены по километрам."
   ]
  },
  {
   "cell_type": "code",
   "execution_count": 96,
   "metadata": {},
   "outputs": [
    {
     "name": "stdout",
     "output_type": "stream",
     "text": [
      "<class 'pandas.core.frame.DataFrame'>\n",
      "RangeIndex: 14114 entries, 0 to 14113\n",
      "Data columns (total 32 columns):\n",
      " #   Column                Non-Null Count  Dtype         \n",
      "---  ------                --------------  -----         \n",
      " 0   total_area            14114 non-null  Int64         \n",
      " 1   living_area           14114 non-null  float16       \n",
      " 2   living_ratio          14114 non-null  Int8          \n",
      " 3   kitchen_area          14114 non-null  float16       \n",
      " 4   kitchen_ratio         14114 non-null  Int8          \n",
      " 5   ceiling_height        9357 non-null   float16       \n",
      " 6   rooms                 14114 non-null  int64         \n",
      " 7   studio                14114 non-null  bool          \n",
      " 8   balcony               7430 non-null   Int8          \n",
      " 9   open_plan             14114 non-null  bool          \n",
      " 10  is_apartment          14114 non-null  bool          \n",
      " 11  floor                 14114 non-null  int64         \n",
      " 12  floors_total          14114 non-null  Int8          \n",
      " 13  floor_type            14114 non-null  object        \n",
      " 14  locality_name         14114 non-null  object        \n",
      " 15  city_center_nearest   14072 non-null  Int64         \n",
      " 16  parks_around3000      14072 non-null  Int8          \n",
      " 17  parks_nearest         6493 non-null   Int64         \n",
      " 18  ponds_around3000      14072 non-null  Int8          \n",
      " 19  ponds_nearest         7048 non-null   Int64         \n",
      " 20  airports_nearest      14052 non-null  Int64         \n",
      " 21  first_day_exposition  14114 non-null  object        \n",
      " 22  day1                  14114 non-null  datetime64[ns]\n",
      " 23  year                  14114 non-null  int64         \n",
      " 24  month                 14114 non-null  int64         \n",
      " 25  weekday               14114 non-null  int64         \n",
      " 26  days_exposition       12229 non-null  Int64         \n",
      " 27  total_images          14114 non-null  Int8          \n",
      " 28  last_price            14114 non-null  Int64         \n",
      " 29  m2_price              14114 non-null  Int64         \n",
      " 30  locality_name10       14114 non-null  object        \n",
      " 31  center_km             14072 non-null  Int64         \n",
      "dtypes: Int64(9), Int8(7), bool(3), datetime64[ns](1), float16(3), int64(5), object(4)\n",
      "memory usage: 2.5+ MB\n"
     ]
    }
   ],
   "source": [
    "center.info()"
   ]
  },
  {
   "cell_type": "code",
   "execution_count": 97,
   "metadata": {},
   "outputs": [
    {
     "name": "stdout",
     "output_type": "stream",
     "text": [
      "<class 'pandas.core.frame.DataFrame'>\n",
      "Int64Index: 14072 entries, 0 to 14113\n",
      "Data columns (total 32 columns):\n",
      " #   Column                Non-Null Count  Dtype         \n",
      "---  ------                --------------  -----         \n",
      " 0   total_area            14072 non-null  Int64         \n",
      " 1   living_area           14072 non-null  float16       \n",
      " 2   living_ratio          14072 non-null  Int8          \n",
      " 3   kitchen_area          14072 non-null  float16       \n",
      " 4   kitchen_ratio         14072 non-null  Int8          \n",
      " 5   ceiling_height        9329 non-null   float16       \n",
      " 6   rooms                 14072 non-null  int64         \n",
      " 7   studio                14072 non-null  bool          \n",
      " 8   balcony               7414 non-null   Int8          \n",
      " 9   open_plan             14072 non-null  bool          \n",
      " 10  is_apartment          14072 non-null  bool          \n",
      " 11  floor                 14072 non-null  int64         \n",
      " 12  floors_total          14072 non-null  Int8          \n",
      " 13  floor_type            14072 non-null  object        \n",
      " 14  locality_name         14072 non-null  object        \n",
      " 15  city_center_nearest   14072 non-null  Int64         \n",
      " 16  parks_around3000      14072 non-null  Int8          \n",
      " 17  parks_nearest         6493 non-null   Int64         \n",
      " 18  ponds_around3000      14072 non-null  Int8          \n",
      " 19  ponds_nearest         7048 non-null   Int64         \n",
      " 20  airports_nearest      14052 non-null  Int64         \n",
      " 21  first_day_exposition  14072 non-null  object        \n",
      " 22  day1                  14072 non-null  datetime64[ns]\n",
      " 23  year                  14072 non-null  int64         \n",
      " 24  month                 14072 non-null  int64         \n",
      " 25  weekday               14072 non-null  int64         \n",
      " 26  days_exposition       12210 non-null  Int64         \n",
      " 27  total_images          14072 non-null  Int8          \n",
      " 28  last_price            14072 non-null  Int64         \n",
      " 29  m2_price              14072 non-null  Int64         \n",
      " 30  locality_name10       14072 non-null  object        \n",
      " 31  center_km             14072 non-null  Int64         \n",
      "dtypes: Int64(9), Int8(7), bool(3), datetime64[ns](1), float16(3), int64(5), object(4)\n",
      "memory usage: 2.6+ MB\n"
     ]
    }
   ],
   "source": [
    "center.dropna(subset=['center_km'], inplace=True)\n",
    "center.tail()\n",
    "center.info()"
   ]
  },
  {
   "cell_type": "code",
   "execution_count": 98,
   "metadata": {},
   "outputs": [
    {
     "data": {
      "text/plain": [
       "0    128006.0\n",
       "1    121739.0\n",
       "2    112024.0\n",
       "3    108981.0\n",
       "4    124669.0\n",
       "dtype: float64"
      ]
     },
     "execution_count": 98,
     "metadata": {},
     "output_type": "execute_result"
    },
    {
     "data": {
      "image/png": "[encoded data removed]",
      "text/plain": [
       "<Figure size 432x288 with 1 Axes>"
      ]
     },
     "metadata": {
      "needs_background": "light"
     },
     "output_type": "display_data"
    }
   ],
   "source": [
    "km_m2_price = []\n",
    "for km, slice in center.groupby('center_km'):\n",
    "    km_m2_price.append((slice['m2_price'].median()))\n",
    "\n",
    "km_m2_price_sr = pd.Series(km_m2_price)\n",
    "\n",
    "km_m2_price_sr.plot(kind='bar')\n",
    "km_m2_price_sr.head()"
   ]
  },
  {
   "cell_type": "markdown",
   "metadata": {},
   "source": [
    "Вследствие какой-то ошибки, которую не удалось преодолеть, не удалось построить pivot_table простыми средствами, и пришлось сделать многоступенчатыми средствами.\n",
    "\n",
    "По столбчатой диаграмме видно, что цена заметно спадает после 8-ого километра. Эту зону и будем считать центром.\n",
    "\n",
    "Есть неожиданный взлет на 20 и 27км. Вероятно, это из-за того, что в этих округленных километрах было всего одно значение, и оно дорогое, либо по каким-либо другим причинам.\n",
    "\n",
    "Так или иначе, но достаточной целью для нас было отсечь центр, а не построить корректную диаграмму. **Отсечем центр.**"
   ]
  },
  {
   "cell_type": "code",
   "execution_count": 99,
   "metadata": {},
   "outputs": [],
   "source": [
    "center = center.query('center_km <= 8')"
   ]
  },
  {
   "cell_type": "markdown",
   "metadata": {},
   "source": [
    "#### Изучение и анализ факторов"
   ]
  },
  {
   "cell_type": "markdown",
   "metadata": {},
   "source": [
    "Посмотрим на факторы цены для центра. Они могут работать как-то иначе, чем в случае с Ленинградским регионом в целом.\n",
    "\n",
    "Построим матрицу корреляции. Основная для нас строчка - предпоследняя `m2_price`. Заострим на ней внимание."
   ]
  },
  {
   "cell_type": "code",
   "execution_count": 100,
   "metadata": {},
   "outputs": [
    {
     "data": {
      "text/html": [
       "<div>\n",
       "<style scoped>\n",
       "    .dataframe tbody tr th:only-of-type {\n",
       "        vertical-align: middle;\n",
       "    }\n",
       "\n",
       "    .dataframe tbody tr th {\n",
       "        vertical-align: top;\n",
       "    }\n",
       "\n",
       "    .dataframe thead th {\n",
       "        text-align: right;\n",
       "    }\n",
       "</style>\n",
       "<table border=\"1\" class=\"dataframe\">\n",
       "  <thead>\n",
       "    <tr style=\"text-align: right;\">\n",
       "      <th></th>\n",
       "      <th>total_area</th>\n",
       "      <th>living_area</th>\n",
       "      <th>living_ratio</th>\n",
       "      <th>kitchen_area</th>\n",
       "      <th>kitchen_ratio</th>\n",
       "      <th>ceiling_height</th>\n",
       "      <th>rooms</th>\n",
       "      <th>studio</th>\n",
       "      <th>balcony</th>\n",
       "      <th>open_plan</th>\n",
       "      <th>is_apartment</th>\n",
       "      <th>floor</th>\n",
       "      <th>floors_total</th>\n",
       "      <th>city_center_nearest</th>\n",
       "      <th>parks_around3000</th>\n",
       "      <th>parks_nearest</th>\n",
       "      <th>ponds_around3000</th>\n",
       "      <th>ponds_nearest</th>\n",
       "      <th>airports_nearest</th>\n",
       "      <th>year</th>\n",
       "      <th>month</th>\n",
       "      <th>weekday</th>\n",
       "      <th>days_exposition</th>\n",
       "      <th>total_images</th>\n",
       "      <th>last_price</th>\n",
       "      <th>m2_price</th>\n",
       "      <th>center_km</th>\n",
       "    </tr>\n",
       "  </thead>\n",
       "  <tbody>\n",
       "    <tr>\n",
       "      <th>total_area</th>\n",
       "      <td>1.000000</td>\n",
       "      <td>0.931496</td>\n",
       "      <td>0.191146</td>\n",
       "      <td>0.515810</td>\n",
       "      <td>-0.338166</td>\n",
       "      <td>0.371584</td>\n",
       "      <td>0.799697</td>\n",
       "      <td>NaN</td>\n",
       "      <td>0.036165</td>\n",
       "      <td>NaN</td>\n",
       "      <td>-0.020365</td>\n",
       "      <td>0.071605</td>\n",
       "      <td>-0.016404</td>\n",
       "      <td>-0.208894</td>\n",
       "      <td>0.098839</td>\n",
       "      <td>-0.029985</td>\n",
       "      <td>0.053920</td>\n",
       "      <td>-0.053786</td>\n",
       "      <td>-0.031012</td>\n",
       "      <td>-0.084312</td>\n",
       "      <td>-0.006005</td>\n",
       "      <td>-0.017463</td>\n",
       "      <td>0.142906</td>\n",
       "      <td>0.079686</td>\n",
       "      <td>0.754428</td>\n",
       "      <td>0.054478</td>\n",
       "      <td>-0.211880</td>\n",
       "    </tr>\n",
       "    <tr>\n",
       "      <th>living_area</th>\n",
       "      <td>0.931496</td>\n",
       "      <td>1.000000</td>\n",
       "      <td>0.493114</td>\n",
       "      <td>0.308161</td>\n",
       "      <td>-0.495976</td>\n",
       "      <td>0.375026</td>\n",
       "      <td>0.855908</td>\n",
       "      <td>NaN</td>\n",
       "      <td>-0.029267</td>\n",
       "      <td>NaN</td>\n",
       "      <td>-0.016126</td>\n",
       "      <td>-0.017495</td>\n",
       "      <td>-0.128448</td>\n",
       "      <td>-0.227292</td>\n",
       "      <td>0.115469</td>\n",
       "      <td>-0.062249</td>\n",
       "      <td>0.037068</td>\n",
       "      <td>-0.041893</td>\n",
       "      <td>-0.066953</td>\n",
       "      <td>-0.072052</td>\n",
       "      <td>0.000275</td>\n",
       "      <td>-0.018725</td>\n",
       "      <td>0.129191</td>\n",
       "      <td>0.056184</td>\n",
       "      <td>0.639086</td>\n",
       "      <td>-0.046591</td>\n",
       "      <td>-0.231453</td>\n",
       "    </tr>\n",
       "    <tr>\n",
       "      <th>living_ratio</th>\n",
       "      <td>0.191146</td>\n",
       "      <td>0.493114</td>\n",
       "      <td>1.000000</td>\n",
       "      <td>-0.374822</td>\n",
       "      <td>-0.681988</td>\n",
       "      <td>0.114619</td>\n",
       "      <td>0.474256</td>\n",
       "      <td>NaN</td>\n",
       "      <td>-0.186936</td>\n",
       "      <td>NaN</td>\n",
       "      <td>0.000965</td>\n",
       "      <td>-0.216493</td>\n",
       "      <td>-0.349891</td>\n",
       "      <td>-0.108853</td>\n",
       "      <td>0.081074</td>\n",
       "      <td>-0.126401</td>\n",
       "      <td>-0.038679</td>\n",
       "      <td>0.000731</td>\n",
       "      <td>-0.105112</td>\n",
       "      <td>0.012629</td>\n",
       "      <td>0.012521</td>\n",
       "      <td>-0.010434</td>\n",
       "      <td>-0.004876</td>\n",
       "      <td>-0.021559</td>\n",
       "      <td>-0.004427</td>\n",
       "      <td>-0.267300</td>\n",
       "      <td>-0.113100</td>\n",
       "    </tr>\n",
       "    <tr>\n",
       "      <th>kitchen_area</th>\n",
       "      <td>0.515810</td>\n",
       "      <td>0.308161</td>\n",
       "      <td>-0.374822</td>\n",
       "      <td>1.000000</td>\n",
       "      <td>0.537171</td>\n",
       "      <td>0.196279</td>\n",
       "      <td>0.230949</td>\n",
       "      <td>NaN</td>\n",
       "      <td>0.137495</td>\n",
       "      <td>NaN</td>\n",
       "      <td>-0.003159</td>\n",
       "      <td>0.143922</td>\n",
       "      <td>0.137786</td>\n",
       "      <td>-0.103967</td>\n",
       "      <td>0.055614</td>\n",
       "      <td>0.018425</td>\n",
       "      <td>0.077314</td>\n",
       "      <td>-0.058625</td>\n",
       "      <td>0.036540</td>\n",
       "      <td>-0.041992</td>\n",
       "      <td>-0.031309</td>\n",
       "      <td>-0.006580</td>\n",
       "      <td>0.110525</td>\n",
       "      <td>0.125772</td>\n",
       "      <td>0.548683</td>\n",
       "      <td>0.289848</td>\n",
       "      <td>-0.102981</td>\n",
       "    </tr>\n",
       "    <tr>\n",
       "      <th>kitchen_ratio</th>\n",
       "      <td>-0.338166</td>\n",
       "      <td>-0.495976</td>\n",
       "      <td>-0.681988</td>\n",
       "      <td>0.537171</td>\n",
       "      <td>1.000000</td>\n",
       "      <td>-0.109507</td>\n",
       "      <td>-0.515106</td>\n",
       "      <td>NaN</td>\n",
       "      <td>0.131181</td>\n",
       "      <td>NaN</td>\n",
       "      <td>0.016746</td>\n",
       "      <td>0.108967</td>\n",
       "      <td>0.214949</td>\n",
       "      <td>0.073358</td>\n",
       "      <td>-0.033218</td>\n",
       "      <td>0.066635</td>\n",
       "      <td>0.034351</td>\n",
       "      <td>-0.004297</td>\n",
       "      <td>0.075084</td>\n",
       "      <td>0.023000</td>\n",
       "      <td>-0.025497</td>\n",
       "      <td>0.010022</td>\n",
       "      <td>-0.002029</td>\n",
       "      <td>0.042088</td>\n",
       "      <td>-0.107579</td>\n",
       "      <td>0.269476</td>\n",
       "      <td>0.076401</td>\n",
       "    </tr>\n",
       "    <tr>\n",
       "      <th>ceiling_height</th>\n",
       "      <td>0.371584</td>\n",
       "      <td>0.375026</td>\n",
       "      <td>0.114619</td>\n",
       "      <td>0.196279</td>\n",
       "      <td>-0.109507</td>\n",
       "      <td>1.000000</td>\n",
       "      <td>0.318635</td>\n",
       "      <td>NaN</td>\n",
       "      <td>-0.224924</td>\n",
       "      <td>NaN</td>\n",
       "      <td>-0.005145</td>\n",
       "      <td>-0.191898</td>\n",
       "      <td>-0.289161</td>\n",
       "      <td>-0.380702</td>\n",
       "      <td>0.178408</td>\n",
       "      <td>-0.077755</td>\n",
       "      <td>0.066624</td>\n",
       "      <td>-0.022707</td>\n",
       "      <td>-0.124293</td>\n",
       "      <td>-0.089550</td>\n",
       "      <td>-0.011435</td>\n",
       "      <td>-0.019389</td>\n",
       "      <td>0.112126</td>\n",
       "      <td>0.034161</td>\n",
       "      <td>0.271591</td>\n",
       "      <td>0.040421</td>\n",
       "      <td>-0.379260</td>\n",
       "    </tr>\n",
       "    <tr>\n",
       "      <th>rooms</th>\n",
       "      <td>0.799697</td>\n",
       "      <td>0.855908</td>\n",
       "      <td>0.474256</td>\n",
       "      <td>0.230949</td>\n",
       "      <td>-0.515106</td>\n",
       "      <td>0.318635</td>\n",
       "      <td>1.000000</td>\n",
       "      <td>NaN</td>\n",
       "      <td>-0.089115</td>\n",
       "      <td>NaN</td>\n",
       "      <td>-0.011867</td>\n",
       "      <td>-0.072319</td>\n",
       "      <td>-0.192552</td>\n",
       "      <td>-0.241614</td>\n",
       "      <td>0.093799</td>\n",
       "      <td>-0.068026</td>\n",
       "      <td>0.003442</td>\n",
       "      <td>-0.031777</td>\n",
       "      <td>-0.093545</td>\n",
       "      <td>-0.051919</td>\n",
       "      <td>-0.008073</td>\n",
       "      <td>-0.013395</td>\n",
       "      <td>0.121222</td>\n",
       "      <td>0.051694</td>\n",
       "      <td>0.483979</td>\n",
       "      <td>-0.157135</td>\n",
       "      <td>-0.244930</td>\n",
       "    </tr>\n",
       "    <tr>\n",
       "      <th>studio</th>\n",
       "      <td>NaN</td>\n",
       "      <td>NaN</td>\n",
       "      <td>NaN</td>\n",
       "      <td>NaN</td>\n",
       "      <td>NaN</td>\n",
       "      <td>NaN</td>\n",
       "      <td>NaN</td>\n",
       "      <td>NaN</td>\n",
       "      <td>NaN</td>\n",
       "      <td>NaN</td>\n",
       "      <td>NaN</td>\n",
       "      <td>NaN</td>\n",
       "      <td>NaN</td>\n",
       "      <td>NaN</td>\n",
       "      <td>NaN</td>\n",
       "      <td>NaN</td>\n",
       "      <td>NaN</td>\n",
       "      <td>NaN</td>\n",
       "      <td>NaN</td>\n",
       "      <td>NaN</td>\n",
       "      <td>NaN</td>\n",
       "      <td>NaN</td>\n",
       "      <td>NaN</td>\n",
       "      <td>NaN</td>\n",
       "      <td>NaN</td>\n",
       "      <td>NaN</td>\n",
       "      <td>NaN</td>\n",
       "    </tr>\n",
       "    <tr>\n",
       "      <th>balcony</th>\n",
       "      <td>0.036165</td>\n",
       "      <td>-0.029267</td>\n",
       "      <td>-0.186936</td>\n",
       "      <td>0.137495</td>\n",
       "      <td>0.131181</td>\n",
       "      <td>-0.224924</td>\n",
       "      <td>-0.089115</td>\n",
       "      <td>NaN</td>\n",
       "      <td>1.000000</td>\n",
       "      <td>NaN</td>\n",
       "      <td>0.016085</td>\n",
       "      <td>0.327454</td>\n",
       "      <td>0.384679</td>\n",
       "      <td>0.225442</td>\n",
       "      <td>-0.138647</td>\n",
       "      <td>0.138589</td>\n",
       "      <td>0.033746</td>\n",
       "      <td>0.011107</td>\n",
       "      <td>0.123610</td>\n",
       "      <td>0.314480</td>\n",
       "      <td>0.116847</td>\n",
       "      <td>0.045926</td>\n",
       "      <td>-0.008864</td>\n",
       "      <td>0.091538</td>\n",
       "      <td>0.175979</td>\n",
       "      <td>0.261447</td>\n",
       "      <td>0.223826</td>\n",
       "    </tr>\n",
       "    <tr>\n",
       "      <th>open_plan</th>\n",
       "      <td>NaN</td>\n",
       "      <td>NaN</td>\n",
       "      <td>NaN</td>\n",
       "      <td>NaN</td>\n",
       "      <td>NaN</td>\n",
       "      <td>NaN</td>\n",
       "      <td>NaN</td>\n",
       "      <td>NaN</td>\n",
       "      <td>NaN</td>\n",
       "      <td>NaN</td>\n",
       "      <td>NaN</td>\n",
       "      <td>NaN</td>\n",
       "      <td>NaN</td>\n",
       "      <td>NaN</td>\n",
       "      <td>NaN</td>\n",
       "      <td>NaN</td>\n",
       "      <td>NaN</td>\n",
       "      <td>NaN</td>\n",
       "      <td>NaN</td>\n",
       "      <td>NaN</td>\n",
       "      <td>NaN</td>\n",
       "      <td>NaN</td>\n",
       "      <td>NaN</td>\n",
       "      <td>NaN</td>\n",
       "      <td>NaN</td>\n",
       "      <td>NaN</td>\n",
       "      <td>NaN</td>\n",
       "    </tr>\n",
       "    <tr>\n",
       "      <th>is_apartment</th>\n",
       "      <td>-0.020365</td>\n",
       "      <td>-0.016126</td>\n",
       "      <td>0.000965</td>\n",
       "      <td>-0.003159</td>\n",
       "      <td>0.016746</td>\n",
       "      <td>-0.005145</td>\n",
       "      <td>-0.011867</td>\n",
       "      <td>NaN</td>\n",
       "      <td>0.016085</td>\n",
       "      <td>NaN</td>\n",
       "      <td>1.000000</td>\n",
       "      <td>-0.024264</td>\n",
       "      <td>-0.015026</td>\n",
       "      <td>0.025898</td>\n",
       "      <td>0.023637</td>\n",
       "      <td>-0.038972</td>\n",
       "      <td>-0.006107</td>\n",
       "      <td>0.034853</td>\n",
       "      <td>0.038703</td>\n",
       "      <td>0.203893</td>\n",
       "      <td>0.120371</td>\n",
       "      <td>0.016305</td>\n",
       "      <td>-0.072750</td>\n",
       "      <td>0.095959</td>\n",
       "      <td>0.008480</td>\n",
       "      <td>0.035191</td>\n",
       "      <td>0.023291</td>\n",
       "    </tr>\n",
       "    <tr>\n",
       "      <th>floor</th>\n",
       "      <td>0.071605</td>\n",
       "      <td>-0.017495</td>\n",
       "      <td>-0.216493</td>\n",
       "      <td>0.143922</td>\n",
       "      <td>0.108967</td>\n",
       "      <td>-0.191898</td>\n",
       "      <td>-0.072319</td>\n",
       "      <td>NaN</td>\n",
       "      <td>0.327454</td>\n",
       "      <td>NaN</td>\n",
       "      <td>-0.024264</td>\n",
       "      <td>1.000000</td>\n",
       "      <td>0.673372</td>\n",
       "      <td>0.252864</td>\n",
       "      <td>-0.145734</td>\n",
       "      <td>0.061286</td>\n",
       "      <td>-0.022921</td>\n",
       "      <td>0.004989</td>\n",
       "      <td>0.124333</td>\n",
       "      <td>-0.024103</td>\n",
       "      <td>0.012754</td>\n",
       "      <td>0.024844</td>\n",
       "      <td>-0.003851</td>\n",
       "      <td>-0.004761</td>\n",
       "      <td>0.157930</td>\n",
       "      <td>0.185073</td>\n",
       "      <td>0.254132</td>\n",
       "    </tr>\n",
       "    <tr>\n",
       "      <th>floors_total</th>\n",
       "      <td>-0.016404</td>\n",
       "      <td>-0.128448</td>\n",
       "      <td>-0.349891</td>\n",
       "      <td>0.137786</td>\n",
       "      <td>0.214949</td>\n",
       "      <td>-0.289161</td>\n",
       "      <td>-0.192552</td>\n",
       "      <td>NaN</td>\n",
       "      <td>0.384679</td>\n",
       "      <td>NaN</td>\n",
       "      <td>-0.015026</td>\n",
       "      <td>0.673372</td>\n",
       "      <td>1.000000</td>\n",
       "      <td>0.395352</td>\n",
       "      <td>-0.215489</td>\n",
       "      <td>0.079521</td>\n",
       "      <td>-0.001982</td>\n",
       "      <td>0.016278</td>\n",
       "      <td>0.214636</td>\n",
       "      <td>-0.041762</td>\n",
       "      <td>0.021884</td>\n",
       "      <td>0.030397</td>\n",
       "      <td>0.003670</td>\n",
       "      <td>-0.055890</td>\n",
       "      <td>0.103114</td>\n",
       "      <td>0.207643</td>\n",
       "      <td>0.395898</td>\n",
       "    </tr>\n",
       "    <tr>\n",
       "      <th>city_center_nearest</th>\n",
       "      <td>-0.208894</td>\n",
       "      <td>-0.227292</td>\n",
       "      <td>-0.108853</td>\n",
       "      <td>-0.103967</td>\n",
       "      <td>0.073358</td>\n",
       "      <td>-0.380702</td>\n",
       "      <td>-0.241614</td>\n",
       "      <td>NaN</td>\n",
       "      <td>0.225442</td>\n",
       "      <td>NaN</td>\n",
       "      <td>0.025898</td>\n",
       "      <td>0.252864</td>\n",
       "      <td>0.395352</td>\n",
       "      <td>1.000000</td>\n",
       "      <td>-0.203194</td>\n",
       "      <td>0.093323</td>\n",
       "      <td>-0.239656</td>\n",
       "      <td>0.194094</td>\n",
       "      <td>0.349264</td>\n",
       "      <td>0.055715</td>\n",
       "      <td>0.008477</td>\n",
       "      <td>0.015323</td>\n",
       "      <td>-0.077944</td>\n",
       "      <td>-0.038750</td>\n",
       "      <td>-0.128082</td>\n",
       "      <td>-0.019081</td>\n",
       "      <td>0.990627</td>\n",
       "    </tr>\n",
       "    <tr>\n",
       "      <th>parks_around3000</th>\n",
       "      <td>0.098839</td>\n",
       "      <td>0.115469</td>\n",
       "      <td>0.081074</td>\n",
       "      <td>0.055614</td>\n",
       "      <td>-0.033218</td>\n",
       "      <td>0.178408</td>\n",
       "      <td>0.093799</td>\n",
       "      <td>NaN</td>\n",
       "      <td>-0.138647</td>\n",
       "      <td>NaN</td>\n",
       "      <td>0.023637</td>\n",
       "      <td>-0.145734</td>\n",
       "      <td>-0.215489</td>\n",
       "      <td>-0.203194</td>\n",
       "      <td>1.000000</td>\n",
       "      <td>-0.253453</td>\n",
       "      <td>0.154936</td>\n",
       "      <td>-0.146129</td>\n",
       "      <td>0.003225</td>\n",
       "      <td>-0.018500</td>\n",
       "      <td>-0.010130</td>\n",
       "      <td>-0.016234</td>\n",
       "      <td>0.032852</td>\n",
       "      <td>0.043170</td>\n",
       "      <td>0.118093</td>\n",
       "      <td>0.075643</td>\n",
       "      <td>-0.202697</td>\n",
       "    </tr>\n",
       "    <tr>\n",
       "      <th>parks_nearest</th>\n",
       "      <td>-0.029985</td>\n",
       "      <td>-0.062249</td>\n",
       "      <td>-0.126401</td>\n",
       "      <td>0.018425</td>\n",
       "      <td>0.066635</td>\n",
       "      <td>-0.077755</td>\n",
       "      <td>-0.068026</td>\n",
       "      <td>NaN</td>\n",
       "      <td>0.138589</td>\n",
       "      <td>NaN</td>\n",
       "      <td>-0.038972</td>\n",
       "      <td>0.061286</td>\n",
       "      <td>0.079521</td>\n",
       "      <td>0.093323</td>\n",
       "      <td>-0.253453</td>\n",
       "      <td>1.000000</td>\n",
       "      <td>0.051583</td>\n",
       "      <td>0.056972</td>\n",
       "      <td>0.018807</td>\n",
       "      <td>-0.043224</td>\n",
       "      <td>0.059548</td>\n",
       "      <td>-0.002119</td>\n",
       "      <td>0.031035</td>\n",
       "      <td>-0.033753</td>\n",
       "      <td>-0.017614</td>\n",
       "      <td>0.028815</td>\n",
       "      <td>0.090633</td>\n",
       "    </tr>\n",
       "    <tr>\n",
       "      <th>ponds_around3000</th>\n",
       "      <td>0.053920</td>\n",
       "      <td>0.037068</td>\n",
       "      <td>-0.038679</td>\n",
       "      <td>0.077314</td>\n",
       "      <td>0.034351</td>\n",
       "      <td>0.066624</td>\n",
       "      <td>0.003442</td>\n",
       "      <td>NaN</td>\n",
       "      <td>0.033746</td>\n",
       "      <td>NaN</td>\n",
       "      <td>-0.006107</td>\n",
       "      <td>-0.022921</td>\n",
       "      <td>-0.001982</td>\n",
       "      <td>-0.239656</td>\n",
       "      <td>0.154936</td>\n",
       "      <td>0.051583</td>\n",
       "      <td>1.000000</td>\n",
       "      <td>-0.351504</td>\n",
       "      <td>0.055088</td>\n",
       "      <td>-0.035455</td>\n",
       "      <td>-0.014287</td>\n",
       "      <td>0.033692</td>\n",
       "      <td>0.030577</td>\n",
       "      <td>-0.022080</td>\n",
       "      <td>0.110178</td>\n",
       "      <td>0.128392</td>\n",
       "      <td>-0.237664</td>\n",
       "    </tr>\n",
       "    <tr>\n",
       "      <th>ponds_nearest</th>\n",
       "      <td>-0.053786</td>\n",
       "      <td>-0.041893</td>\n",
       "      <td>0.000731</td>\n",
       "      <td>-0.058625</td>\n",
       "      <td>-0.004297</td>\n",
       "      <td>-0.022707</td>\n",
       "      <td>-0.031777</td>\n",
       "      <td>NaN</td>\n",
       "      <td>0.011107</td>\n",
       "      <td>NaN</td>\n",
       "      <td>0.034853</td>\n",
       "      <td>0.004989</td>\n",
       "      <td>0.016278</td>\n",
       "      <td>0.194094</td>\n",
       "      <td>-0.146129</td>\n",
       "      <td>0.056972</td>\n",
       "      <td>-0.351504</td>\n",
       "      <td>1.000000</td>\n",
       "      <td>-0.039471</td>\n",
       "      <td>0.013501</td>\n",
       "      <td>0.039483</td>\n",
       "      <td>-0.016669</td>\n",
       "      <td>-0.045281</td>\n",
       "      <td>0.009314</td>\n",
       "      <td>-0.067357</td>\n",
       "      <td>-0.039194</td>\n",
       "      <td>0.190062</td>\n",
       "    </tr>\n",
       "    <tr>\n",
       "      <th>airports_nearest</th>\n",
       "      <td>-0.031012</td>\n",
       "      <td>-0.066953</td>\n",
       "      <td>-0.105112</td>\n",
       "      <td>0.036540</td>\n",
       "      <td>0.075084</td>\n",
       "      <td>-0.124293</td>\n",
       "      <td>-0.093545</td>\n",
       "      <td>NaN</td>\n",
       "      <td>0.123610</td>\n",
       "      <td>NaN</td>\n",
       "      <td>0.038703</td>\n",
       "      <td>0.124333</td>\n",
       "      <td>0.214636</td>\n",
       "      <td>0.349264</td>\n",
       "      <td>0.003225</td>\n",
       "      <td>0.018807</td>\n",
       "      <td>0.055088</td>\n",
       "      <td>-0.039471</td>\n",
       "      <td>1.000000</td>\n",
       "      <td>0.033190</td>\n",
       "      <td>-0.021918</td>\n",
       "      <td>-0.028490</td>\n",
       "      <td>-0.006834</td>\n",
       "      <td>-0.042541</td>\n",
       "      <td>0.045005</td>\n",
       "      <td>0.082654</td>\n",
       "      <td>0.350307</td>\n",
       "    </tr>\n",
       "    <tr>\n",
       "      <th>year</th>\n",
       "      <td>-0.084312</td>\n",
       "      <td>-0.072052</td>\n",
       "      <td>0.012629</td>\n",
       "      <td>-0.041992</td>\n",
       "      <td>0.023000</td>\n",
       "      <td>-0.089550</td>\n",
       "      <td>-0.051919</td>\n",
       "      <td>NaN</td>\n",
       "      <td>0.314480</td>\n",
       "      <td>NaN</td>\n",
       "      <td>0.203893</td>\n",
       "      <td>-0.024103</td>\n",
       "      <td>-0.041762</td>\n",
       "      <td>0.055715</td>\n",
       "      <td>-0.018500</td>\n",
       "      <td>-0.043224</td>\n",
       "      <td>-0.035455</td>\n",
       "      <td>0.013501</td>\n",
       "      <td>0.033190</td>\n",
       "      <td>1.000000</td>\n",
       "      <td>-0.232471</td>\n",
       "      <td>-0.006570</td>\n",
       "      <td>-0.650575</td>\n",
       "      <td>0.164307</td>\n",
       "      <td>-0.036697</td>\n",
       "      <td>0.048715</td>\n",
       "      <td>0.052721</td>\n",
       "    </tr>\n",
       "    <tr>\n",
       "      <th>month</th>\n",
       "      <td>-0.006005</td>\n",
       "      <td>0.000275</td>\n",
       "      <td>0.012521</td>\n",
       "      <td>-0.031309</td>\n",
       "      <td>-0.025497</td>\n",
       "      <td>-0.011435</td>\n",
       "      <td>-0.008073</td>\n",
       "      <td>NaN</td>\n",
       "      <td>0.116847</td>\n",
       "      <td>NaN</td>\n",
       "      <td>0.120371</td>\n",
       "      <td>0.012754</td>\n",
       "      <td>0.021884</td>\n",
       "      <td>0.008477</td>\n",
       "      <td>-0.010130</td>\n",
       "      <td>0.059548</td>\n",
       "      <td>-0.014287</td>\n",
       "      <td>0.039483</td>\n",
       "      <td>-0.021918</td>\n",
       "      <td>-0.232471</td>\n",
       "      <td>1.000000</td>\n",
       "      <td>0.041556</td>\n",
       "      <td>-0.049909</td>\n",
       "      <td>-0.003340</td>\n",
       "      <td>-0.011802</td>\n",
       "      <td>-0.025485</td>\n",
       "      <td>0.009196</td>\n",
       "    </tr>\n",
       "    <tr>\n",
       "      <th>weekday</th>\n",
       "      <td>-0.017463</td>\n",
       "      <td>-0.018725</td>\n",
       "      <td>-0.010434</td>\n",
       "      <td>-0.006580</td>\n",
       "      <td>0.010022</td>\n",
       "      <td>-0.019389</td>\n",
       "      <td>-0.013395</td>\n",
       "      <td>NaN</td>\n",
       "      <td>0.045926</td>\n",
       "      <td>NaN</td>\n",
       "      <td>0.016305</td>\n",
       "      <td>0.024844</td>\n",
       "      <td>0.030397</td>\n",
       "      <td>0.015323</td>\n",
       "      <td>-0.016234</td>\n",
       "      <td>-0.002119</td>\n",
       "      <td>0.033692</td>\n",
       "      <td>-0.016669</td>\n",
       "      <td>-0.028490</td>\n",
       "      <td>-0.006570</td>\n",
       "      <td>0.041556</td>\n",
       "      <td>1.000000</td>\n",
       "      <td>-0.036328</td>\n",
       "      <td>-0.003864</td>\n",
       "      <td>-0.026994</td>\n",
       "      <td>-0.014066</td>\n",
       "      <td>0.015250</td>\n",
       "    </tr>\n",
       "    <tr>\n",
       "      <th>days_exposition</th>\n",
       "      <td>0.142906</td>\n",
       "      <td>0.129191</td>\n",
       "      <td>-0.004876</td>\n",
       "      <td>0.110525</td>\n",
       "      <td>-0.002029</td>\n",
       "      <td>0.112126</td>\n",
       "      <td>0.121222</td>\n",
       "      <td>NaN</td>\n",
       "      <td>-0.008864</td>\n",
       "      <td>NaN</td>\n",
       "      <td>-0.072750</td>\n",
       "      <td>-0.003851</td>\n",
       "      <td>0.003670</td>\n",
       "      <td>-0.077944</td>\n",
       "      <td>0.032852</td>\n",
       "      <td>0.031035</td>\n",
       "      <td>0.030577</td>\n",
       "      <td>-0.045281</td>\n",
       "      <td>-0.006834</td>\n",
       "      <td>-0.650575</td>\n",
       "      <td>-0.049909</td>\n",
       "      <td>-0.036328</td>\n",
       "      <td>1.000000</td>\n",
       "      <td>-0.061723</td>\n",
       "      <td>0.110689</td>\n",
       "      <td>0.027430</td>\n",
       "      <td>-0.075369</td>\n",
       "    </tr>\n",
       "    <tr>\n",
       "      <th>total_images</th>\n",
       "      <td>0.079686</td>\n",
       "      <td>0.056184</td>\n",
       "      <td>-0.021559</td>\n",
       "      <td>0.125772</td>\n",
       "      <td>0.042088</td>\n",
       "      <td>0.034161</td>\n",
       "      <td>0.051694</td>\n",
       "      <td>NaN</td>\n",
       "      <td>0.091538</td>\n",
       "      <td>NaN</td>\n",
       "      <td>0.095959</td>\n",
       "      <td>-0.004761</td>\n",
       "      <td>-0.055890</td>\n",
       "      <td>-0.038750</td>\n",
       "      <td>0.043170</td>\n",
       "      <td>-0.033753</td>\n",
       "      <td>-0.022080</td>\n",
       "      <td>0.009314</td>\n",
       "      <td>-0.042541</td>\n",
       "      <td>0.164307</td>\n",
       "      <td>-0.003340</td>\n",
       "      <td>-0.003864</td>\n",
       "      <td>-0.061723</td>\n",
       "      <td>1.000000</td>\n",
       "      <td>0.158344</td>\n",
       "      <td>0.164923</td>\n",
       "      <td>-0.038697</td>\n",
       "    </tr>\n",
       "    <tr>\n",
       "      <th>last_price</th>\n",
       "      <td>0.754428</td>\n",
       "      <td>0.639086</td>\n",
       "      <td>-0.004427</td>\n",
       "      <td>0.548683</td>\n",
       "      <td>-0.107579</td>\n",
       "      <td>0.271591</td>\n",
       "      <td>0.483979</td>\n",
       "      <td>NaN</td>\n",
       "      <td>0.175979</td>\n",
       "      <td>NaN</td>\n",
       "      <td>0.008480</td>\n",
       "      <td>0.157930</td>\n",
       "      <td>0.103114</td>\n",
       "      <td>-0.128082</td>\n",
       "      <td>0.118093</td>\n",
       "      <td>-0.017614</td>\n",
       "      <td>0.110178</td>\n",
       "      <td>-0.067357</td>\n",
       "      <td>0.045005</td>\n",
       "      <td>-0.036697</td>\n",
       "      <td>-0.011802</td>\n",
       "      <td>-0.026994</td>\n",
       "      <td>0.110689</td>\n",
       "      <td>0.158344</td>\n",
       "      <td>1.000000</td>\n",
       "      <td>0.646850</td>\n",
       "      <td>-0.133263</td>\n",
       "    </tr>\n",
       "    <tr>\n",
       "      <th>m2_price</th>\n",
       "      <td>0.054478</td>\n",
       "      <td>-0.046591</td>\n",
       "      <td>-0.267300</td>\n",
       "      <td>0.289848</td>\n",
       "      <td>0.269476</td>\n",
       "      <td>0.040421</td>\n",
       "      <td>-0.157135</td>\n",
       "      <td>NaN</td>\n",
       "      <td>0.261447</td>\n",
       "      <td>NaN</td>\n",
       "      <td>0.035191</td>\n",
       "      <td>0.185073</td>\n",
       "      <td>0.207643</td>\n",
       "      <td>-0.019081</td>\n",
       "      <td>0.075643</td>\n",
       "      <td>0.028815</td>\n",
       "      <td>0.128392</td>\n",
       "      <td>-0.039194</td>\n",
       "      <td>0.082654</td>\n",
       "      <td>0.048715</td>\n",
       "      <td>-0.025485</td>\n",
       "      <td>-0.014066</td>\n",
       "      <td>0.027430</td>\n",
       "      <td>0.164923</td>\n",
       "      <td>0.646850</td>\n",
       "      <td>1.000000</td>\n",
       "      <td>-0.021983</td>\n",
       "    </tr>\n",
       "    <tr>\n",
       "      <th>center_km</th>\n",
       "      <td>-0.211880</td>\n",
       "      <td>-0.231453</td>\n",
       "      <td>-0.113100</td>\n",
       "      <td>-0.102981</td>\n",
       "      <td>0.076401</td>\n",
       "      <td>-0.379260</td>\n",
       "      <td>-0.244930</td>\n",
       "      <td>NaN</td>\n",
       "      <td>0.223826</td>\n",
       "      <td>NaN</td>\n",
       "      <td>0.023291</td>\n",
       "      <td>0.254132</td>\n",
       "      <td>0.395898</td>\n",
       "      <td>0.990627</td>\n",
       "      <td>-0.202697</td>\n",
       "      <td>0.090633</td>\n",
       "      <td>-0.237664</td>\n",
       "      <td>0.190062</td>\n",
       "      <td>0.350307</td>\n",
       "      <td>0.052721</td>\n",
       "      <td>0.009196</td>\n",
       "      <td>0.015250</td>\n",
       "      <td>-0.075369</td>\n",
       "      <td>-0.038697</td>\n",
       "      <td>-0.133263</td>\n",
       "      <td>-0.021983</td>\n",
       "      <td>1.000000</td>\n",
       "    </tr>\n",
       "  </tbody>\n",
       "</table>\n",
       "</div>"
      ],
      "text/plain": [
       "                     total_area  living_area  living_ratio  kitchen_area  \\\n",
       "total_area             1.000000     0.931496      0.191146      0.515810   \n",
       "living_area            0.931496     1.000000      0.493114      0.308161   \n",
       "living_ratio           0.191146     0.493114      1.000000     -0.374822   \n",
       "kitchen_area           0.515810     0.308161     -0.374822      1.000000   \n",
       "kitchen_ratio         -0.338166    -0.495976     -0.681988      0.537171   \n",
       "ceiling_height         0.371584     0.375026      0.114619      0.196279   \n",
       "rooms                  0.799697     0.855908      0.474256      0.230949   \n",
       "studio                      NaN          NaN           NaN           NaN   \n",
       "balcony                0.036165    -0.029267     -0.186936      0.137495   \n",
       "open_plan                   NaN          NaN           NaN           NaN   \n",
       "is_apartment          -0.020365    -0.016126      0.000965     -0.003159   \n",
       "floor                  0.071605    -0.017495     -0.216493      0.143922   \n",
       "floors_total          -0.016404    -0.128448     -0.349891      0.137786   \n",
       "city_center_nearest   -0.208894    -0.227292     -0.108853     -0.103967   \n",
       "parks_around3000       0.098839     0.115469      0.081074      0.055614   \n",
       "parks_nearest         -0.029985    -0.062249     -0.126401      0.018425   \n",
       "ponds_around3000       0.053920     0.037068     -0.038679      0.077314   \n",
       "ponds_nearest         -0.053786    -0.041893      0.000731     -0.058625   \n",
       "airports_nearest      -0.031012    -0.066953     -0.105112      0.036540   \n",
       "year                  -0.084312    -0.072052      0.012629     -0.041992   \n",
       "month                 -0.006005     0.000275      0.012521     -0.031309   \n",
       "weekday               -0.017463    -0.018725     -0.010434     -0.006580   \n",
       "days_exposition        0.142906     0.129191     -0.004876      0.110525   \n",
       "total_images           0.079686     0.056184     -0.021559      0.125772   \n",
       "last_price             0.754428     0.639086     -0.004427      0.548683   \n",
       "m2_price               0.054478    -0.046591     -0.267300      0.289848   \n",
       "center_km             -0.211880    -0.231453     -0.113100     -0.102981   \n",
       "\n",
       "                     kitchen_ratio  ceiling_height     rooms  studio  \\\n",
       "total_area               -0.338166        0.371584  0.799697     NaN   \n",
       "living_area              -0.495976        0.375026  0.855908     NaN   \n",
       "living_ratio             -0.681988        0.114619  0.474256     NaN   \n",
       "kitchen_area              0.537171        0.196279  0.230949     NaN   \n",
       "kitchen_ratio             1.000000       -0.109507 -0.515106     NaN   \n",
       "ceiling_height           -0.109507        1.000000  0.318635     NaN   \n",
       "rooms                    -0.515106        0.318635  1.000000     NaN   \n",
       "studio                         NaN             NaN       NaN     NaN   \n",
       "balcony                   0.131181       -0.224924 -0.089115     NaN   \n",
       "open_plan                      NaN             NaN       NaN     NaN   \n",
       "is_apartment              0.016746       -0.005145 -0.011867     NaN   \n",
       "floor                     0.108967       -0.191898 -0.072319     NaN   \n",
       "floors_total              0.214949       -0.289161 -0.192552     NaN   \n",
       "city_center_nearest       0.073358       -0.380702 -0.241614     NaN   \n",
       "parks_around3000         -0.033218        0.178408  0.093799     NaN   \n",
       "parks_nearest             0.066635       -0.077755 -0.068026     NaN   \n",
       "ponds_around3000          0.034351        0.066624  0.003442     NaN   \n",
       "ponds_nearest            -0.004297       -0.022707 -0.031777     NaN   \n",
       "airports_nearest          0.075084       -0.124293 -0.093545     NaN   \n",
       "year                      0.023000       -0.089550 -0.051919     NaN   \n",
       "month                    -0.025497       -0.011435 -0.008073     NaN   \n",
       "weekday                   0.010022       -0.019389 -0.013395     NaN   \n",
       "days_exposition          -0.002029        0.112126  0.121222     NaN   \n",
       "total_images              0.042088        0.034161  0.051694     NaN   \n",
       "last_price               -0.107579        0.271591  0.483979     NaN   \n",
       "m2_price                  0.269476        0.040421 -0.157135     NaN   \n",
       "center_km                 0.076401       -0.379260 -0.244930     NaN   \n",
       "\n",
       "                      balcony  open_plan  is_apartment     floor  \\\n",
       "total_area           0.036165        NaN     -0.020365  0.071605   \n",
       "living_area         -0.029267        NaN     -0.016126 -0.017495   \n",
       "living_ratio        -0.186936        NaN      0.000965 -0.216493   \n",
       "kitchen_area         0.137495        NaN     -0.003159  0.143922   \n",
       "kitchen_ratio        0.131181        NaN      0.016746  0.108967   \n",
       "ceiling_height      -0.224924        NaN     -0.005145 -0.191898   \n",
       "rooms               -0.089115        NaN     -0.011867 -0.072319   \n",
       "studio                    NaN        NaN           NaN       NaN   \n",
       "balcony              1.000000        NaN      0.016085  0.327454   \n",
       "open_plan                 NaN        NaN           NaN       NaN   \n",
       "is_apartment         0.016085        NaN      1.000000 -0.024264   \n",
       "floor                0.327454        NaN     -0.024264  1.000000   \n",
       "floors_total         0.384679        NaN     -0.015026  0.673372   \n",
       "city_center_nearest  0.225442        NaN      0.025898  0.252864   \n",
       "parks_around3000    -0.138647        NaN      0.023637 -0.145734   \n",
       "parks_nearest        0.138589        NaN     -0.038972  0.061286   \n",
       "ponds_around3000     0.033746        NaN     -0.006107 -0.022921   \n",
       "ponds_nearest        0.011107        NaN      0.034853  0.004989   \n",
       "airports_nearest     0.123610        NaN      0.038703  0.124333   \n",
       "year                 0.314480        NaN      0.203893 -0.024103   \n",
       "month                0.116847        NaN      0.120371  0.012754   \n",
       "weekday              0.045926        NaN      0.016305  0.024844   \n",
       "days_exposition     -0.008864        NaN     -0.072750 -0.003851   \n",
       "total_images         0.091538        NaN      0.095959 -0.004761   \n",
       "last_price           0.175979        NaN      0.008480  0.157930   \n",
       "m2_price             0.261447        NaN      0.035191  0.185073   \n",
       "center_km            0.223826        NaN      0.023291  0.254132   \n",
       "\n",
       "                     floors_total  city_center_nearest  parks_around3000  \\\n",
       "total_area              -0.016404            -0.208894          0.098839   \n",
       "living_area             -0.128448            -0.227292          0.115469   \n",
       "living_ratio            -0.349891            -0.108853          0.081074   \n",
       "kitchen_area             0.137786            -0.103967          0.055614   \n",
       "kitchen_ratio            0.214949             0.073358         -0.033218   \n",
       "ceiling_height          -0.289161            -0.380702          0.178408   \n",
       "rooms                   -0.192552            -0.241614          0.093799   \n",
       "studio                        NaN                  NaN               NaN   \n",
       "balcony                  0.384679             0.225442         -0.138647   \n",
       "open_plan                     NaN                  NaN               NaN   \n",
       "is_apartment            -0.015026             0.025898          0.023637   \n",
       "floor                    0.673372             0.252864         -0.145734   \n",
       "floors_total             1.000000             0.395352         -0.215489   \n",
       "city_center_nearest      0.395352             1.000000         -0.203194   \n",
       "parks_around3000        -0.215489            -0.203194          1.000000   \n",
       "parks_nearest            0.079521             0.093323         -0.253453   \n",
       "ponds_around3000        -0.001982            -0.239656          0.154936   \n",
       "ponds_nearest            0.016278             0.194094         -0.146129   \n",
       "airports_nearest         0.214636             0.349264          0.003225   \n",
       "year                    -0.041762             0.055715         -0.018500   \n",
       "month                    0.021884             0.008477         -0.010130   \n",
       "weekday                  0.030397             0.015323         -0.016234   \n",
       "days_exposition          0.003670            -0.077944          0.032852   \n",
       "total_images            -0.055890            -0.038750          0.043170   \n",
       "last_price               0.103114            -0.128082          0.118093   \n",
       "m2_price                 0.207643            -0.019081          0.075643   \n",
       "center_km                0.395898             0.990627         -0.202697   \n",
       "\n",
       "                     parks_nearest  ponds_around3000  ponds_nearest  \\\n",
       "total_area               -0.029985          0.053920      -0.053786   \n",
       "living_area              -0.062249          0.037068      -0.041893   \n",
       "living_ratio             -0.126401         -0.038679       0.000731   \n",
       "kitchen_area              0.018425          0.077314      -0.058625   \n",
       "kitchen_ratio             0.066635          0.034351      -0.004297   \n",
       "ceiling_height           -0.077755          0.066624      -0.022707   \n",
       "rooms                    -0.068026          0.003442      -0.031777   \n",
       "studio                         NaN               NaN            NaN   \n",
       "balcony                   0.138589          0.033746       0.011107   \n",
       "open_plan                      NaN               NaN            NaN   \n",
       "is_apartment             -0.038972         -0.006107       0.034853   \n",
       "floor                     0.061286         -0.022921       0.004989   \n",
       "floors_total              0.079521         -0.001982       0.016278   \n",
       "city_center_nearest       0.093323         -0.239656       0.194094   \n",
       "parks_around3000         -0.253453          0.154936      -0.146129   \n",
       "parks_nearest             1.000000          0.051583       0.056972   \n",
       "ponds_around3000          0.051583          1.000000      -0.351504   \n",
       "ponds_nearest             0.056972         -0.351504       1.000000   \n",
       "airports_nearest          0.018807          0.055088      -0.039471   \n",
       "year                     -0.043224         -0.035455       0.013501   \n",
       "month                     0.059548         -0.014287       0.039483   \n",
       "weekday                  -0.002119          0.033692      -0.016669   \n",
       "days_exposition           0.031035          0.030577      -0.045281   \n",
       "total_images             -0.033753         -0.022080       0.009314   \n",
       "last_price               -0.017614          0.110178      -0.067357   \n",
       "m2_price                  0.028815          0.128392      -0.039194   \n",
       "center_km                 0.090633         -0.237664       0.190062   \n",
       "\n",
       "                     airports_nearest      year     month   weekday  \\\n",
       "total_area                  -0.031012 -0.084312 -0.006005 -0.017463   \n",
       "living_area                 -0.066953 -0.072052  0.000275 -0.018725   \n",
       "living_ratio                -0.105112  0.012629  0.012521 -0.010434   \n",
       "kitchen_area                 0.036540 -0.041992 -0.031309 -0.006580   \n",
       "kitchen_ratio                0.075084  0.023000 -0.025497  0.010022   \n",
       "ceiling_height              -0.124293 -0.089550 -0.011435 -0.019389   \n",
       "rooms                       -0.093545 -0.051919 -0.008073 -0.013395   \n",
       "studio                            NaN       NaN       NaN       NaN   \n",
       "balcony                      0.123610  0.314480  0.116847  0.045926   \n",
       "open_plan                         NaN       NaN       NaN       NaN   \n",
       "is_apartment                 0.038703  0.203893  0.120371  0.016305   \n",
       "floor                        0.124333 -0.024103  0.012754  0.024844   \n",
       "floors_total                 0.214636 -0.041762  0.021884  0.030397   \n",
       "city_center_nearest          0.349264  0.055715  0.008477  0.015323   \n",
       "parks_around3000             0.003225 -0.018500 -0.010130 -0.016234   \n",
       "parks_nearest                0.018807 -0.043224  0.059548 -0.002119   \n",
       "ponds_around3000             0.055088 -0.035455 -0.014287  0.033692   \n",
       "ponds_nearest               -0.039471  0.013501  0.039483 -0.016669   \n",
       "airports_nearest             1.000000  0.033190 -0.021918 -0.028490   \n",
       "year                         0.033190  1.000000 -0.232471 -0.006570   \n",
       "month                       -0.021918 -0.232471  1.000000  0.041556   \n",
       "weekday                     -0.028490 -0.006570  0.041556  1.000000   \n",
       "days_exposition             -0.006834 -0.650575 -0.049909 -0.036328   \n",
       "total_images                -0.042541  0.164307 -0.003340 -0.003864   \n",
       "last_price                   0.045005 -0.036697 -0.011802 -0.026994   \n",
       "m2_price                     0.082654  0.048715 -0.025485 -0.014066   \n",
       "center_km                    0.350307  0.052721  0.009196  0.015250   \n",
       "\n",
       "                     days_exposition  total_images  last_price  m2_price  \\\n",
       "total_area                  0.142906      0.079686    0.754428  0.054478   \n",
       "living_area                 0.129191      0.056184    0.639086 -0.046591   \n",
       "living_ratio               -0.004876     -0.021559   -0.004427 -0.267300   \n",
       "kitchen_area                0.110525      0.125772    0.548683  0.289848   \n",
       "kitchen_ratio              -0.002029      0.042088   -0.107579  0.269476   \n",
       "ceiling_height              0.112126      0.034161    0.271591  0.040421   \n",
       "rooms                       0.121222      0.051694    0.483979 -0.157135   \n",
       "studio                           NaN           NaN         NaN       NaN   \n",
       "balcony                    -0.008864      0.091538    0.175979  0.261447   \n",
       "open_plan                        NaN           NaN         NaN       NaN   \n",
       "is_apartment               -0.072750      0.095959    0.008480  0.035191   \n",
       "floor                      -0.003851     -0.004761    0.157930  0.185073   \n",
       "floors_total                0.003670     -0.055890    0.103114  0.207643   \n",
       "city_center_nearest        -0.077944     -0.038750   -0.128082 -0.019081   \n",
       "parks_around3000            0.032852      0.043170    0.118093  0.075643   \n",
       "parks_nearest               0.031035     -0.033753   -0.017614  0.028815   \n",
       "ponds_around3000            0.030577     -0.022080    0.110178  0.128392   \n",
       "ponds_nearest              -0.045281      0.009314   -0.067357 -0.039194   \n",
       "airports_nearest           -0.006834     -0.042541    0.045005  0.082654   \n",
       "year                       -0.650575      0.164307   -0.036697  0.048715   \n",
       "month                      -0.049909     -0.003340   -0.011802 -0.025485   \n",
       "weekday                    -0.036328     -0.003864   -0.026994 -0.014066   \n",
       "days_exposition             1.000000     -0.061723    0.110689  0.027430   \n",
       "total_images               -0.061723      1.000000    0.158344  0.164923   \n",
       "last_price                  0.110689      0.158344    1.000000  0.646850   \n",
       "m2_price                    0.027430      0.164923    0.646850  1.000000   \n",
       "center_km                  -0.075369     -0.038697   -0.133263 -0.021983   \n",
       "\n",
       "                     center_km  \n",
       "total_area           -0.211880  \n",
       "living_area          -0.231453  \n",
       "living_ratio         -0.113100  \n",
       "kitchen_area         -0.102981  \n",
       "kitchen_ratio         0.076401  \n",
       "ceiling_height       -0.379260  \n",
       "rooms                -0.244930  \n",
       "studio                     NaN  \n",
       "balcony               0.223826  \n",
       "open_plan                  NaN  \n",
       "is_apartment          0.023291  \n",
       "floor                 0.254132  \n",
       "floors_total          0.395898  \n",
       "city_center_nearest   0.990627  \n",
       "parks_around3000     -0.202697  \n",
       "parks_nearest         0.090633  \n",
       "ponds_around3000     -0.237664  \n",
       "ponds_nearest         0.190062  \n",
       "airports_nearest      0.350307  \n",
       "year                  0.052721  \n",
       "month                 0.009196  \n",
       "weekday               0.015250  \n",
       "days_exposition      -0.075369  \n",
       "total_images         -0.038697  \n",
       "last_price           -0.133263  \n",
       "m2_price             -0.021983  \n",
       "center_km             1.000000  "
      ]
     },
     "execution_count": 100,
     "metadata": {},
     "output_type": "execute_result"
    }
   ],
   "source": [
    "center.corr()"
   ]
  },
  {
   "cell_type": "markdown",
   "metadata": {},
   "source": [
    "Треть коэффициентов значимо отличается в таблице для центра и таблице для региона, две трети незначимо. Высота потолков перестала играть роль. Ведь корреляция с высотой потолков на самом деле была корреляцией с центром - в центре квартиры выше и дороже, покупателям же высота потолков на самом деле не была причиной доплачивать. Изменилась роль близости к центру - в центре города от близости к центру цена не зависит. Стала более важной роль балконов. Это может быть случайно, а может иметь объяснение. Также как и некоторые другие изменения."
   ]
  },
  {
   "cell_type": "markdown",
   "metadata": {},
   "source": [
    "Посмотрим на разброс площади для центра."
   ]
  },
  {
   "cell_type": "code",
   "execution_count": 101,
   "metadata": {},
   "outputs": [
    {
     "data": {
      "text/plain": [
       "count    3802.000000\n",
       "mean       82.209100\n",
       "std        40.461059\n",
       "min        17.000000\n",
       "25%        53.000000\n",
       "50%        73.000000\n",
       "75%       100.000000\n",
       "max       298.000000\n",
       "Name: total_area, dtype: float64"
      ]
     },
     "execution_count": 101,
     "metadata": {},
     "output_type": "execute_result"
    }
   ],
   "source": [
    "center.total_area.describe()"
   ]
  },
  {
   "cell_type": "code",
   "execution_count": 102,
   "metadata": {},
   "outputs": [
    {
     "data": {
      "text/plain": [
       "count    21134.000000\n",
       "mean        59.123592\n",
       "std         28.241994\n",
       "min         14.000000\n",
       "25%         40.000000\n",
       "50%         52.000000\n",
       "75%         69.000000\n",
       "max        298.000000\n",
       "Name: total_area, dtype: float64"
      ]
     },
     "execution_count": 102,
     "metadata": {},
     "output_type": "execute_result"
    }
   ],
   "source": [
    "df.total_area.describe()"
   ]
  },
  {
   "cell_type": "markdown",
   "metadata": {},
   "source": [
    "В среднем площадь квартир в центре существенно больше чем по городу и области в целом."
   ]
  },
  {
   "cell_type": "code",
   "execution_count": 103,
   "metadata": {},
   "outputs": [
    {
     "data": {
      "text/plain": [
       "<AxesSubplot:xlabel='total_area', ylabel='m2_price'>"
      ]
     },
     "execution_count": 103,
     "metadata": {},
     "output_type": "execute_result"
    },
    {
     "data": {
      "image/png": "[encoded data removed]",
      "text/plain": [
       "<Figure size 432x288 with 1 Axes>"
      ]
     },
     "metadata": {
      "needs_background": "light"
     },
     "output_type": "display_data"
    }
   ],
   "source": [
    "center.plot(kind='scatter', \n",
    "        x='total_area', y='m2_price',\n",
    "       alpha=0.2,\n",
    "       )"
   ]
  },
  {
   "cell_type": "markdown",
   "metadata": {},
   "source": [
    "Диаграмма рассеяния изменилась таким образом, что исчезло маленькое дешевое жилье - нижняя левая часть. Это должно быть были маленькие невзрачные квартиры в хрущевках. "
   ]
  },
  {
   "cell_type": "code",
   "execution_count": 104,
   "metadata": {},
   "outputs": [
    {
     "data": {
      "image/png": "[encoded data removed]",
      "text/plain": [
       "<Figure size 432x288 with 1 Axes>"
      ]
     },
     "metadata": {
      "needs_background": "light"
     },
     "output_type": "display_data"
    }
   ],
   "source": [
    "from matplotlib import pyplot\n",
    "\n",
    "pyplot.hist(center.total_area, 100, alpha=0.5, label='center')\n",
    "pyplot.hist(df.total_area, 100, alpha=0.5, label='all')\n",
    "pyplot.legend(loc='upper right')\n",
    "pyplot.show()\n",
    "\n"
   ]
  },
  {
   "cell_type": "markdown",
   "metadata": {},
   "source": [
    "По гистограмме видно, что в центре пик смещен правее, и убывание более плавное. Также визуально видно, какую долю жилья составляет центр от общего жилья.\n",
    "\n",
    "Что касается цен - мы уже выше видели, что цены в центре дороже на жилье, но разница не существенная.\n",
    "\n",
    "Посмотрим на распределение числа комнат в центре."
   ]
  },
  {
   "cell_type": "code",
   "execution_count": 105,
   "metadata": {},
   "outputs": [
    {
     "data": {
      "image/png": "[encoded data removed]",
      "text/plain": [
       "<Figure size 432x288 with 1 Axes>"
      ]
     },
     "metadata": {
      "needs_background": "light"
     },
     "output_type": "display_data"
    }
   ],
   "source": [
    "pyplot.hist(center.rooms, 7, alpha=0.5, label='center')\n",
    "pyplot.hist(df.rooms, 7, alpha=0.5, label='all')\n",
    "pyplot.legend(loc='upper right')\n",
    "pyplot.show()"
   ]
  },
  {
   "cell_type": "markdown",
   "metadata": {},
   "source": [
    "В центре города в основном 2-3 комнатные квартиры и  однушек столько же сколько 4-комнатных, в то время как в целом по городу и области преобладают 1-2 комнатные квартиры. 3-комнатных меньше. А 4-комнатные – большая редкость. Что же касается 5-7 комнатных квартир, то практически все они располагаются в центре города. \n"
   ]
  },
  {
   "cell_type": "markdown",
   "metadata": {},
   "source": [
    "Теперь перейдем к высоте потолков."
   ]
  },
  {
   "cell_type": "code",
   "execution_count": 106,
   "metadata": {},
   "outputs": [
    {
     "data": {
      "image/png": "[encoded data removed]",
      "text/plain": [
       "<Figure size 432x288 with 1 Axes>"
      ]
     },
     "metadata": {
      "needs_background": "light"
     },
     "output_type": "display_data"
    }
   ],
   "source": [
    "pyplot.hist(center.ceiling_height, 50, alpha=0.5, label='center')\n",
    "pyplot.hist(df.ceiling_height, 50, alpha=0.5, label='all')\n",
    "pyplot.legend(loc='upper right')\n",
    "pyplot.show()"
   ]
  },
  {
   "cell_type": "markdown",
   "metadata": {},
   "source": [
    "<div class=\"alert alert-success\">\n",
    "<b>Комментарий ревьюера ✔️:</b> Гистограммы также проанализированы классно"
   ]
  },
  {
   "cell_type": "code",
   "execution_count": 107,
   "metadata": {},
   "outputs": [
    {
     "data": {
      "text/plain": [
       "count    13402.000000\n",
       "mean         2.720703\n",
       "std          0.263428\n",
       "min          2.000000\n",
       "25%          2.500000\n",
       "50%          2.650391\n",
       "75%          2.800781\n",
       "max          5.500000\n",
       "Name: ceiling_height, dtype: float64"
      ]
     },
     "execution_count": 107,
     "metadata": {},
     "output_type": "execute_result"
    }
   ],
   "source": [
    "df.ceiling_height.describe()"
   ]
  },
  {
   "cell_type": "code",
   "execution_count": 108,
   "metadata": {},
   "outputs": [
    {
     "data": {
      "text/plain": [
       "count    2556.000000\n",
       "mean        3.023438\n",
       "std         0.347168\n",
       "min         2.000000\n",
       "25%         2.779297\n",
       "50%         3.000000\n",
       "75%         3.199219\n",
       "max         5.500000\n",
       "Name: ceiling_height, dtype: float64"
      ]
     },
     "execution_count": 108,
     "metadata": {},
     "output_type": "execute_result"
    }
   ],
   "source": [
    "center.ceiling_height.describe()"
   ]
  },
  {
   "cell_type": "markdown",
   "metadata": {},
   "source": [
    "Практически все квартиры с высотой потолков выше 3.1 метра находятся в центре города.\n",
    "\n",
    "В среднем высота потолков в центре выше на 30-40 сантиметров, о чем красноречиво говорит сравнение квартилей по региону и по центру.\n",
    "\n",
    "Посмотрим, как число комнат влияет на цену в центре города."
   ]
  },
  {
   "cell_type": "code",
   "execution_count": 109,
   "metadata": {},
   "outputs": [
    {
     "name": "stdout",
     "output_type": "stream",
     "text": [
      "1 135603.5\n",
      "2 122727.0\n",
      "3 114421.5\n",
      "4 107397.0\n",
      "5 96077.0\n",
      "6 96732.0\n",
      "7 107329.5\n"
     ]
    }
   ],
   "source": [
    "for rooms, slice in center.groupby('rooms'):\n",
    "    print(rooms, slice['m2_price'].median())"
   ]
  },
  {
   "cell_type": "code",
   "execution_count": 110,
   "metadata": {},
   "outputs": [
    {
     "name": "stdout",
     "output_type": "stream",
     "text": [
      "1 100000.0\n",
      "2 93023.0\n",
      "3 88983.0\n",
      "4 91837.0\n",
      "5 92481.0\n",
      "6 94068.0\n",
      "7 106398.0\n"
     ]
    }
   ],
   "source": [
    "for rooms, slice in df.groupby('rooms'):\n",
    "    print(rooms, slice['m2_price'].median())"
   ]
  },
  {
   "cell_type": "code",
   "execution_count": 111,
   "metadata": {},
   "outputs": [
    {
     "data": {
      "text/plain": [
       "<AxesSubplot:xlabel='rooms', ylabel='m2_price'>"
      ]
     },
     "execution_count": 111,
     "metadata": {},
     "output_type": "execute_result"
    },
    {
     "data": {
      "image/png": "[encoded data removed]",
      "text/plain": [
       "<Figure size 432x288 with 1 Axes>"
      ]
     },
     "metadata": {
      "needs_background": "light"
     },
     "output_type": "display_data"
    }
   ],
   "source": [
    "center.plot(kind='scatter', \n",
    "        x='rooms', y='m2_price',\n",
    "       alpha=0.1,\n",
    "       )"
   ]
  },
  {
   "cell_type": "markdown",
   "metadata": {},
   "source": [
    "Почему-то  квартиры с малым числом комнат в центре стоят существенно дороже чем с большим.  И это соотношение несопоставимо с ситуацией по городу и области в целом.\n",
    "\n",
    "Возможно, людям просто и не нужны особо квартиры с большим числом комнат. Поэтому спрос на них меньше.\n",
    "\n",
    "Посмотрим на фактор удаленности от центра в случае центра."
   ]
  },
  {
   "cell_type": "code",
   "execution_count": 112,
   "metadata": {},
   "outputs": [
    {
     "name": "stdout",
     "output_type": "stream",
     "text": [
      "0 128006.0\n",
      "1 121739.0\n",
      "2 112024.0\n",
      "3 108981.0\n",
      "4 124669.0\n",
      "5 124359.0\n",
      "6 124791.5\n",
      "7 124166.0\n",
      "8 113750.0\n"
     ]
    }
   ],
   "source": [
    "for rooms, slice in center.groupby('center_km'):\n",
    "    print(rooms, slice['m2_price'].median())"
   ]
  },
  {
   "cell_type": "markdown",
   "metadata": {},
   "source": [
    "Как видим, внутри центра нет зависимости цены от расстояния до центра. Разброс случаен."
   ]
  },
  {
   "cell_type": "markdown",
   "metadata": {},
   "source": [
    "Посмотрим на изменение цены от года."
   ]
  },
  {
   "cell_type": "code",
   "execution_count": 113,
   "metadata": {},
   "outputs": [
    {
     "name": "stdout",
     "output_type": "stream",
     "text": [
      "2014 139358.5\n",
      "2015 117391.0\n",
      "2016 115179.0\n",
      "2017 117192.0\n",
      "2018 120370.0\n",
      "2019 132706.0\n"
     ]
    }
   ],
   "source": [
    "for rooms, slice in center.groupby('year'):\n",
    "    print(rooms, slice['m2_price'].median())"
   ]
  },
  {
   "cell_type": "markdown",
   "metadata": {},
   "source": [
    "Изменения цен в центре Петербурга коррелируют с изменениями цен в целом по городу и области - с 14ого года цены падали, и к 19ому году снова возросли. В случае с центром, они обогнали изначальный уровень цен.\n",
    "\n",
    "Посмотрим на изменение цен в течение года."
   ]
  },
  {
   "cell_type": "code",
   "execution_count": 114,
   "metadata": {},
   "outputs": [
    {
     "name": "stdout",
     "output_type": "stream",
     "text": [
      "1 123733.0\n",
      "2 118557.0\n",
      "3 127207.0\n",
      "4 118975.0\n",
      "5 125610.0\n",
      "6 114659.0\n",
      "7 117305.0\n",
      "8 121356.0\n",
      "9 121698.0\n",
      "10 118496.0\n",
      "11 118085.0\n",
      "12 119208.5\n"
     ]
    }
   ],
   "source": [
    "for rooms, slice in center.groupby('month'):\n",
    "    print(rooms, slice['m2_price'].median())"
   ]
  },
  {
   "cell_type": "markdown",
   "metadata": {},
   "source": [
    "Цена минимальная в июне-июле и октябре-декабре. В целом, эти данные соответствуют данным по городу и области."
   ]
  },
  {
   "cell_type": "markdown",
   "metadata": {},
   "source": [
    "#### Итог по центру"
   ]
  },
  {
   "cell_type": "markdown",
   "metadata": {},
   "source": [
    "Рынок жилья в центре города отличается от жилья по Петербургу и Ленобласти очень существенно в плане самого жилья, какое оно есть. В жилищах в среднем заметно больше комнат, выше потолки, больше площадь. По всему региону практически нет никаких квартир с числом комнат 5+ и потолками 3.1+, кроме как в дореволюционном Петербурге. \n",
    "\n",
    "С одной стороны, можно сказать о более высоких стандартах жилья в дореволюционное время, а с другой стороны - о безумно высокой дихотомии общества до революции: одни люди жили в роскошных огромных высоченных квартирах за счет жесткой беспощадной эксплуатации других людей, живших в жалких лачугах, на которые было больно смотреть и которые, очевидно, к нашему дню не сохранились.\n",
    "\n",
    "В наше время общество существенно более равное, и жилье куда более \"равное\". Сейчас почти каждый живет в квартирах хоть и похуже стандартом, чем тогда у знати, но существенно лучше, чем в которых жил простой эксплуатируемый класс людей."
   ]
  },
  {
   "cell_type": "markdown",
   "metadata": {},
   "source": [
    "### Расстояние до аэропорта"
   ]
  },
  {
   "cell_type": "markdown",
   "metadata": {},
   "source": [
    "Сделаем также небольшое исследование о зависимости расстояния до аэропорта на цену."
   ]
  },
  {
   "cell_type": "code",
   "execution_count": 115,
   "metadata": {},
   "outputs": [
    {
     "data": {
      "text/plain": [
       "<AxesSubplot:>"
      ]
     },
     "execution_count": 115,
     "metadata": {},
     "output_type": "execute_result"
    },
    {
     "data": {
      "image/png": "[encoded data removed]",
      "text/plain": [
       "<Figure size 1152x576 with 1 Axes>"
      ]
     },
     "metadata": {
      "needs_background": "light"
     },
     "output_type": "display_data"
    }
   ],
   "source": [
    "df['airports_nearest'].hist(bins=100, figsize=(16, 8))"
   ]
  },
  {
   "cell_type": "markdown",
   "metadata": {},
   "source": [
    "Большинство предложений находится в районе 10-40км, что соответствует Петербургу внутри КАД."
   ]
  },
  {
   "cell_type": "code",
   "execution_count": 116,
   "metadata": {},
   "outputs": [
    {
     "name": "stdout",
     "output_type": "stream",
     "text": [
      "км до аэропорта | средняя цена(тыс.р/м2)\n",
      "0 200.0\n",
      "6 99.0\n",
      "7 115.0\n",
      "8 105.0\n",
      "9 119.0\n",
      "10 116.0\n",
      "11 113.0\n",
      "12 101.0\n",
      "13 100.0\n",
      "14 100.0\n",
      "15 106.0\n",
      "16 98.0\n",
      "17 102.0\n",
      "18 100.0\n",
      "19 103.0\n",
      "20 105.0\n",
      "21 102.0\n",
      "22 110.0\n",
      "23 117.0\n",
      "24 116.0\n",
      "25 112.0\n",
      "26 112.0\n",
      "27 115.0\n",
      "28 106.0\n",
      "29 111.0\n",
      "30 120.0\n",
      "31 121.0\n",
      "32 116.0\n"
     ]
    }
   ],
   "source": [
    "df['airport_km'] = df['airports_nearest'] // 1000\n",
    "print('км до аэропорта | средняя цена(тыс.р/м2)')\n",
    "for km, slice1 in df.groupby('airport_km'):\n",
    "    print(km, (slice1['m2_price'].mean() / 1000).round())\n",
    "    if km >= 32:\n",
    "        break"
   ]
  },
  {
   "cell_type": "markdown",
   "metadata": {},
   "source": [
    "На основе карт мы посмотрели, что от аэропорта до южной окраины центра - 13 км. До северного края центра - 20 км. А 32 км - расстояние от аэропорта до крайнего севера города. Центр сильно искажает нашу сводную таблицу, так как центр дорог сам по себе независимо от аэропорта.\n",
    " \n",
    "Никакой зависимости цены от расстояния до аэропорта мы не наблюдаем. Север и юг города стоят одинаково. Север даже немного подороже."
   ]
  },
  {
   "cell_type": "markdown",
   "metadata": {},
   "source": [
    "### Вывод"
   ]
  },
  {
   "cell_type": "markdown",
   "metadata": {
    "tags": []
   },
   "source": [
    "На этапе исследовательского анализа данных мы построили очень большое количество гистограмм, матриц рассеяния, сделали много сводных таблиц, а также вывели на экран огромную матрицу корреляции, заполненную коэффициентами Пирсона.\n",
    "\n",
    "Среди факторов, влияющих на цену, есть тип этажа (первый/последний/другой), год, месяц публикации объявления, площадь и, однозначно, расстояние до центра."
   ]
  },
  {
   "cell_type": "markdown",
   "metadata": {
    "tags": []
   },
   "source": [
    "## Общий вывод"
   ]
  },
  {
   "cell_type": "markdown",
   "metadata": {},
   "source": [
    "Мы произвели огромное исследование, занявшее несколько полных дней. Сделали десятки сводных таблиц и гистограмм. \n",
    "\n",
    "Исследование было хоть и муторным, но интересным. Мы сделали как много разных небольших неожиданных интересных выводов, так и несколько общих ожидаемых выводов.\n",
    "\n",
    "Главный параметр недвижмости - цена за квадратный метр. Мы не на словах, а на деле показали что она зависит от расстояния до центра (при этом перестает играть роль в самом центре), от площади квартиры (меньше площадь - больше цена), от числа парков и прудов в округе и др. параметров.\n",
    "\n",
    "Удалось выявить от чего цена не зависит - например, от дня публикации объявления и расстояния до аэропорта. \n",
    "\n",
    "Данное исследование развило существенно наш скилл исследовательского анализа данных."
   ]
  }
 ],
 "metadata": {
  "kernelspec": {
   "display_name": "Python 3 (ipykernel)",
   "language": "python",
   "name": "python3"
  },
  "language_info": {
   "codemirror_mode": {
    "name": "ipython",
    "version": 3
   },
   "file_extension": ".py",
   "mimetype": "text/x-python",
   "name": "python",
   "nbconvert_exporter": "python",
   "pygments_lexer": "ipython3",
   "version": "3.9.12"
  },
  "toc": {
   "base_numbering": 1,
   "nav_menu": {},
   "number_sections": true,
   "sideBar": true,
   "skip_h1_title": true,
   "title_cell": "Содержание",
   "title_sidebar": "Contents",
   "toc_cell": true,
   "toc_position": {},
   "toc_section_display": true,
   "toc_window_display": false
  }
 },
 "nbformat": 4,
 "nbformat_minor": 4
}
